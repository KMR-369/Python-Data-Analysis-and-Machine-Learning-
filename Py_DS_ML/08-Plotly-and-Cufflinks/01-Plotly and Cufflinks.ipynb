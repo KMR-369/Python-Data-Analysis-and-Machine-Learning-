{
 "cells": [
  {
   "cell_type": "markdown",
   "metadata": {},
   "source": [
    "___\n",
    "\n",
    "<a href='http://www.pieriandata.com'> <img src='../Pierian_Data_Logo.png' /></a>\n",
    "___\n",
    "# Plotly and Cufflinks"
   ]
  },
  {
   "cell_type": "markdown",
   "metadata": {},
   "source": [
    "Plotly is a library that allows you to create interactive plots that you can use in dashboards or websites (you can save them as html files or static images).\n",
    "\n",
    "## Installation\n",
    "\n",
    "In order for this all to work, you'll need to install plotly and cufflinks to call plots directly off of a pandas dataframe. These libraries are not currently available through **conda** but are available through **pip**. Install the libraries at your command line/terminal using:\n",
    "\n",
    "    pip install plotly\n",
    "    pip install cufflinks\n",
    "\n",
    "** NOTE: Make sure you only have one installation of Python on your computer when you do this, otherwise the installation may not work. **\n",
    "\n",
    "## Imports and Set-up"
   ]
  },
  {
   "cell_type": "code",
   "execution_count": 1,
   "metadata": {},
   "outputs": [
    {
     "name": "stdout",
     "output_type": "stream",
     "text": [
      "Collecting plotly\n",
      "  Downloading plotly-5.19.0-py3-none-any.whl.metadata (7.0 kB)\n",
      "Collecting tenacity>=6.2.0 (from plotly)\n",
      "  Downloading tenacity-8.2.3-py3-none-any.whl.metadata (1.0 kB)\n",
      "Requirement already satisfied: packaging in /Users/MA20422878/Library/Python/3.11/lib/python/site-packages (from plotly) (21.3)\n",
      "Requirement already satisfied: pyparsing!=3.0.5,>=2.0.2 in /Users/MA20422878/Library/Python/3.11/lib/python/site-packages (from packaging->plotly) (3.0.9)\n",
      "Downloading plotly-5.19.0-py3-none-any.whl (15.7 MB)\n",
      "\u001b[2K   \u001b[90m━━━━━━━━━━━━━━━━━━━━━━━━━━━━━━━━━━━━━━━━\u001b[0m \u001b[32m15.7/15.7 MB\u001b[0m \u001b[31m1.2 MB/s\u001b[0m eta \u001b[36m0:00:00\u001b[0m00:01\u001b[0m00:01\u001b[0m0m\n",
      "\u001b[?25hDownloading tenacity-8.2.3-py3-none-any.whl (24 kB)\n",
      "Installing collected packages: tenacity, plotly\n",
      "Successfully installed plotly-5.19.0 tenacity-8.2.3\n",
      "Note: you may need to restart the kernel to use updated packages.\n"
     ]
    }
   ],
   "source": [
    "pip install plotly"
   ]
  },
  {
   "cell_type": "code",
   "execution_count": 2,
   "metadata": {},
   "outputs": [
    {
     "name": "stdout",
     "output_type": "stream",
     "text": [
      "Collecting cufflinks\n",
      "  Downloading cufflinks-0.17.3.tar.gz (81 kB)\n",
      "\u001b[2K     \u001b[90m━━━━━━━━━━━━━━━━━━━━━━━━━━━━━━━━━━━━━━━━\u001b[0m \u001b[32m81.7/81.7 kB\u001b[0m \u001b[31m1.9 MB/s\u001b[0m eta \u001b[36m0:00:00\u001b[0ma \u001b[36m0:00:01\u001b[0m\n",
      "\u001b[?25h  Preparing metadata (setup.py) ... \u001b[?25ldone\n",
      "\u001b[?25hRequirement already satisfied: numpy>=1.9.2 in /opt/homebrew/lib/python3.11/site-packages (from cufflinks) (1.26.4)\n",
      "Requirement already satisfied: pandas>=0.19.2 in /opt/homebrew/lib/python3.11/site-packages (from cufflinks) (2.2.0)\n",
      "Requirement already satisfied: plotly>=4.1.1 in /opt/homebrew/lib/python3.11/site-packages (from cufflinks) (5.19.0)\n",
      "Requirement already satisfied: six>=1.9.0 in /Users/MA20422878/Library/Python/3.11/lib/python/site-packages (from cufflinks) (1.16.0)\n",
      "Collecting colorlover>=0.2.1 (from cufflinks)\n",
      "  Downloading colorlover-0.3.0-py3-none-any.whl (8.9 kB)\n",
      "Requirement already satisfied: setuptools>=34.4.1 in /opt/homebrew/lib/python3.11/site-packages (from cufflinks) (69.0.2)\n",
      "Requirement already satisfied: ipython>=5.3.0 in /Users/MA20422878/Library/Python/3.11/lib/python/site-packages (from cufflinks) (8.6.0)\n",
      "Requirement already satisfied: ipywidgets>=7.0.0 in /Users/MA20422878/Library/Python/3.11/lib/python/site-packages (from cufflinks) (8.0.2)\n",
      "Requirement already satisfied: backcall in /Users/MA20422878/Library/Python/3.11/lib/python/site-packages (from ipython>=5.3.0->cufflinks) (0.2.0)\n",
      "Requirement already satisfied: decorator in /Users/MA20422878/Library/Python/3.11/lib/python/site-packages (from ipython>=5.3.0->cufflinks) (5.1.1)\n",
      "Requirement already satisfied: jedi>=0.16 in /Users/MA20422878/Library/Python/3.11/lib/python/site-packages (from ipython>=5.3.0->cufflinks) (0.18.2)\n",
      "Requirement already satisfied: matplotlib-inline in /Users/MA20422878/Library/Python/3.11/lib/python/site-packages (from ipython>=5.3.0->cufflinks) (0.1.6)\n",
      "Requirement already satisfied: pickleshare in /Users/MA20422878/Library/Python/3.11/lib/python/site-packages (from ipython>=5.3.0->cufflinks) (0.7.5)\n",
      "Requirement already satisfied: prompt-toolkit<3.1.0,>3.0.1 in /Users/MA20422878/Library/Python/3.11/lib/python/site-packages (from ipython>=5.3.0->cufflinks) (3.0.33)\n",
      "Requirement already satisfied: pygments>=2.4.0 in /Users/MA20422878/Library/Python/3.11/lib/python/site-packages (from ipython>=5.3.0->cufflinks) (2.13.0)\n",
      "Requirement already satisfied: stack-data in /Users/MA20422878/Library/Python/3.11/lib/python/site-packages (from ipython>=5.3.0->cufflinks) (0.6.1)\n",
      "Requirement already satisfied: traitlets>=5 in /Users/MA20422878/Library/Python/3.11/lib/python/site-packages (from ipython>=5.3.0->cufflinks) (5.5.0)\n",
      "Requirement already satisfied: pexpect>4.3 in /Users/MA20422878/Library/Python/3.11/lib/python/site-packages (from ipython>=5.3.0->cufflinks) (4.8.0)\n",
      "Requirement already satisfied: appnope in /Users/MA20422878/Library/Python/3.11/lib/python/site-packages (from ipython>=5.3.0->cufflinks) (0.1.3)\n",
      "Requirement already satisfied: ipykernel>=4.5.1 in /Users/MA20422878/Library/Python/3.11/lib/python/site-packages (from ipywidgets>=7.0.0->cufflinks) (6.17.1)\n",
      "Requirement already satisfied: widgetsnbextension~=4.0 in /Users/MA20422878/Library/Python/3.11/lib/python/site-packages (from ipywidgets>=7.0.0->cufflinks) (4.0.3)\n",
      "Requirement already satisfied: jupyterlab-widgets~=3.0 in /Users/MA20422878/Library/Python/3.11/lib/python/site-packages (from ipywidgets>=7.0.0->cufflinks) (3.0.3)\n",
      "Requirement already satisfied: python-dateutil>=2.8.2 in /Users/MA20422878/Library/Python/3.11/lib/python/site-packages (from pandas>=0.19.2->cufflinks) (2.8.2)\n",
      "Requirement already satisfied: pytz>=2020.1 in /opt/homebrew/lib/python3.11/site-packages (from pandas>=0.19.2->cufflinks) (2024.1)\n",
      "Requirement already satisfied: tzdata>=2022.7 in /opt/homebrew/lib/python3.11/site-packages (from pandas>=0.19.2->cufflinks) (2024.1)\n",
      "Requirement already satisfied: tenacity>=6.2.0 in /opt/homebrew/lib/python3.11/site-packages (from plotly>=4.1.1->cufflinks) (8.2.3)\n",
      "Requirement already satisfied: packaging in /Users/MA20422878/Library/Python/3.11/lib/python/site-packages (from plotly>=4.1.1->cufflinks) (21.3)\n",
      "Requirement already satisfied: debugpy>=1.0 in /Users/MA20422878/Library/Python/3.11/lib/python/site-packages (from ipykernel>=4.5.1->ipywidgets>=7.0.0->cufflinks) (1.6.3)\n",
      "Requirement already satisfied: jupyter-client>=6.1.12 in /Users/MA20422878/Library/Python/3.11/lib/python/site-packages (from ipykernel>=4.5.1->ipywidgets>=7.0.0->cufflinks) (7.4.7)\n",
      "Requirement already satisfied: nest-asyncio in /Users/MA20422878/Library/Python/3.11/lib/python/site-packages (from ipykernel>=4.5.1->ipywidgets>=7.0.0->cufflinks) (1.5.6)\n",
      "Requirement already satisfied: psutil in /Users/MA20422878/Library/Python/3.11/lib/python/site-packages (from ipykernel>=4.5.1->ipywidgets>=7.0.0->cufflinks) (5.9.4)\n",
      "Requirement already satisfied: pyzmq>=17 in /Users/MA20422878/Library/Python/3.11/lib/python/site-packages (from ipykernel>=4.5.1->ipywidgets>=7.0.0->cufflinks) (24.0.1)\n",
      "Requirement already satisfied: tornado>=6.1 in /Users/MA20422878/Library/Python/3.11/lib/python/site-packages (from ipykernel>=4.5.1->ipywidgets>=7.0.0->cufflinks) (6.2)\n",
      "Requirement already satisfied: parso<0.9.0,>=0.8.0 in /Users/MA20422878/Library/Python/3.11/lib/python/site-packages (from jedi>=0.16->ipython>=5.3.0->cufflinks) (0.8.3)\n",
      "Requirement already satisfied: ptyprocess>=0.5 in /Users/MA20422878/Library/Python/3.11/lib/python/site-packages (from pexpect>4.3->ipython>=5.3.0->cufflinks) (0.7.0)\n",
      "Requirement already satisfied: wcwidth in /Users/MA20422878/Library/Python/3.11/lib/python/site-packages (from prompt-toolkit<3.1.0,>3.0.1->ipython>=5.3.0->cufflinks) (0.2.5)\n",
      "Requirement already satisfied: pyparsing!=3.0.5,>=2.0.2 in /Users/MA20422878/Library/Python/3.11/lib/python/site-packages (from packaging->plotly>=4.1.1->cufflinks) (3.0.9)\n",
      "Requirement already satisfied: executing>=1.2.0 in /Users/MA20422878/Library/Python/3.11/lib/python/site-packages (from stack-data->ipython>=5.3.0->cufflinks) (1.2.0)\n",
      "Requirement already satisfied: asttokens>=2.1.0 in /Users/MA20422878/Library/Python/3.11/lib/python/site-packages (from stack-data->ipython>=5.3.0->cufflinks) (2.1.0)\n",
      "Requirement already satisfied: pure-eval in /Users/MA20422878/Library/Python/3.11/lib/python/site-packages (from stack-data->ipython>=5.3.0->cufflinks) (0.2.2)\n",
      "Requirement already satisfied: entrypoints in /Users/MA20422878/Library/Python/3.11/lib/python/site-packages (from jupyter-client>=6.1.12->ipykernel>=4.5.1->ipywidgets>=7.0.0->cufflinks) (0.4)\n",
      "Requirement already satisfied: jupyter-core>=4.9.2 in /Users/MA20422878/Library/Python/3.11/lib/python/site-packages (from jupyter-client>=6.1.12->ipykernel>=4.5.1->ipywidgets>=7.0.0->cufflinks) (5.0.0)\n",
      "Requirement already satisfied: platformdirs in /Users/MA20422878/Library/Python/3.11/lib/python/site-packages (from jupyter-core>=4.9.2->jupyter-client>=6.1.12->ipykernel>=4.5.1->ipywidgets>=7.0.0->cufflinks) (2.5.4)\n",
      "Building wheels for collected packages: cufflinks\n",
      "  Building wheel for cufflinks (setup.py) ... \u001b[?25ldone\n",
      "\u001b[?25h  Created wheel for cufflinks: filename=cufflinks-0.17.3-py3-none-any.whl size=67901 sha256=3222c3e9ca00f0e03733d80265350e4694f6e6c5fa97594f4a8bf9370aead957\n",
      "  Stored in directory: /Users/MA20422878/Library/Caches/pip/wheels/c3/bf/8f/afa0730b29e347e8c1071049f89748c1262e7a14a838820ae6\n",
      "Successfully built cufflinks\n",
      "Installing collected packages: colorlover, cufflinks\n",
      "Successfully installed colorlover-0.3.0 cufflinks-0.17.3\n",
      "Note: you may need to restart the kernel to use updated packages.\n"
     ]
    }
   ],
   "source": [
    "pip install cufflinks"
   ]
  },
  {
   "cell_type": "code",
   "execution_count": 3,
   "metadata": {
    "collapsed": true
   },
   "outputs": [],
   "source": [
    "import pandas as pd\n",
    "import numpy as np\n",
    "%matplotlib inline"
   ]
  },
  {
   "cell_type": "code",
   "execution_count": 4,
   "metadata": {
    "collapsed": false
   },
   "outputs": [
    {
     "name": "stdout",
     "output_type": "stream",
     "text": [
      "5.19.0\n"
     ]
    }
   ],
   "source": [
    "from plotly import __version__\n",
    "from plotly.offline import download_plotlyjs, init_notebook_mode, plot, iplot\n",
    "\n",
    "print(__version__) # requires version >= 1.9.0"
   ]
  },
  {
   "cell_type": "code",
   "execution_count": 5,
   "metadata": {
    "collapsed": true
   },
   "outputs": [],
   "source": [
    "import cufflinks as cf"
   ]
  },
  {
   "cell_type": "code",
   "execution_count": 6,
   "metadata": {
    "collapsed": false
   },
   "outputs": [
    {
     "data": {
      "text/html": [
       "        <script type=\"text/javascript\">\n",
       "        window.PlotlyConfig = {MathJaxConfig: 'local'};\n",
       "        if (window.MathJax && window.MathJax.Hub && window.MathJax.Hub.Config) {window.MathJax.Hub.Config({SVG: {font: \"STIX-Web\"}});}\n",
       "        if (typeof require !== 'undefined') {\n",
       "        require.undef(\"plotly\");\n",
       "        requirejs.config({\n",
       "            paths: {\n",
       "                'plotly': ['https://cdn.plot.ly/plotly-2.29.1.min']\n",
       "            }\n",
       "        });\n",
       "        require(['plotly'], function(Plotly) {\n",
       "            window._Plotly = Plotly;\n",
       "        });\n",
       "        }\n",
       "        </script>\n",
       "        "
      ]
     },
     "metadata": {},
     "output_type": "display_data"
    }
   ],
   "source": [
    "# For Notebooks\n",
    "init_notebook_mode(connected=True)"
   ]
  },
  {
   "cell_type": "code",
   "execution_count": 7,
   "metadata": {
    "collapsed": false
   },
   "outputs": [
    {
     "data": {
      "text/html": [
       "        <script type=\"text/javascript\">\n",
       "        window.PlotlyConfig = {MathJaxConfig: 'local'};\n",
       "        if (window.MathJax && window.MathJax.Hub && window.MathJax.Hub.Config) {window.MathJax.Hub.Config({SVG: {font: \"STIX-Web\"}});}\n",
       "        if (typeof require !== 'undefined') {\n",
       "        require.undef(\"plotly\");\n",
       "        requirejs.config({\n",
       "            paths: {\n",
       "                'plotly': ['https://cdn.plot.ly/plotly-2.29.1.min']\n",
       "            }\n",
       "        });\n",
       "        require(['plotly'], function(Plotly) {\n",
       "            window._Plotly = Plotly;\n",
       "        });\n",
       "        }\n",
       "        </script>\n",
       "        "
      ]
     },
     "metadata": {},
     "output_type": "display_data"
    }
   ],
   "source": [
    "# For offline use\n",
    "cf.go_offline()"
   ]
  },
  {
   "cell_type": "markdown",
   "metadata": {},
   "source": [
    "### Fake Data"
   ]
  },
  {
   "cell_type": "code",
   "execution_count": null,
   "metadata": {},
   "outputs": [],
   "source": []
  },
  {
   "cell_type": "code",
   "execution_count": 8,
   "metadata": {
    "collapsed": false
   },
   "outputs": [],
   "source": [
    "df = pd.DataFrame(np.random.randn(100,4),columns='A B C D'.split())"
   ]
  },
  {
   "cell_type": "code",
   "execution_count": 9,
   "metadata": {
    "collapsed": false
   },
   "outputs": [
    {
     "data": {
      "text/html": [
       "<div>\n",
       "<style scoped>\n",
       "    .dataframe tbody tr th:only-of-type {\n",
       "        vertical-align: middle;\n",
       "    }\n",
       "\n",
       "    .dataframe tbody tr th {\n",
       "        vertical-align: top;\n",
       "    }\n",
       "\n",
       "    .dataframe thead th {\n",
       "        text-align: right;\n",
       "    }\n",
       "</style>\n",
       "<table border=\"1\" class=\"dataframe\">\n",
       "  <thead>\n",
       "    <tr style=\"text-align: right;\">\n",
       "      <th></th>\n",
       "      <th>A</th>\n",
       "      <th>B</th>\n",
       "      <th>C</th>\n",
       "      <th>D</th>\n",
       "    </tr>\n",
       "  </thead>\n",
       "  <tbody>\n",
       "    <tr>\n",
       "      <th>0</th>\n",
       "      <td>0.404689</td>\n",
       "      <td>-0.036357</td>\n",
       "      <td>0.533389</td>\n",
       "      <td>-0.282586</td>\n",
       "    </tr>\n",
       "    <tr>\n",
       "      <th>1</th>\n",
       "      <td>1.163461</td>\n",
       "      <td>0.642398</td>\n",
       "      <td>1.071325</td>\n",
       "      <td>1.063357</td>\n",
       "    </tr>\n",
       "    <tr>\n",
       "      <th>2</th>\n",
       "      <td>0.238310</td>\n",
       "      <td>0.061962</td>\n",
       "      <td>-1.470801</td>\n",
       "      <td>-2.100169</td>\n",
       "    </tr>\n",
       "    <tr>\n",
       "      <th>3</th>\n",
       "      <td>-0.453135</td>\n",
       "      <td>-0.595452</td>\n",
       "      <td>-0.286222</td>\n",
       "      <td>1.044637</td>\n",
       "    </tr>\n",
       "    <tr>\n",
       "      <th>4</th>\n",
       "      <td>0.637942</td>\n",
       "      <td>-1.549213</td>\n",
       "      <td>1.407366</td>\n",
       "      <td>0.595343</td>\n",
       "    </tr>\n",
       "    <tr>\n",
       "      <th>5</th>\n",
       "      <td>-1.443814</td>\n",
       "      <td>0.931158</td>\n",
       "      <td>0.506118</td>\n",
       "      <td>-0.284692</td>\n",
       "    </tr>\n",
       "    <tr>\n",
       "      <th>6</th>\n",
       "      <td>1.800947</td>\n",
       "      <td>0.668820</td>\n",
       "      <td>0.548608</td>\n",
       "      <td>-0.283736</td>\n",
       "    </tr>\n",
       "    <tr>\n",
       "      <th>7</th>\n",
       "      <td>-0.701907</td>\n",
       "      <td>-1.746809</td>\n",
       "      <td>0.183517</td>\n",
       "      <td>1.439558</td>\n",
       "    </tr>\n",
       "    <tr>\n",
       "      <th>8</th>\n",
       "      <td>-0.811413</td>\n",
       "      <td>-0.169677</td>\n",
       "      <td>0.165198</td>\n",
       "      <td>-0.119373</td>\n",
       "    </tr>\n",
       "    <tr>\n",
       "      <th>9</th>\n",
       "      <td>-0.194530</td>\n",
       "      <td>-0.163947</td>\n",
       "      <td>-0.337987</td>\n",
       "      <td>0.520002</td>\n",
       "    </tr>\n",
       "    <tr>\n",
       "      <th>10</th>\n",
       "      <td>-0.729389</td>\n",
       "      <td>0.975155</td>\n",
       "      <td>-0.719378</td>\n",
       "      <td>0.496109</td>\n",
       "    </tr>\n",
       "    <tr>\n",
       "      <th>11</th>\n",
       "      <td>0.606318</td>\n",
       "      <td>-1.116024</td>\n",
       "      <td>-0.802808</td>\n",
       "      <td>0.367064</td>\n",
       "    </tr>\n",
       "    <tr>\n",
       "      <th>12</th>\n",
       "      <td>1.026049</td>\n",
       "      <td>-0.071567</td>\n",
       "      <td>2.562154</td>\n",
       "      <td>-0.542736</td>\n",
       "    </tr>\n",
       "    <tr>\n",
       "      <th>13</th>\n",
       "      <td>-0.974560</td>\n",
       "      <td>-0.143315</td>\n",
       "      <td>0.629791</td>\n",
       "      <td>-0.013557</td>\n",
       "    </tr>\n",
       "    <tr>\n",
       "      <th>14</th>\n",
       "      <td>0.128450</td>\n",
       "      <td>0.970110</td>\n",
       "      <td>1.322162</td>\n",
       "      <td>-1.584118</td>\n",
       "    </tr>\n",
       "    <tr>\n",
       "      <th>15</th>\n",
       "      <td>-0.734195</td>\n",
       "      <td>1.103287</td>\n",
       "      <td>-0.907877</td>\n",
       "      <td>-0.398216</td>\n",
       "    </tr>\n",
       "    <tr>\n",
       "      <th>16</th>\n",
       "      <td>-0.936946</td>\n",
       "      <td>-1.357386</td>\n",
       "      <td>-0.251875</td>\n",
       "      <td>0.396724</td>\n",
       "    </tr>\n",
       "    <tr>\n",
       "      <th>17</th>\n",
       "      <td>-1.155665</td>\n",
       "      <td>1.401711</td>\n",
       "      <td>0.621315</td>\n",
       "      <td>-0.732545</td>\n",
       "    </tr>\n",
       "    <tr>\n",
       "      <th>18</th>\n",
       "      <td>0.551742</td>\n",
       "      <td>0.349224</td>\n",
       "      <td>0.149647</td>\n",
       "      <td>0.609026</td>\n",
       "    </tr>\n",
       "    <tr>\n",
       "      <th>19</th>\n",
       "      <td>1.470943</td>\n",
       "      <td>1.149550</td>\n",
       "      <td>1.403264</td>\n",
       "      <td>1.401648</td>\n",
       "    </tr>\n",
       "    <tr>\n",
       "      <th>20</th>\n",
       "      <td>0.110988</td>\n",
       "      <td>-0.255786</td>\n",
       "      <td>0.412916</td>\n",
       "      <td>1.536330</td>\n",
       "    </tr>\n",
       "    <tr>\n",
       "      <th>21</th>\n",
       "      <td>-0.872040</td>\n",
       "      <td>-0.322863</td>\n",
       "      <td>-0.200685</td>\n",
       "      <td>0.359577</td>\n",
       "    </tr>\n",
       "    <tr>\n",
       "      <th>22</th>\n",
       "      <td>-0.725573</td>\n",
       "      <td>-0.634472</td>\n",
       "      <td>0.422187</td>\n",
       "      <td>0.836598</td>\n",
       "    </tr>\n",
       "    <tr>\n",
       "      <th>23</th>\n",
       "      <td>0.876214</td>\n",
       "      <td>0.663031</td>\n",
       "      <td>0.987740</td>\n",
       "      <td>0.374504</td>\n",
       "    </tr>\n",
       "    <tr>\n",
       "      <th>24</th>\n",
       "      <td>-0.725666</td>\n",
       "      <td>0.538341</td>\n",
       "      <td>-0.479055</td>\n",
       "      <td>-0.471422</td>\n",
       "    </tr>\n",
       "    <tr>\n",
       "      <th>25</th>\n",
       "      <td>0.380446</td>\n",
       "      <td>-1.303921</td>\n",
       "      <td>0.196341</td>\n",
       "      <td>-0.286493</td>\n",
       "    </tr>\n",
       "    <tr>\n",
       "      <th>26</th>\n",
       "      <td>0.253098</td>\n",
       "      <td>0.141854</td>\n",
       "      <td>1.237886</td>\n",
       "      <td>-1.320986</td>\n",
       "    </tr>\n",
       "    <tr>\n",
       "      <th>27</th>\n",
       "      <td>-0.435223</td>\n",
       "      <td>0.427710</td>\n",
       "      <td>-0.888635</td>\n",
       "      <td>0.946366</td>\n",
       "    </tr>\n",
       "    <tr>\n",
       "      <th>28</th>\n",
       "      <td>-1.365033</td>\n",
       "      <td>0.751840</td>\n",
       "      <td>0.598340</td>\n",
       "      <td>0.880451</td>\n",
       "    </tr>\n",
       "    <tr>\n",
       "      <th>29</th>\n",
       "      <td>0.551801</td>\n",
       "      <td>1.539785</td>\n",
       "      <td>0.370655</td>\n",
       "      <td>1.859825</td>\n",
       "    </tr>\n",
       "    <tr>\n",
       "      <th>30</th>\n",
       "      <td>-1.619294</td>\n",
       "      <td>-0.537892</td>\n",
       "      <td>-0.513646</td>\n",
       "      <td>-0.824855</td>\n",
       "    </tr>\n",
       "    <tr>\n",
       "      <th>31</th>\n",
       "      <td>-0.159510</td>\n",
       "      <td>-1.317824</td>\n",
       "      <td>0.621555</td>\n",
       "      <td>0.497079</td>\n",
       "    </tr>\n",
       "    <tr>\n",
       "      <th>32</th>\n",
       "      <td>-1.036468</td>\n",
       "      <td>0.124925</td>\n",
       "      <td>-1.188274</td>\n",
       "      <td>-0.119561</td>\n",
       "    </tr>\n",
       "    <tr>\n",
       "      <th>33</th>\n",
       "      <td>-0.782228</td>\n",
       "      <td>-2.159228</td>\n",
       "      <td>-1.124198</td>\n",
       "      <td>0.348651</td>\n",
       "    </tr>\n",
       "    <tr>\n",
       "      <th>34</th>\n",
       "      <td>-0.596293</td>\n",
       "      <td>-0.082781</td>\n",
       "      <td>0.046135</td>\n",
       "      <td>-0.108999</td>\n",
       "    </tr>\n",
       "    <tr>\n",
       "      <th>35</th>\n",
       "      <td>1.462246</td>\n",
       "      <td>-0.618157</td>\n",
       "      <td>0.305958</td>\n",
       "      <td>-0.511316</td>\n",
       "    </tr>\n",
       "    <tr>\n",
       "      <th>36</th>\n",
       "      <td>-0.042940</td>\n",
       "      <td>-0.116736</td>\n",
       "      <td>1.982661</td>\n",
       "      <td>-1.233831</td>\n",
       "    </tr>\n",
       "    <tr>\n",
       "      <th>37</th>\n",
       "      <td>-1.201449</td>\n",
       "      <td>-0.137700</td>\n",
       "      <td>1.133510</td>\n",
       "      <td>0.709697</td>\n",
       "    </tr>\n",
       "    <tr>\n",
       "      <th>38</th>\n",
       "      <td>-0.786809</td>\n",
       "      <td>1.079604</td>\n",
       "      <td>0.763176</td>\n",
       "      <td>-0.832461</td>\n",
       "    </tr>\n",
       "    <tr>\n",
       "      <th>39</th>\n",
       "      <td>-1.350711</td>\n",
       "      <td>0.567222</td>\n",
       "      <td>-1.065013</td>\n",
       "      <td>0.848839</td>\n",
       "    </tr>\n",
       "    <tr>\n",
       "      <th>40</th>\n",
       "      <td>1.500353</td>\n",
       "      <td>-0.086372</td>\n",
       "      <td>-0.793481</td>\n",
       "      <td>-0.628522</td>\n",
       "    </tr>\n",
       "    <tr>\n",
       "      <th>41</th>\n",
       "      <td>0.583649</td>\n",
       "      <td>-1.133130</td>\n",
       "      <td>-0.864041</td>\n",
       "      <td>0.664191</td>\n",
       "    </tr>\n",
       "    <tr>\n",
       "      <th>42</th>\n",
       "      <td>-0.490007</td>\n",
       "      <td>1.229072</td>\n",
       "      <td>-0.903277</td>\n",
       "      <td>0.134323</td>\n",
       "    </tr>\n",
       "    <tr>\n",
       "      <th>43</th>\n",
       "      <td>-0.224691</td>\n",
       "      <td>-0.761600</td>\n",
       "      <td>-0.581714</td>\n",
       "      <td>-0.563391</td>\n",
       "    </tr>\n",
       "    <tr>\n",
       "      <th>44</th>\n",
       "      <td>0.935773</td>\n",
       "      <td>-0.102685</td>\n",
       "      <td>0.219081</td>\n",
       "      <td>-0.069363</td>\n",
       "    </tr>\n",
       "    <tr>\n",
       "      <th>45</th>\n",
       "      <td>1.614885</td>\n",
       "      <td>-0.001062</td>\n",
       "      <td>0.412653</td>\n",
       "      <td>1.075744</td>\n",
       "    </tr>\n",
       "    <tr>\n",
       "      <th>46</th>\n",
       "      <td>-0.529347</td>\n",
       "      <td>0.178530</td>\n",
       "      <td>-0.308217</td>\n",
       "      <td>-0.987966</td>\n",
       "    </tr>\n",
       "    <tr>\n",
       "      <th>47</th>\n",
       "      <td>-0.035046</td>\n",
       "      <td>-0.836973</td>\n",
       "      <td>-0.169022</td>\n",
       "      <td>-0.221733</td>\n",
       "    </tr>\n",
       "    <tr>\n",
       "      <th>48</th>\n",
       "      <td>-0.542716</td>\n",
       "      <td>0.564117</td>\n",
       "      <td>1.386328</td>\n",
       "      <td>0.001486</td>\n",
       "    </tr>\n",
       "    <tr>\n",
       "      <th>49</th>\n",
       "      <td>0.104661</td>\n",
       "      <td>-0.280914</td>\n",
       "      <td>-0.684859</td>\n",
       "      <td>-0.391488</td>\n",
       "    </tr>\n",
       "  </tbody>\n",
       "</table>\n",
       "</div>"
      ],
      "text/plain": [
       "           A         B         C         D\n",
       "0   0.404689 -0.036357  0.533389 -0.282586\n",
       "1   1.163461  0.642398  1.071325  1.063357\n",
       "2   0.238310  0.061962 -1.470801 -2.100169\n",
       "3  -0.453135 -0.595452 -0.286222  1.044637\n",
       "4   0.637942 -1.549213  1.407366  0.595343\n",
       "5  -1.443814  0.931158  0.506118 -0.284692\n",
       "6   1.800947  0.668820  0.548608 -0.283736\n",
       "7  -0.701907 -1.746809  0.183517  1.439558\n",
       "8  -0.811413 -0.169677  0.165198 -0.119373\n",
       "9  -0.194530 -0.163947 -0.337987  0.520002\n",
       "10 -0.729389  0.975155 -0.719378  0.496109\n",
       "11  0.606318 -1.116024 -0.802808  0.367064\n",
       "12  1.026049 -0.071567  2.562154 -0.542736\n",
       "13 -0.974560 -0.143315  0.629791 -0.013557\n",
       "14  0.128450  0.970110  1.322162 -1.584118\n",
       "15 -0.734195  1.103287 -0.907877 -0.398216\n",
       "16 -0.936946 -1.357386 -0.251875  0.396724\n",
       "17 -1.155665  1.401711  0.621315 -0.732545\n",
       "18  0.551742  0.349224  0.149647  0.609026\n",
       "19  1.470943  1.149550  1.403264  1.401648\n",
       "20  0.110988 -0.255786  0.412916  1.536330\n",
       "21 -0.872040 -0.322863 -0.200685  0.359577\n",
       "22 -0.725573 -0.634472  0.422187  0.836598\n",
       "23  0.876214  0.663031  0.987740  0.374504\n",
       "24 -0.725666  0.538341 -0.479055 -0.471422\n",
       "25  0.380446 -1.303921  0.196341 -0.286493\n",
       "26  0.253098  0.141854  1.237886 -1.320986\n",
       "27 -0.435223  0.427710 -0.888635  0.946366\n",
       "28 -1.365033  0.751840  0.598340  0.880451\n",
       "29  0.551801  1.539785  0.370655  1.859825\n",
       "30 -1.619294 -0.537892 -0.513646 -0.824855\n",
       "31 -0.159510 -1.317824  0.621555  0.497079\n",
       "32 -1.036468  0.124925 -1.188274 -0.119561\n",
       "33 -0.782228 -2.159228 -1.124198  0.348651\n",
       "34 -0.596293 -0.082781  0.046135 -0.108999\n",
       "35  1.462246 -0.618157  0.305958 -0.511316\n",
       "36 -0.042940 -0.116736  1.982661 -1.233831\n",
       "37 -1.201449 -0.137700  1.133510  0.709697\n",
       "38 -0.786809  1.079604  0.763176 -0.832461\n",
       "39 -1.350711  0.567222 -1.065013  0.848839\n",
       "40  1.500353 -0.086372 -0.793481 -0.628522\n",
       "41  0.583649 -1.133130 -0.864041  0.664191\n",
       "42 -0.490007  1.229072 -0.903277  0.134323\n",
       "43 -0.224691 -0.761600 -0.581714 -0.563391\n",
       "44  0.935773 -0.102685  0.219081 -0.069363\n",
       "45  1.614885 -0.001062  0.412653  1.075744\n",
       "46 -0.529347  0.178530 -0.308217 -0.987966\n",
       "47 -0.035046 -0.836973 -0.169022 -0.221733\n",
       "48 -0.542716  0.564117  1.386328  0.001486\n",
       "49  0.104661 -0.280914 -0.684859 -0.391488"
      ]
     },
     "execution_count": 9,
     "metadata": {},
     "output_type": "execute_result"
    }
   ],
   "source": [
    "df.head(50)"
   ]
  },
  {
   "cell_type": "code",
   "execution_count": 39,
   "metadata": {
    "collapsed": true
   },
   "outputs": [],
   "source": [
    "df2 = pd.DataFrame({'Category':['A','B','C'],'Values':[32,43,50]})"
   ]
  },
  {
   "cell_type": "code",
   "execution_count": 40,
   "metadata": {
    "collapsed": false
   },
   "outputs": [
    {
     "data": {
      "text/html": [
       "<div>\n",
       "<table border=\"1\" class=\"dataframe\">\n",
       "  <thead>\n",
       "    <tr style=\"text-align: right;\">\n",
       "      <th></th>\n",
       "      <th>Category</th>\n",
       "      <th>Values</th>\n",
       "    </tr>\n",
       "  </thead>\n",
       "  <tbody>\n",
       "    <tr>\n",
       "      <th>0</th>\n",
       "      <td>A</td>\n",
       "      <td>32</td>\n",
       "    </tr>\n",
       "    <tr>\n",
       "      <th>1</th>\n",
       "      <td>B</td>\n",
       "      <td>43</td>\n",
       "    </tr>\n",
       "    <tr>\n",
       "      <th>2</th>\n",
       "      <td>C</td>\n",
       "      <td>50</td>\n",
       "    </tr>\n",
       "  </tbody>\n",
       "</table>\n",
       "</div>"
      ],
      "text/plain": [
       "  Category  Values\n",
       "0        A      32\n",
       "1        B      43\n",
       "2        C      50"
      ]
     },
     "execution_count": 40,
     "metadata": {},
     "output_type": "execute_result"
    }
   ],
   "source": [
    "df2.head()"
   ]
  },
  {
   "cell_type": "markdown",
   "metadata": {},
   "source": [
    "## Using Cufflinks and iplot()\n",
    "\n",
    "* scatter\n",
    "* bar\n",
    "* box\n",
    "* spread\n",
    "* ratio\n",
    "* heatmap\n",
    "* surface\n",
    "* histogram\n",
    "* bubble"
   ]
  },
  {
   "cell_type": "markdown",
   "metadata": {},
   "source": [
    "## Scatter"
   ]
  },
  {
   "cell_type": "code",
   "execution_count": 17,
   "metadata": {
    "collapsed": false
   },
   "outputs": [
    {
     "data": {
      "application/vnd.plotly.v1+json": {
       "config": {
        "linkText": "Export to plot.ly",
        "plotlyServerURL": "https://plot.ly",
        "showLink": true
       },
       "data": [
        {
         "line": {
          "color": "rgba(255, 153, 51, 1.0)",
          "dash": "solid",
          "shape": "linear",
          "width": 1.3
         },
         "marker": {
          "size": 10,
          "symbol": "circle"
         },
         "mode": "markers",
         "name": "B",
         "text": "",
         "type": "scatter",
         "x": [
          0.4046885802662556,
          1.1634609392181832,
          0.23831008927938055,
          -0.45313528311521356,
          0.6379419156491609,
          -1.4438142211840077,
          1.8009472366221853,
          -0.7019073870945766,
          -0.8114125274235565,
          -0.19453020546169025,
          -0.7293890011435047,
          0.6063177785699431,
          1.0260493772417252,
          -0.9745601272849126,
          0.12845004434385796,
          -0.7341950315109401,
          -0.9369463818518106,
          -1.1556645432178285,
          0.5517415501440451,
          1.470943400591443,
          0.11098759972307877,
          -0.872040405036734,
          -0.725573494045479,
          0.8762144102495203,
          -0.7256656974838994,
          0.3804463638734659,
          0.2530982777719823,
          -0.4352234077201285,
          -1.365033459939283,
          0.5518013661404798,
          -1.619294142218477,
          -0.15950966538974887,
          -1.0364676267292028,
          -0.7822275358569596,
          -0.596292607538201,
          1.462245547155082,
          -0.042939762307161664,
          -1.201448817457161,
          -0.7868093739855325,
          -1.350711335531761,
          1.5003530252108532,
          0.5836491221240611,
          -0.49000745223916403,
          -0.224690766978519,
          0.9357732755516264,
          1.6148852537842429,
          -0.5293467512155942,
          -0.03504591766188298,
          -0.5427162155618057,
          0.10466060428419802,
          -2.0619027260621454,
          1.5595819261835777,
          -1.2746582360580982,
          0.659713111290282,
          0.5209346905381115,
          -1.7331676875805266,
          0.03367417605899992,
          0.5460604281705843,
          -1.5229265854603575,
          -1.493244595701655,
          0.3442258291328287,
          -0.5890189634984968,
          -1.7400819468251014,
          0.4571841912093843,
          -0.8163286138659932,
          1.2234095046336957,
          -1.9175262230633567,
          -0.15235500484728523,
          -0.698914922498096,
          -0.586607717471715,
          -0.7782598990314717,
          -0.3192471540884277,
          1.35728673860839,
          -0.09084304778350655,
          1.5978710071133138,
          0.5543089832036076,
          -1.2756408674786088,
          -0.5622618397965323,
          -0.7738852311628306,
          1.74867279085942,
          -0.45789212961166326,
          -1.048740322865479,
          2.2815737330960917,
          -2.1568479545387556,
          0.24697011679665867,
          -0.899739675819223,
          0.021203123180370407,
          0.6687085372297036,
          0.47964616017111034,
          0.31588041201361655,
          0.5555818984785732,
          -1.4629086445238069,
          0.16314192016126078,
          0.920584193980645,
          1.7813749673543573,
          0.9671144937881719,
          0.6490999417134848,
          -0.9330982876728201,
          1.8844394384921241,
          -0.5615173612921415
         ],
         "y": [
          -0.036356967863489895,
          0.6423978464479991,
          0.06196203067280018,
          -0.5954524694442337,
          -1.5492130648730433,
          0.9311582520537345,
          0.668820275662023,
          -1.7468085590922156,
          -0.1696769342720388,
          -0.16394718749777826,
          0.9751552245798681,
          -1.116024324722163,
          -0.07156742000424661,
          -0.14331542135327674,
          0.9701102019525644,
          1.1032867331856737,
          -1.3573861940736234,
          1.401711275479528,
          0.3492238065607233,
          1.1495498995481301,
          -0.25578600485966096,
          -0.322862665425817,
          -0.6344716356855562,
          0.6630306819263807,
          0.5383410993755943,
          -1.3039213197094524,
          0.14185396625413685,
          0.42771001158341787,
          0.7518401055320181,
          1.539785467378347,
          -0.537891810015294,
          -1.3178235865616854,
          0.1249254623762938,
          -2.1592279543521853,
          -0.08278135031086314,
          -0.6181565700562351,
          -0.11673623829000321,
          -0.13769998347284979,
          1.079604089840864,
          0.5672219678230143,
          -0.08637198946114594,
          -1.1331304631062196,
          1.2290718062342558,
          -0.7616001988702629,
          -0.1026849109720081,
          -0.0010621314607047187,
          0.17853018027367948,
          -0.8369727453835258,
          0.5641170382120637,
          -0.2809140775862545,
          -0.161649970436904,
          0.9867336734143902,
          0.9626034283246061,
          1.6615712411403147,
          -1.845096222709994,
          0.322978603804716,
          0.5015961251814729,
          -0.20196396940320452,
          1.5381237398756653,
          -1.569086207055157,
          1.4564700565976911,
          -0.04912766685608523,
          -0.69211787687324,
          0.9659138585689333,
          0.07107648041341595,
          1.1711131962254953,
          1.8201511950554998,
          -1.3676254840529378,
          1.1995116297125372,
          0.10992919238102469,
          0.3374614915014219,
          0.901256752395691,
          0.942744548829377,
          -0.1779698098371036,
          -0.6711557827944291,
          0.4877171261065864,
          0.3865014857062134,
          -0.5575141658063655,
          0.03930754883116221,
          -0.40015756971593525,
          1.4028018295464215,
          -0.3733233526762418,
          1.3026064618230895,
          0.07858820380263296,
          -0.5980967986591397,
          0.6363700701730874,
          0.3542755147951408,
          -0.6681973227150312,
          -0.17867581943479036,
          1.9604410397063305,
          1.628367333941146,
          0.39812181707511507,
          -0.3886088203518295,
          0.07951355276205435,
          1.2256210551788733,
          0.9633559855214752,
          0.20691469233021173,
          1.3791363349919523,
          -0.5151369461288825,
          0.5599252179345603
         ]
        }
       ],
       "layout": {
        "legend": {
         "bgcolor": "#F5F6F9",
         "font": {
          "color": "#4D5663"
         }
        },
        "paper_bgcolor": "#F5F6F9",
        "plot_bgcolor": "#F5F6F9",
        "template": {
         "data": {
          "bar": [
           {
            "error_x": {
             "color": "#2a3f5f"
            },
            "error_y": {
             "color": "#2a3f5f"
            },
            "marker": {
             "line": {
              "color": "#E5ECF6",
              "width": 0.5
             },
             "pattern": {
              "fillmode": "overlay",
              "size": 10,
              "solidity": 0.2
             }
            },
            "type": "bar"
           }
          ],
          "barpolar": [
           {
            "marker": {
             "line": {
              "color": "#E5ECF6",
              "width": 0.5
             },
             "pattern": {
              "fillmode": "overlay",
              "size": 10,
              "solidity": 0.2
             }
            },
            "type": "barpolar"
           }
          ],
          "carpet": [
           {
            "aaxis": {
             "endlinecolor": "#2a3f5f",
             "gridcolor": "white",
             "linecolor": "white",
             "minorgridcolor": "white",
             "startlinecolor": "#2a3f5f"
            },
            "baxis": {
             "endlinecolor": "#2a3f5f",
             "gridcolor": "white",
             "linecolor": "white",
             "minorgridcolor": "white",
             "startlinecolor": "#2a3f5f"
            },
            "type": "carpet"
           }
          ],
          "choropleth": [
           {
            "colorbar": {
             "outlinewidth": 0,
             "ticks": ""
            },
            "type": "choropleth"
           }
          ],
          "contour": [
           {
            "colorbar": {
             "outlinewidth": 0,
             "ticks": ""
            },
            "colorscale": [
             [
              0,
              "#0d0887"
             ],
             [
              0.1111111111111111,
              "#46039f"
             ],
             [
              0.2222222222222222,
              "#7201a8"
             ],
             [
              0.3333333333333333,
              "#9c179e"
             ],
             [
              0.4444444444444444,
              "#bd3786"
             ],
             [
              0.5555555555555556,
              "#d8576b"
             ],
             [
              0.6666666666666666,
              "#ed7953"
             ],
             [
              0.7777777777777778,
              "#fb9f3a"
             ],
             [
              0.8888888888888888,
              "#fdca26"
             ],
             [
              1,
              "#f0f921"
             ]
            ],
            "type": "contour"
           }
          ],
          "contourcarpet": [
           {
            "colorbar": {
             "outlinewidth": 0,
             "ticks": ""
            },
            "type": "contourcarpet"
           }
          ],
          "heatmap": [
           {
            "colorbar": {
             "outlinewidth": 0,
             "ticks": ""
            },
            "colorscale": [
             [
              0,
              "#0d0887"
             ],
             [
              0.1111111111111111,
              "#46039f"
             ],
             [
              0.2222222222222222,
              "#7201a8"
             ],
             [
              0.3333333333333333,
              "#9c179e"
             ],
             [
              0.4444444444444444,
              "#bd3786"
             ],
             [
              0.5555555555555556,
              "#d8576b"
             ],
             [
              0.6666666666666666,
              "#ed7953"
             ],
             [
              0.7777777777777778,
              "#fb9f3a"
             ],
             [
              0.8888888888888888,
              "#fdca26"
             ],
             [
              1,
              "#f0f921"
             ]
            ],
            "type": "heatmap"
           }
          ],
          "heatmapgl": [
           {
            "colorbar": {
             "outlinewidth": 0,
             "ticks": ""
            },
            "colorscale": [
             [
              0,
              "#0d0887"
             ],
             [
              0.1111111111111111,
              "#46039f"
             ],
             [
              0.2222222222222222,
              "#7201a8"
             ],
             [
              0.3333333333333333,
              "#9c179e"
             ],
             [
              0.4444444444444444,
              "#bd3786"
             ],
             [
              0.5555555555555556,
              "#d8576b"
             ],
             [
              0.6666666666666666,
              "#ed7953"
             ],
             [
              0.7777777777777778,
              "#fb9f3a"
             ],
             [
              0.8888888888888888,
              "#fdca26"
             ],
             [
              1,
              "#f0f921"
             ]
            ],
            "type": "heatmapgl"
           }
          ],
          "histogram": [
           {
            "marker": {
             "pattern": {
              "fillmode": "overlay",
              "size": 10,
              "solidity": 0.2
             }
            },
            "type": "histogram"
           }
          ],
          "histogram2d": [
           {
            "colorbar": {
             "outlinewidth": 0,
             "ticks": ""
            },
            "colorscale": [
             [
              0,
              "#0d0887"
             ],
             [
              0.1111111111111111,
              "#46039f"
             ],
             [
              0.2222222222222222,
              "#7201a8"
             ],
             [
              0.3333333333333333,
              "#9c179e"
             ],
             [
              0.4444444444444444,
              "#bd3786"
             ],
             [
              0.5555555555555556,
              "#d8576b"
             ],
             [
              0.6666666666666666,
              "#ed7953"
             ],
             [
              0.7777777777777778,
              "#fb9f3a"
             ],
             [
              0.8888888888888888,
              "#fdca26"
             ],
             [
              1,
              "#f0f921"
             ]
            ],
            "type": "histogram2d"
           }
          ],
          "histogram2dcontour": [
           {
            "colorbar": {
             "outlinewidth": 0,
             "ticks": ""
            },
            "colorscale": [
             [
              0,
              "#0d0887"
             ],
             [
              0.1111111111111111,
              "#46039f"
             ],
             [
              0.2222222222222222,
              "#7201a8"
             ],
             [
              0.3333333333333333,
              "#9c179e"
             ],
             [
              0.4444444444444444,
              "#bd3786"
             ],
             [
              0.5555555555555556,
              "#d8576b"
             ],
             [
              0.6666666666666666,
              "#ed7953"
             ],
             [
              0.7777777777777778,
              "#fb9f3a"
             ],
             [
              0.8888888888888888,
              "#fdca26"
             ],
             [
              1,
              "#f0f921"
             ]
            ],
            "type": "histogram2dcontour"
           }
          ],
          "mesh3d": [
           {
            "colorbar": {
             "outlinewidth": 0,
             "ticks": ""
            },
            "type": "mesh3d"
           }
          ],
          "parcoords": [
           {
            "line": {
             "colorbar": {
              "outlinewidth": 0,
              "ticks": ""
             }
            },
            "type": "parcoords"
           }
          ],
          "pie": [
           {
            "automargin": true,
            "type": "pie"
           }
          ],
          "scatter": [
           {
            "fillpattern": {
             "fillmode": "overlay",
             "size": 10,
             "solidity": 0.2
            },
            "type": "scatter"
           }
          ],
          "scatter3d": [
           {
            "line": {
             "colorbar": {
              "outlinewidth": 0,
              "ticks": ""
             }
            },
            "marker": {
             "colorbar": {
              "outlinewidth": 0,
              "ticks": ""
             }
            },
            "type": "scatter3d"
           }
          ],
          "scattercarpet": [
           {
            "marker": {
             "colorbar": {
              "outlinewidth": 0,
              "ticks": ""
             }
            },
            "type": "scattercarpet"
           }
          ],
          "scattergeo": [
           {
            "marker": {
             "colorbar": {
              "outlinewidth": 0,
              "ticks": ""
             }
            },
            "type": "scattergeo"
           }
          ],
          "scattergl": [
           {
            "marker": {
             "colorbar": {
              "outlinewidth": 0,
              "ticks": ""
             }
            },
            "type": "scattergl"
           }
          ],
          "scattermapbox": [
           {
            "marker": {
             "colorbar": {
              "outlinewidth": 0,
              "ticks": ""
             }
            },
            "type": "scattermapbox"
           }
          ],
          "scatterpolar": [
           {
            "marker": {
             "colorbar": {
              "outlinewidth": 0,
              "ticks": ""
             }
            },
            "type": "scatterpolar"
           }
          ],
          "scatterpolargl": [
           {
            "marker": {
             "colorbar": {
              "outlinewidth": 0,
              "ticks": ""
             }
            },
            "type": "scatterpolargl"
           }
          ],
          "scatterternary": [
           {
            "marker": {
             "colorbar": {
              "outlinewidth": 0,
              "ticks": ""
             }
            },
            "type": "scatterternary"
           }
          ],
          "surface": [
           {
            "colorbar": {
             "outlinewidth": 0,
             "ticks": ""
            },
            "colorscale": [
             [
              0,
              "#0d0887"
             ],
             [
              0.1111111111111111,
              "#46039f"
             ],
             [
              0.2222222222222222,
              "#7201a8"
             ],
             [
              0.3333333333333333,
              "#9c179e"
             ],
             [
              0.4444444444444444,
              "#bd3786"
             ],
             [
              0.5555555555555556,
              "#d8576b"
             ],
             [
              0.6666666666666666,
              "#ed7953"
             ],
             [
              0.7777777777777778,
              "#fb9f3a"
             ],
             [
              0.8888888888888888,
              "#fdca26"
             ],
             [
              1,
              "#f0f921"
             ]
            ],
            "type": "surface"
           }
          ],
          "table": [
           {
            "cells": {
             "fill": {
              "color": "#EBF0F8"
             },
             "line": {
              "color": "white"
             }
            },
            "header": {
             "fill": {
              "color": "#C8D4E3"
             },
             "line": {
              "color": "white"
             }
            },
            "type": "table"
           }
          ]
         },
         "layout": {
          "annotationdefaults": {
           "arrowcolor": "#2a3f5f",
           "arrowhead": 0,
           "arrowwidth": 1
          },
          "autotypenumbers": "strict",
          "coloraxis": {
           "colorbar": {
            "outlinewidth": 0,
            "ticks": ""
           }
          },
          "colorscale": {
           "diverging": [
            [
             0,
             "#8e0152"
            ],
            [
             0.1,
             "#c51b7d"
            ],
            [
             0.2,
             "#de77ae"
            ],
            [
             0.3,
             "#f1b6da"
            ],
            [
             0.4,
             "#fde0ef"
            ],
            [
             0.5,
             "#f7f7f7"
            ],
            [
             0.6,
             "#e6f5d0"
            ],
            [
             0.7,
             "#b8e186"
            ],
            [
             0.8,
             "#7fbc41"
            ],
            [
             0.9,
             "#4d9221"
            ],
            [
             1,
             "#276419"
            ]
           ],
           "sequential": [
            [
             0,
             "#0d0887"
            ],
            [
             0.1111111111111111,
             "#46039f"
            ],
            [
             0.2222222222222222,
             "#7201a8"
            ],
            [
             0.3333333333333333,
             "#9c179e"
            ],
            [
             0.4444444444444444,
             "#bd3786"
            ],
            [
             0.5555555555555556,
             "#d8576b"
            ],
            [
             0.6666666666666666,
             "#ed7953"
            ],
            [
             0.7777777777777778,
             "#fb9f3a"
            ],
            [
             0.8888888888888888,
             "#fdca26"
            ],
            [
             1,
             "#f0f921"
            ]
           ],
           "sequentialminus": [
            [
             0,
             "#0d0887"
            ],
            [
             0.1111111111111111,
             "#46039f"
            ],
            [
             0.2222222222222222,
             "#7201a8"
            ],
            [
             0.3333333333333333,
             "#9c179e"
            ],
            [
             0.4444444444444444,
             "#bd3786"
            ],
            [
             0.5555555555555556,
             "#d8576b"
            ],
            [
             0.6666666666666666,
             "#ed7953"
            ],
            [
             0.7777777777777778,
             "#fb9f3a"
            ],
            [
             0.8888888888888888,
             "#fdca26"
            ],
            [
             1,
             "#f0f921"
            ]
           ]
          },
          "colorway": [
           "#636efa",
           "#EF553B",
           "#00cc96",
           "#ab63fa",
           "#FFA15A",
           "#19d3f3",
           "#FF6692",
           "#B6E880",
           "#FF97FF",
           "#FECB52"
          ],
          "font": {
           "color": "#2a3f5f"
          },
          "geo": {
           "bgcolor": "white",
           "lakecolor": "white",
           "landcolor": "#E5ECF6",
           "showlakes": true,
           "showland": true,
           "subunitcolor": "white"
          },
          "hoverlabel": {
           "align": "left"
          },
          "hovermode": "closest",
          "mapbox": {
           "style": "light"
          },
          "paper_bgcolor": "white",
          "plot_bgcolor": "#E5ECF6",
          "polar": {
           "angularaxis": {
            "gridcolor": "white",
            "linecolor": "white",
            "ticks": ""
           },
           "bgcolor": "#E5ECF6",
           "radialaxis": {
            "gridcolor": "white",
            "linecolor": "white",
            "ticks": ""
           }
          },
          "scene": {
           "xaxis": {
            "backgroundcolor": "#E5ECF6",
            "gridcolor": "white",
            "gridwidth": 2,
            "linecolor": "white",
            "showbackground": true,
            "ticks": "",
            "zerolinecolor": "white"
           },
           "yaxis": {
            "backgroundcolor": "#E5ECF6",
            "gridcolor": "white",
            "gridwidth": 2,
            "linecolor": "white",
            "showbackground": true,
            "ticks": "",
            "zerolinecolor": "white"
           },
           "zaxis": {
            "backgroundcolor": "#E5ECF6",
            "gridcolor": "white",
            "gridwidth": 2,
            "linecolor": "white",
            "showbackground": true,
            "ticks": "",
            "zerolinecolor": "white"
           }
          },
          "shapedefaults": {
           "line": {
            "color": "#2a3f5f"
           }
          },
          "ternary": {
           "aaxis": {
            "gridcolor": "white",
            "linecolor": "white",
            "ticks": ""
           },
           "baxis": {
            "gridcolor": "white",
            "linecolor": "white",
            "ticks": ""
           },
           "bgcolor": "#E5ECF6",
           "caxis": {
            "gridcolor": "white",
            "linecolor": "white",
            "ticks": ""
           }
          },
          "title": {
           "x": 0.05
          },
          "xaxis": {
           "automargin": true,
           "gridcolor": "white",
           "linecolor": "white",
           "ticks": "",
           "title": {
            "standoff": 15
           },
           "zerolinecolor": "white",
           "zerolinewidth": 2
          },
          "yaxis": {
           "automargin": true,
           "gridcolor": "white",
           "linecolor": "white",
           "ticks": "",
           "title": {
            "standoff": 15
           },
           "zerolinecolor": "white",
           "zerolinewidth": 2
          }
         }
        },
        "title": {
         "font": {
          "color": "#4D5663"
         }
        },
        "xaxis": {
         "gridcolor": "#E1E5ED",
         "showgrid": true,
         "tickfont": {
          "color": "#4D5663"
         },
         "title": {
          "font": {
           "color": "#4D5663"
          },
          "text": ""
         },
         "zerolinecolor": "#E1E5ED"
        },
        "yaxis": {
         "gridcolor": "#E1E5ED",
         "showgrid": true,
         "tickfont": {
          "color": "#4D5663"
         },
         "title": {
          "font": {
           "color": "#4D5663"
          },
          "text": ""
         },
         "zerolinecolor": "#E1E5ED"
        }
       }
      },
      "text/html": [
       "<div>                            <div id=\"cab911fb-46c7-4518-b92f-a1e40a15d66b\" class=\"plotly-graph-div\" style=\"height:525px; width:100%;\"></div>            <script type=\"text/javascript\">                require([\"plotly\"], function(Plotly) {                    window.PLOTLYENV=window.PLOTLYENV || {};\n",
       "                    window.PLOTLYENV.BASE_URL='https://plot.ly';                                    if (document.getElementById(\"cab911fb-46c7-4518-b92f-a1e40a15d66b\")) {                    Plotly.newPlot(                        \"cab911fb-46c7-4518-b92f-a1e40a15d66b\",                        [{\"line\":{\"color\":\"rgba(255, 153, 51, 1.0)\",\"dash\":\"solid\",\"shape\":\"linear\",\"width\":1.3},\"marker\":{\"size\":10,\"symbol\":\"circle\"},\"mode\":\"markers\",\"name\":\"B\",\"text\":\"\",\"x\":[0.4046885802662556,1.1634609392181832,0.23831008927938055,-0.45313528311521356,0.6379419156491609,-1.4438142211840077,1.8009472366221853,-0.7019073870945766,-0.8114125274235565,-0.19453020546169025,-0.7293890011435047,0.6063177785699431,1.0260493772417252,-0.9745601272849126,0.12845004434385796,-0.7341950315109401,-0.9369463818518106,-1.1556645432178285,0.5517415501440451,1.470943400591443,0.11098759972307877,-0.872040405036734,-0.725573494045479,0.8762144102495203,-0.7256656974838994,0.3804463638734659,0.2530982777719823,-0.4352234077201285,-1.365033459939283,0.5518013661404798,-1.619294142218477,-0.15950966538974887,-1.0364676267292028,-0.7822275358569596,-0.596292607538201,1.462245547155082,-0.042939762307161664,-1.201448817457161,-0.7868093739855325,-1.350711335531761,1.5003530252108532,0.5836491221240611,-0.49000745223916403,-0.224690766978519,0.9357732755516264,1.6148852537842429,-0.5293467512155942,-0.03504591766188298,-0.5427162155618057,0.10466060428419802,-2.0619027260621454,1.5595819261835777,-1.2746582360580982,0.659713111290282,0.5209346905381115,-1.7331676875805266,0.03367417605899992,0.5460604281705843,-1.5229265854603575,-1.493244595701655,0.3442258291328287,-0.5890189634984968,-1.7400819468251014,0.4571841912093843,-0.8163286138659932,1.2234095046336957,-1.9175262230633567,-0.15235500484728523,-0.698914922498096,-0.586607717471715,-0.7782598990314717,-0.3192471540884277,1.35728673860839,-0.09084304778350655,1.5978710071133138,0.5543089832036076,-1.2756408674786088,-0.5622618397965323,-0.7738852311628306,1.74867279085942,-0.45789212961166326,-1.048740322865479,2.2815737330960917,-2.1568479545387556,0.24697011679665867,-0.899739675819223,0.021203123180370407,0.6687085372297036,0.47964616017111034,0.31588041201361655,0.5555818984785732,-1.4629086445238069,0.16314192016126078,0.920584193980645,1.7813749673543573,0.9671144937881719,0.6490999417134848,-0.9330982876728201,1.8844394384921241,-0.5615173612921415],\"y\":[-0.036356967863489895,0.6423978464479991,0.06196203067280018,-0.5954524694442337,-1.5492130648730433,0.9311582520537345,0.668820275662023,-1.7468085590922156,-0.1696769342720388,-0.16394718749777826,0.9751552245798681,-1.116024324722163,-0.07156742000424661,-0.14331542135327674,0.9701102019525644,1.1032867331856737,-1.3573861940736234,1.401711275479528,0.3492238065607233,1.1495498995481301,-0.25578600485966096,-0.322862665425817,-0.6344716356855562,0.6630306819263807,0.5383410993755943,-1.3039213197094524,0.14185396625413685,0.42771001158341787,0.7518401055320181,1.539785467378347,-0.537891810015294,-1.3178235865616854,0.1249254623762938,-2.1592279543521853,-0.08278135031086314,-0.6181565700562351,-0.11673623829000321,-0.13769998347284979,1.079604089840864,0.5672219678230143,-0.08637198946114594,-1.1331304631062196,1.2290718062342558,-0.7616001988702629,-0.1026849109720081,-0.0010621314607047187,0.17853018027367948,-0.8369727453835258,0.5641170382120637,-0.2809140775862545,-0.161649970436904,0.9867336734143902,0.9626034283246061,1.6615712411403147,-1.845096222709994,0.322978603804716,0.5015961251814729,-0.20196396940320452,1.5381237398756653,-1.569086207055157,1.4564700565976911,-0.04912766685608523,-0.69211787687324,0.9659138585689333,0.07107648041341595,1.1711131962254953,1.8201511950554998,-1.3676254840529378,1.1995116297125372,0.10992919238102469,0.3374614915014219,0.901256752395691,0.942744548829377,-0.1779698098371036,-0.6711557827944291,0.4877171261065864,0.3865014857062134,-0.5575141658063655,0.03930754883116221,-0.40015756971593525,1.4028018295464215,-0.3733233526762418,1.3026064618230895,0.07858820380263296,-0.5980967986591397,0.6363700701730874,0.3542755147951408,-0.6681973227150312,-0.17867581943479036,1.9604410397063305,1.628367333941146,0.39812181707511507,-0.3886088203518295,0.07951355276205435,1.2256210551788733,0.9633559855214752,0.20691469233021173,1.3791363349919523,-0.5151369461288825,0.5599252179345603],\"type\":\"scatter\"}],                        {\"legend\":{\"bgcolor\":\"#F5F6F9\",\"font\":{\"color\":\"#4D5663\"}},\"paper_bgcolor\":\"#F5F6F9\",\"plot_bgcolor\":\"#F5F6F9\",\"template\":{\"data\":{\"barpolar\":[{\"marker\":{\"line\":{\"color\":\"#E5ECF6\",\"width\":0.5},\"pattern\":{\"fillmode\":\"overlay\",\"size\":10,\"solidity\":0.2}},\"type\":\"barpolar\"}],\"bar\":[{\"error_x\":{\"color\":\"#2a3f5f\"},\"error_y\":{\"color\":\"#2a3f5f\"},\"marker\":{\"line\":{\"color\":\"#E5ECF6\",\"width\":0.5},\"pattern\":{\"fillmode\":\"overlay\",\"size\":10,\"solidity\":0.2}},\"type\":\"bar\"}],\"carpet\":[{\"aaxis\":{\"endlinecolor\":\"#2a3f5f\",\"gridcolor\":\"white\",\"linecolor\":\"white\",\"minorgridcolor\":\"white\",\"startlinecolor\":\"#2a3f5f\"},\"baxis\":{\"endlinecolor\":\"#2a3f5f\",\"gridcolor\":\"white\",\"linecolor\":\"white\",\"minorgridcolor\":\"white\",\"startlinecolor\":\"#2a3f5f\"},\"type\":\"carpet\"}],\"choropleth\":[{\"colorbar\":{\"outlinewidth\":0,\"ticks\":\"\"},\"type\":\"choropleth\"}],\"contourcarpet\":[{\"colorbar\":{\"outlinewidth\":0,\"ticks\":\"\"},\"type\":\"contourcarpet\"}],\"contour\":[{\"colorbar\":{\"outlinewidth\":0,\"ticks\":\"\"},\"colorscale\":[[0.0,\"#0d0887\"],[0.1111111111111111,\"#46039f\"],[0.2222222222222222,\"#7201a8\"],[0.3333333333333333,\"#9c179e\"],[0.4444444444444444,\"#bd3786\"],[0.5555555555555556,\"#d8576b\"],[0.6666666666666666,\"#ed7953\"],[0.7777777777777778,\"#fb9f3a\"],[0.8888888888888888,\"#fdca26\"],[1.0,\"#f0f921\"]],\"type\":\"contour\"}],\"heatmapgl\":[{\"colorbar\":{\"outlinewidth\":0,\"ticks\":\"\"},\"colorscale\":[[0.0,\"#0d0887\"],[0.1111111111111111,\"#46039f\"],[0.2222222222222222,\"#7201a8\"],[0.3333333333333333,\"#9c179e\"],[0.4444444444444444,\"#bd3786\"],[0.5555555555555556,\"#d8576b\"],[0.6666666666666666,\"#ed7953\"],[0.7777777777777778,\"#fb9f3a\"],[0.8888888888888888,\"#fdca26\"],[1.0,\"#f0f921\"]],\"type\":\"heatmapgl\"}],\"heatmap\":[{\"colorbar\":{\"outlinewidth\":0,\"ticks\":\"\"},\"colorscale\":[[0.0,\"#0d0887\"],[0.1111111111111111,\"#46039f\"],[0.2222222222222222,\"#7201a8\"],[0.3333333333333333,\"#9c179e\"],[0.4444444444444444,\"#bd3786\"],[0.5555555555555556,\"#d8576b\"],[0.6666666666666666,\"#ed7953\"],[0.7777777777777778,\"#fb9f3a\"],[0.8888888888888888,\"#fdca26\"],[1.0,\"#f0f921\"]],\"type\":\"heatmap\"}],\"histogram2dcontour\":[{\"colorbar\":{\"outlinewidth\":0,\"ticks\":\"\"},\"colorscale\":[[0.0,\"#0d0887\"],[0.1111111111111111,\"#46039f\"],[0.2222222222222222,\"#7201a8\"],[0.3333333333333333,\"#9c179e\"],[0.4444444444444444,\"#bd3786\"],[0.5555555555555556,\"#d8576b\"],[0.6666666666666666,\"#ed7953\"],[0.7777777777777778,\"#fb9f3a\"],[0.8888888888888888,\"#fdca26\"],[1.0,\"#f0f921\"]],\"type\":\"histogram2dcontour\"}],\"histogram2d\":[{\"colorbar\":{\"outlinewidth\":0,\"ticks\":\"\"},\"colorscale\":[[0.0,\"#0d0887\"],[0.1111111111111111,\"#46039f\"],[0.2222222222222222,\"#7201a8\"],[0.3333333333333333,\"#9c179e\"],[0.4444444444444444,\"#bd3786\"],[0.5555555555555556,\"#d8576b\"],[0.6666666666666666,\"#ed7953\"],[0.7777777777777778,\"#fb9f3a\"],[0.8888888888888888,\"#fdca26\"],[1.0,\"#f0f921\"]],\"type\":\"histogram2d\"}],\"histogram\":[{\"marker\":{\"pattern\":{\"fillmode\":\"overlay\",\"size\":10,\"solidity\":0.2}},\"type\":\"histogram\"}],\"mesh3d\":[{\"colorbar\":{\"outlinewidth\":0,\"ticks\":\"\"},\"type\":\"mesh3d\"}],\"parcoords\":[{\"line\":{\"colorbar\":{\"outlinewidth\":0,\"ticks\":\"\"}},\"type\":\"parcoords\"}],\"pie\":[{\"automargin\":true,\"type\":\"pie\"}],\"scatter3d\":[{\"line\":{\"colorbar\":{\"outlinewidth\":0,\"ticks\":\"\"}},\"marker\":{\"colorbar\":{\"outlinewidth\":0,\"ticks\":\"\"}},\"type\":\"scatter3d\"}],\"scattercarpet\":[{\"marker\":{\"colorbar\":{\"outlinewidth\":0,\"ticks\":\"\"}},\"type\":\"scattercarpet\"}],\"scattergeo\":[{\"marker\":{\"colorbar\":{\"outlinewidth\":0,\"ticks\":\"\"}},\"type\":\"scattergeo\"}],\"scattergl\":[{\"marker\":{\"colorbar\":{\"outlinewidth\":0,\"ticks\":\"\"}},\"type\":\"scattergl\"}],\"scattermapbox\":[{\"marker\":{\"colorbar\":{\"outlinewidth\":0,\"ticks\":\"\"}},\"type\":\"scattermapbox\"}],\"scatterpolargl\":[{\"marker\":{\"colorbar\":{\"outlinewidth\":0,\"ticks\":\"\"}},\"type\":\"scatterpolargl\"}],\"scatterpolar\":[{\"marker\":{\"colorbar\":{\"outlinewidth\":0,\"ticks\":\"\"}},\"type\":\"scatterpolar\"}],\"scatter\":[{\"fillpattern\":{\"fillmode\":\"overlay\",\"size\":10,\"solidity\":0.2},\"type\":\"scatter\"}],\"scatterternary\":[{\"marker\":{\"colorbar\":{\"outlinewidth\":0,\"ticks\":\"\"}},\"type\":\"scatterternary\"}],\"surface\":[{\"colorbar\":{\"outlinewidth\":0,\"ticks\":\"\"},\"colorscale\":[[0.0,\"#0d0887\"],[0.1111111111111111,\"#46039f\"],[0.2222222222222222,\"#7201a8\"],[0.3333333333333333,\"#9c179e\"],[0.4444444444444444,\"#bd3786\"],[0.5555555555555556,\"#d8576b\"],[0.6666666666666666,\"#ed7953\"],[0.7777777777777778,\"#fb9f3a\"],[0.8888888888888888,\"#fdca26\"],[1.0,\"#f0f921\"]],\"type\":\"surface\"}],\"table\":[{\"cells\":{\"fill\":{\"color\":\"#EBF0F8\"},\"line\":{\"color\":\"white\"}},\"header\":{\"fill\":{\"color\":\"#C8D4E3\"},\"line\":{\"color\":\"white\"}},\"type\":\"table\"}]},\"layout\":{\"annotationdefaults\":{\"arrowcolor\":\"#2a3f5f\",\"arrowhead\":0,\"arrowwidth\":1},\"autotypenumbers\":\"strict\",\"coloraxis\":{\"colorbar\":{\"outlinewidth\":0,\"ticks\":\"\"}},\"colorscale\":{\"diverging\":[[0,\"#8e0152\"],[0.1,\"#c51b7d\"],[0.2,\"#de77ae\"],[0.3,\"#f1b6da\"],[0.4,\"#fde0ef\"],[0.5,\"#f7f7f7\"],[0.6,\"#e6f5d0\"],[0.7,\"#b8e186\"],[0.8,\"#7fbc41\"],[0.9,\"#4d9221\"],[1,\"#276419\"]],\"sequential\":[[0.0,\"#0d0887\"],[0.1111111111111111,\"#46039f\"],[0.2222222222222222,\"#7201a8\"],[0.3333333333333333,\"#9c179e\"],[0.4444444444444444,\"#bd3786\"],[0.5555555555555556,\"#d8576b\"],[0.6666666666666666,\"#ed7953\"],[0.7777777777777778,\"#fb9f3a\"],[0.8888888888888888,\"#fdca26\"],[1.0,\"#f0f921\"]],\"sequentialminus\":[[0.0,\"#0d0887\"],[0.1111111111111111,\"#46039f\"],[0.2222222222222222,\"#7201a8\"],[0.3333333333333333,\"#9c179e\"],[0.4444444444444444,\"#bd3786\"],[0.5555555555555556,\"#d8576b\"],[0.6666666666666666,\"#ed7953\"],[0.7777777777777778,\"#fb9f3a\"],[0.8888888888888888,\"#fdca26\"],[1.0,\"#f0f921\"]]},\"colorway\":[\"#636efa\",\"#EF553B\",\"#00cc96\",\"#ab63fa\",\"#FFA15A\",\"#19d3f3\",\"#FF6692\",\"#B6E880\",\"#FF97FF\",\"#FECB52\"],\"font\":{\"color\":\"#2a3f5f\"},\"geo\":{\"bgcolor\":\"white\",\"lakecolor\":\"white\",\"landcolor\":\"#E5ECF6\",\"showlakes\":true,\"showland\":true,\"subunitcolor\":\"white\"},\"hoverlabel\":{\"align\":\"left\"},\"hovermode\":\"closest\",\"mapbox\":{\"style\":\"light\"},\"paper_bgcolor\":\"white\",\"plot_bgcolor\":\"#E5ECF6\",\"polar\":{\"angularaxis\":{\"gridcolor\":\"white\",\"linecolor\":\"white\",\"ticks\":\"\"},\"bgcolor\":\"#E5ECF6\",\"radialaxis\":{\"gridcolor\":\"white\",\"linecolor\":\"white\",\"ticks\":\"\"}},\"scene\":{\"xaxis\":{\"backgroundcolor\":\"#E5ECF6\",\"gridcolor\":\"white\",\"gridwidth\":2,\"linecolor\":\"white\",\"showbackground\":true,\"ticks\":\"\",\"zerolinecolor\":\"white\"},\"yaxis\":{\"backgroundcolor\":\"#E5ECF6\",\"gridcolor\":\"white\",\"gridwidth\":2,\"linecolor\":\"white\",\"showbackground\":true,\"ticks\":\"\",\"zerolinecolor\":\"white\"},\"zaxis\":{\"backgroundcolor\":\"#E5ECF6\",\"gridcolor\":\"white\",\"gridwidth\":2,\"linecolor\":\"white\",\"showbackground\":true,\"ticks\":\"\",\"zerolinecolor\":\"white\"}},\"shapedefaults\":{\"line\":{\"color\":\"#2a3f5f\"}},\"ternary\":{\"aaxis\":{\"gridcolor\":\"white\",\"linecolor\":\"white\",\"ticks\":\"\"},\"baxis\":{\"gridcolor\":\"white\",\"linecolor\":\"white\",\"ticks\":\"\"},\"bgcolor\":\"#E5ECF6\",\"caxis\":{\"gridcolor\":\"white\",\"linecolor\":\"white\",\"ticks\":\"\"}},\"title\":{\"x\":0.05},\"xaxis\":{\"automargin\":true,\"gridcolor\":\"white\",\"linecolor\":\"white\",\"ticks\":\"\",\"title\":{\"standoff\":15},\"zerolinecolor\":\"white\",\"zerolinewidth\":2},\"yaxis\":{\"automargin\":true,\"gridcolor\":\"white\",\"linecolor\":\"white\",\"ticks\":\"\",\"title\":{\"standoff\":15},\"zerolinecolor\":\"white\",\"zerolinewidth\":2}}},\"title\":{\"font\":{\"color\":\"#4D5663\"}},\"xaxis\":{\"gridcolor\":\"#E1E5ED\",\"showgrid\":true,\"tickfont\":{\"color\":\"#4D5663\"},\"title\":{\"font\":{\"color\":\"#4D5663\"},\"text\":\"\"},\"zerolinecolor\":\"#E1E5ED\"},\"yaxis\":{\"gridcolor\":\"#E1E5ED\",\"showgrid\":true,\"tickfont\":{\"color\":\"#4D5663\"},\"title\":{\"font\":{\"color\":\"#4D5663\"},\"text\":\"\"},\"zerolinecolor\":\"#E1E5ED\"}},                        {\"showLink\": true, \"linkText\": \"Export to plot.ly\", \"plotlyServerURL\": \"https://plot.ly\", \"responsive\": true}                    ).then(function(){\n",
       "                            \n",
       "var gd = document.getElementById('cab911fb-46c7-4518-b92f-a1e40a15d66b');\n",
       "var x = new MutationObserver(function (mutations, observer) {{\n",
       "        var display = window.getComputedStyle(gd).display;\n",
       "        if (!display || display === 'none') {{\n",
       "            console.log([gd, 'removed!']);\n",
       "            Plotly.purge(gd);\n",
       "            observer.disconnect();\n",
       "        }}\n",
       "}});\n",
       "\n",
       "// Listen for the removal of the full notebook cells\n",
       "var notebookContainer = gd.closest('#notebook-container');\n",
       "if (notebookContainer) {{\n",
       "    x.observe(notebookContainer, {childList: true});\n",
       "}}\n",
       "\n",
       "// Listen for the clearing of the current output cell\n",
       "var outputEl = gd.closest('.output');\n",
       "if (outputEl) {{\n",
       "    x.observe(outputEl, {childList: true});\n",
       "}}\n",
       "\n",
       "                        })                };                });            </script>        </div>"
      ]
     },
     "metadata": {},
     "output_type": "display_data"
    }
   ],
   "source": [
    "df.iplot(kind='scatter',x='A',y='B',mode='markers',size=10)"
   ]
  },
  {
   "cell_type": "markdown",
   "metadata": {},
   "source": [
    "## Bar Plots"
   ]
  },
  {
   "cell_type": "code",
   "execution_count": 28,
   "metadata": {
    "collapsed": false
   },
   "outputs": [
    {
     "data": {
      "text/html": [
       "<div id=\"316c2996-ca86-4faf-82a5-fb1d12abc321\" style=\"height: 525px; width: 100%;\" class=\"plotly-graph-div\"></div><script type=\"text/javascript\">require([\"plotly\"], function(Plotly) { window.PLOTLYENV=window.PLOTLYENV || {};window.PLOTLYENV.BASE_URL=\"https://plot.ly\";Plotly.newPlot(\"316c2996-ca86-4faf-82a5-fb1d12abc321\", [{\"x\": [\"A\", \"B\", \"C\"], \"text\": \"\", \"orientation\": \"v\", \"name\": \"Values\", \"type\": \"bar\", \"marker\": {\"line\": {\"width\": 1, \"color\": \"rgba(226, 74, 51, 1.0)\"}, \"color\": \"rgba(226, 74, 51, 0.6)\"}, \"y\": [32, 43, 50]}], {\"legend\": {\"font\": {\"color\": \"#666666\"}, \"bgcolor\": \"#FFFFFF\"}, \"titlefont\": {\"color\": \"#151516\"}, \"xaxis1\": {\"titlefont\": {\"color\": \"#666666\"}, \"zerolinecolor\": \"#F6F6F6\", \"title\": \"\", \"tickfont\": {\"color\": \"#666666\"}, \"showgrid\": true, \"gridcolor\": \"#F6F6F6\"}, \"paper_bgcolor\": \"#FFFFFF\", \"plot_bgcolor\": \"#E5E5E5\", \"yaxis1\": {\"titlefont\": {\"color\": \"#666666\"}, \"zerolinecolor\": \"#F6F6F6\", \"title\": \"\", \"tickfont\": {\"color\": \"#666666\"}, \"showgrid\": true, \"gridcolor\": \"#F6F6F6\"}}, {\"showLink\": true, \"linkText\": \"Export to plot.ly\"})});</script>"
      ],
      "text/plain": [
       "<IPython.core.display.HTML object>"
      ]
     },
     "metadata": {},
     "output_type": "display_data"
    }
   ],
   "source": [
    "df2.iplot(kind='bar',x='Category',y='Values')"
   ]
  },
  {
   "cell_type": "code",
   "execution_count": 33,
   "metadata": {
    "collapsed": false
   },
   "outputs": [
    {
     "data": {
      "text/html": [
       "<div id=\"0f3d8847-73f9-4d83-a41a-ea5e36c6d128\" style=\"height: 525px; width: 100%;\" class=\"plotly-graph-div\"></div><script type=\"text/javascript\">require([\"plotly\"], function(Plotly) { window.PLOTLYENV=window.PLOTLYENV || {};window.PLOTLYENV.BASE_URL=\"https://plot.ly\";Plotly.newPlot(\"0f3d8847-73f9-4d83-a41a-ea5e36c6d128\", [{\"x\": [\"A\", \"B\", \"C\", \"D\"], \"text\": \"\", \"orientation\": \"v\", \"name\": \"None\", \"type\": \"bar\", \"marker\": {\"line\": {\"width\": 1, \"color\": \"rgba(226, 74, 51, 1.0)\"}, \"color\": \"rgba(226, 74, 51, 0.6)\"}, \"y\": [100, 100, 100, 100]}], {\"legend\": {\"font\": {\"color\": \"#666666\"}, \"bgcolor\": \"#FFFFFF\"}, \"titlefont\": {\"color\": \"#151516\"}, \"xaxis1\": {\"titlefont\": {\"color\": \"#666666\"}, \"zerolinecolor\": \"#F6F6F6\", \"title\": \"\", \"tickfont\": {\"color\": \"#666666\"}, \"showgrid\": true, \"gridcolor\": \"#F6F6F6\"}, \"paper_bgcolor\": \"#FFFFFF\", \"plot_bgcolor\": \"#E5E5E5\", \"yaxis1\": {\"titlefont\": {\"color\": \"#666666\"}, \"zerolinecolor\": \"#F6F6F6\", \"title\": \"\", \"tickfont\": {\"color\": \"#666666\"}, \"showgrid\": true, \"gridcolor\": \"#F6F6F6\"}}, {\"showLink\": true, \"linkText\": \"Export to plot.ly\"})});</script>"
      ],
      "text/plain": [
       "<IPython.core.display.HTML object>"
      ]
     },
     "metadata": {},
     "output_type": "display_data"
    }
   ],
   "source": [
    "df.count().iplot(kind='bar')"
   ]
  },
  {
   "cell_type": "markdown",
   "metadata": {},
   "source": [
    "## Boxplots"
   ]
  },
  {
   "cell_type": "code",
   "execution_count": 34,
   "metadata": {
    "collapsed": false
   },
   "outputs": [
    {
     "data": {
      "text/html": [
       "<div id=\"5d45edc4-c4ad-4a76-9cf3-b0c8f88287f7\" style=\"height: 525px; width: 100%;\" class=\"plotly-graph-div\"></div><script type=\"text/javascript\">require([\"plotly\"], function(Plotly) { window.PLOTLYENV=window.PLOTLYENV || {};window.PLOTLYENV.BASE_URL=\"https://plot.ly\";Plotly.newPlot(\"5d45edc4-c4ad-4a76-9cf3-b0c8f88287f7\", [{\"name\": \"A\", \"boxpoints\": false, \"y\": [1.8787246669561561, 0.028733616663923985, -0.1587931161277573, -1.2219723462024636, 1.2531523973363488, 0.8312132082951045, 1.1740170898586173, -0.24393002059589958, -0.296966543277261, 0.7621695759158762, 0.04210347865555278, -0.7791970481917073, 0.3943032396655093, -1.0146190736152443, -0.4841710096782867, 0.5522466668361006, -2.77187556758784, -0.5181226698708166, -0.49722040792422156, -1.6534757596659548, -0.06027439377033132, 1.4769243769038323, 1.1796346669498379, -0.7816898015019265, 0.8630132212967984, 0.6590246731638996, -1.1013906677685679, -0.9446804895542242, -1.788022470413331, 0.8775002821729455, 0.3546715768521251, -0.16532125735222183, 1.8914747239632839, -1.1251772915449791, 0.8888981026894395, -0.6066117727706714, 0.8314777742724779, 0.3830457069359529, -0.937459527593053, -0.844561047334305, 1.1280232245052606, -1.640427972598561, 0.8971269652786067, 0.4848047458342485, 0.19373507090654035, -0.7387091317560727, -0.3566733282792827, -0.43158335134818315, -0.4899640124314907, 0.5488715658495908, 0.2821768987731658, -0.8832439438038343, 1.271863067044618, 0.10680856505919414, 0.8269478103679717, -0.03266751467505833, -0.34021520002722894, -0.6769186069469743, 0.7126188256918854, 1.8871150025438166, -0.06742662656190869, -1.4789736197389265, 0.346978601690099, -0.3757389938313092, 0.715285859520045, 1.5994858611908638, -0.3692558358591885, 0.13827360227735647, -0.40690530542342296, 0.636973800943974, 0.14658752987818605, -0.3949906255692418, 1.5076392623927681, -0.15486042602397807, 0.22159940179664614, -1.0878244818277978, -0.03354417910293162, 1.2258839316932069, -0.048951028800266715, -1.1089870994157809, 0.021452684803338333, 1.2548854256528554, -1.0913797662237141, -0.539059741192553, 0.6901269187662552, -1.4810451728120602, -0.8468654201203714, 0.3763927872506507, 0.8120568488462931, 0.0031767062628090745, 0.697742291538818, -0.7429703118062226, -0.842231117346612, -0.0666718362166121, 1.8829720647783421, 1.320112956074407, 0.42394324402947475, 0.466299928509142, 0.9415282138953815, -0.7707938096473991], \"line\": {\"width\": 1.3}, \"type\": \"box\", \"marker\": {\"color\": \"rgba(226, 74, 51, 1.0)\"}}, {\"name\": \"B\", \"boxpoints\": false, \"y\": [0.6887194376286498, 0.1040535242504629, 0.38792642015276635, 1.3934230260395444, -0.5375976688704683, -1.1493608786796612, 0.01342890849383506, -0.47231861415738574, 0.24793169472844812, -0.6232083144122951, -1.2121596694710122, -2.4542371001007464, 0.29855785553142483, 1.2997620162676498, 0.9168047366909585, -0.41040614900130634, 1.3147531456519106, -0.12455263569370086, 0.9366143523054554, 0.23573463729990726, -0.8244746170540388, -0.32685668230128845, 1.501781503113865, 0.9830012153240587, 0.6020112305361386, 0.3688304138086671, 1.0090827131320237, -0.5811720111587422, 0.0512884505619472, -1.6917643070157176, -0.25322144257612356, -0.2937357494665306, 0.7368726362448421, 0.5763424997076779, 0.16472110066593693, -0.374254076023172, 1.1280304809680426, 0.6455371548668151, -0.18000225503004413, -0.9128911232313937, -0.5670695205365133, 0.16138491502455474, 1.2118733837294762, 0.4444506280024997, 0.6834767601409083, 1.8020727241195935, 2.4230878273709062, 0.27701889696287213, 1.4067122280705426, -0.33728919328412016, 0.5154870435338148, 0.7751019637809062, 1.400130435077449, 0.8276591566099151, 1.1268119555303864, 0.7016118169589718, 0.476169530704683, -0.5261125753709399, -1.2129692872143456, 0.6126338497954396, 1.5825905557818922, -0.8173630045970658, 0.1075602248072928, 1.2716988894407462, -0.15615948990467535, -0.2968566839654392, 1.7204934641303604, -0.869876624137026, 0.28935077735906545, -1.2052876742800458, -0.263979336251353, -0.02815365780209253, -0.04062347728476395, 0.943760296027789, -1.7797735906553165, 0.4485755919087686, 0.14778332986993048, 0.5305019463041807, 1.6359913516932165, -0.3437427119285297, 1.9109783094330681, 0.6818924480193401, -0.42214824562337705, 0.8935317581184008, 1.2587495288352297, -0.5992845246668753, 2.7851237345776405, -1.5158096238899554, 0.04177421570103183, 0.48980398157362903, 1.063643861677667, -0.8486329162129157, -1.86936339853131, 0.24761777046722996, 1.290606988097702, 0.17046338292604407, 0.14181179559597848, 0.6505415244850333, -2.5850581533594545, -0.30813091794721653], \"line\": {\"width\": 1.3}, \"type\": \"box\", \"marker\": {\"color\": \"rgba(62, 111, 176, 1.0)\"}}, {\"name\": \"C\", \"boxpoints\": false, \"y\": [1.0667334168325768, 0.04817571551860875, -0.6353709157290994, -0.29979428249659507, 0.30291706303457033, -1.2658520234759039, 0.4984256330100474, -0.4813817437844393, 1.6528819231392327, -1.0387894611418347, -1.4866253379043493, -0.5281135473322252, -0.061645252730345844, 0.7876423965771268, 0.9285191892602837, -3.0483938246413547, -0.371184208418135, 0.11169331199774239, 0.30352330980386477, -1.1851393464396252, -0.3023997655692267, 1.4199893168847753, -0.332851303404407, 0.7955908630250091, 0.5869705278914006, -0.45090328668726354, -0.7814566611757896, -0.1261200409144497, 0.7060858452328673, -0.8894721878843294, 0.6064992291432117, -0.1963991863666514, 0.16697094643083513, -0.06591707111576753, 0.8961422265850149, 0.8939803073905991, 0.2526177880230376, -1.2523243277936627, 0.9749672569040144, 0.9687477057343876, 0.26351967435246515, -0.9517261189215155, -0.18707956459088698, -0.39391833601946274, 0.5273775265831957, -0.48180251718398176, -2.2230374431929953, 2.0999928572789828, 0.5496483529576708, 1.067298459209482, -0.3040289105606048, 0.1352094843666391, -0.9944404721270197, 2.2258275006902912, -0.11689955437978636, 0.41231462999024887, 0.7856039151273921, -0.6894731524779986, -0.8276899193670904, 0.23638272241448607, 1.3266743967632526, 0.9626096963262857, -0.28379390855690406, -0.417413711892243, -1.3341211120615861, 0.9298055489835776, 2.106720126861483, 0.23150307059926345, 0.8864836518334782, 0.4193977048083098, 0.3190869644200757, 0.9673541346062681, 0.42245148076732175, 1.0906377526894717, 1.3887188298690671, -0.19507483218944058, -0.9347090401182315, 0.30126885232107575, 0.42495072953595375, -0.9170212042816844, -1.6965969381460768, -0.011576471618042839, -1.0479065708976978, -0.4749222730814971, 0.4229046102099884, 0.08254929486846736, -0.7783883617548714, -0.17950878512595098, 0.4391940123110264, -1.9667304216807953, -1.5652802021531136, 0.8163770970520242, -0.008375093041838632, 0.5510487504106222, -0.4239325998518183, -0.1297116221823799, -0.10728910870450034, -0.12169367361116121, -0.6905111268638191, -0.2653540299125418], \"line\": {\"width\": 1.3}, \"type\": \"box\", \"marker\": {\"color\": \"rgba(132, 118, 202, 1.0)\"}}, {\"name\": \"D\", \"boxpoints\": false, \"y\": [0.5439560303056027, 1.8421879324257613, -0.6375584499267892, -1.113621595762316, -2.5460826344966634, -1.4694525849240658, 1.5284509091178395, -0.2389286047643509, -1.8771013496698048, 0.7967095179585106, -1.2751392945819797, -0.3919771719871495, 0.6960770780779357, 1.0829877919884603, -0.21798245190329507, 0.10031667681839129, 0.39551692710003933, 0.03022462233656908, -0.3327329523770193, -0.204819010502919, -0.498599044144297, -2.287561059130041, -0.2626249290420713, -2.7487145066091996, -0.666926270349069, -2.0379098459994895, 0.4076679798231559, 1.2245324594636484, -2.0903293143661017, 0.5730523735386692, -0.8155129116660126, -0.9572874252328925, 0.2646752398006613, -1.59152570791709, 0.0934028853207141, -2.602771223170992, 0.560010384592385, 0.449602390416327, -0.005796794476065169, 0.1829347250578045, -0.5607194705468903, -1.1999112237192675, -1.5750218946994066, 0.9111111432091317, -0.2530599561069696, -0.5460310452823662, -0.2531538203527998, 1.5968736605431069, 1.723507060923573, 0.38763182009739877, -1.5443680470309729, 1.2505835233573588, 0.0032375885699842803, 0.3870066878402003, -0.32906689091979147, 0.3856397258220775, -0.1654479720586817, 0.2232842423247386, -0.4418766853437538, -0.6751906059090874, -1.6521803078301385, 0.8305325757578166, 0.6577807720682736, -1.2851830040136305, 0.5089005765755124, 0.5962021316815027, 0.9573351203673642, -1.7458475655160375, -1.7131000048598244, 1.5732405203322046, -0.6605298861077683, -1.3437487967599893, 1.9772828633357302, -0.2856844646078326, 0.19293980157348012, 0.1628250911198371, 0.4208217295167736, 0.5627226183638288, -1.058090429960864, -1.3589615830656872, 2.138807050366944, 0.885718335515041, 0.8374040360650308, 0.49834346725709405, -1.3963572343750588, 2.2245606506923625, 0.19641383189506273, -0.3435398382353588, 0.7215114388529363, -0.8327583822270256, -2.039974975731211, 1.2859290252046311, -1.1577060578657161, 0.36795754346511866, 0.970791311065794, 0.496204293102698, -0.05627542841788665, 0.10113620396598295, 0.7547476274222054, 0.15433234934660506], \"line\": {\"width\": 1.3}, \"type\": \"box\", \"marker\": {\"color\": \"rgba(101, 101, 101, 1.0)\"}}], {\"legend\": {\"font\": {\"color\": \"#666666\"}, \"bgcolor\": \"#FFFFFF\"}, \"titlefont\": {\"color\": \"#151516\"}, \"xaxis1\": {\"titlefont\": {\"color\": \"#666666\"}, \"zerolinecolor\": \"#F6F6F6\", \"title\": \"\", \"tickfont\": {\"color\": \"#666666\"}, \"showgrid\": true, \"gridcolor\": \"#F6F6F6\"}, \"paper_bgcolor\": \"#FFFFFF\", \"plot_bgcolor\": \"#E5E5E5\", \"yaxis1\": {\"titlefont\": {\"color\": \"#666666\"}, \"zerolinecolor\": \"#F6F6F6\", \"title\": \"\", \"tickfont\": {\"color\": \"#666666\"}, \"showgrid\": true, \"gridcolor\": \"#F6F6F6\"}}, {\"showLink\": true, \"linkText\": \"Export to plot.ly\"})});</script>"
      ],
      "text/plain": [
       "<IPython.core.display.HTML object>"
      ]
     },
     "metadata": {},
     "output_type": "display_data"
    }
   ],
   "source": [
    "df.iplot(kind='box')"
   ]
  },
  {
   "cell_type": "markdown",
   "metadata": {},
   "source": [
    "## 3d Surface"
   ]
  },
  {
   "cell_type": "code",
   "execution_count": 47,
   "metadata": {
    "collapsed": false
   },
   "outputs": [
    {
     "data": {
      "text/html": [
       "<div id=\"1bd337c5-1c72-4f4d-9748-7ff51b738774\" style=\"height: 525px; width: 100%;\" class=\"plotly-graph-div\"></div><script type=\"text/javascript\">require([\"plotly\"], function(Plotly) { window.PLOTLYENV=window.PLOTLYENV || {};window.PLOTLYENV.BASE_URL=\"https://plot.ly\";Plotly.newPlot(\"1bd337c5-1c72-4f4d-9748-7ff51b738774\", [{\"colorscale\": [[0.0, \"rgb(165,0,38)\"], [0.1, \"rgb(215,48,39)\"], [0.2, \"rgb(244,109,67)\"], [0.3, \"rgb(253,174,97)\"], [0.4, \"rgb(254,224,144)\"], [0.5, \"rgb(255,255,191)\"], [0.6, \"rgb(224,243,248)\"], [0.7, \"rgb(171,217,233)\"], [0.8, \"rgb(116,173,209)\"], [0.9, \"rgb(69,117,180)\"], [1.0, \"rgb(49,54,149)\"]], \"x\": [0, 1, 2, 3, 4], \"type\": \"surface\", \"y\": [\"x\", \"y\", \"z\"], \"z\": [[1, 2, 3, 4, 5], [10, 20, 30, 20, 10], [5, 4, 3, 2, 1]]}], {\"legend\": {\"font\": {\"color\": \"#666666\"}, \"bgcolor\": \"#FFFFFF\"}, \"titlefont\": {\"color\": \"#151516\"}, \"xaxis1\": {\"titlefont\": {\"color\": \"#666666\"}, \"zerolinecolor\": \"#F6F6F6\", \"title\": \"\", \"tickfont\": {\"color\": \"#666666\"}, \"showgrid\": true, \"gridcolor\": \"#F6F6F6\"}, \"paper_bgcolor\": \"#FFFFFF\", \"plot_bgcolor\": \"#E5E5E5\", \"yaxis1\": {\"titlefont\": {\"color\": \"#666666\"}, \"zerolinecolor\": \"#F6F6F6\", \"title\": \"\", \"tickfont\": {\"color\": \"#666666\"}, \"showgrid\": true, \"gridcolor\": \"#F6F6F6\"}}, {\"showLink\": true, \"linkText\": \"Export to plot.ly\"})});</script>"
      ],
      "text/plain": [
       "<IPython.core.display.HTML object>"
      ]
     },
     "metadata": {},
     "output_type": "display_data"
    }
   ],
   "source": [
    "df3 = pd.DataFrame({'x':[1,2,3,4,5],'y':[10,20,30,20,10],'z':[5,4,3,2,1]})\n",
    "df3.iplot(kind='surface',colorscale='rdylbu')"
   ]
  },
  {
   "cell_type": "markdown",
   "metadata": {},
   "source": [
    "## Spread"
   ]
  },
  {
   "cell_type": "code",
   "execution_count": 50,
   "metadata": {
    "collapsed": false
   },
   "outputs": [
    {
     "data": {
      "text/html": [
       "<div id=\"d77d91d4-36ef-4915-a84f-8e43772897cc\" style=\"height: 525px; width: 100%;\" class=\"plotly-graph-div\"></div><script type=\"text/javascript\">require([\"plotly\"], function(Plotly) { window.PLOTLYENV=window.PLOTLYENV || {};window.PLOTLYENV.BASE_URL=\"https://plot.ly\";Plotly.newPlot(\"d77d91d4-36ef-4915-a84f-8e43772897cc\", [{\"x\": [0, 1, 2, 3, 4, 5, 6, 7, 8, 9, 10, 11, 12, 13, 14, 15, 16, 17, 18, 19, 20, 21, 22, 23, 24, 25, 26, 27, 28, 29, 30, 31, 32, 33, 34, 35, 36, 37, 38, 39, 40, 41, 42, 43, 44, 45, 46, 47, 48, 49, 50, 51, 52, 53, 54, 55, 56, 57, 58, 59, 60, 61, 62, 63, 64, 65, 66, 67, 68, 69, 70, 71, 72, 73, 74, 75, 76, 77, 78, 79, 80, 81, 82, 83, 84, 85, 86, 87, 88, 89, 90, 91, 92, 93, 94, 95, 96, 97, 98, 99], \"text\": \"\", \"y\": [1.8787246669561561, 0.028733616663923985, -0.1587931161277573, -1.2219723462024636, 1.2531523973363488, 0.8312132082951045, 1.1740170898586173, -0.24393002059589958, -0.296966543277261, 0.7621695759158762, 0.04210347865555278, -0.7791970481917073, 0.3943032396655093, -1.0146190736152443, -0.4841710096782867, 0.5522466668361006, -2.77187556758784, -0.5181226698708166, -0.49722040792422156, -1.6534757596659548, -0.06027439377033132, 1.4769243769038323, 1.1796346669498379, -0.7816898015019265, 0.8630132212967984, 0.6590246731638996, -1.1013906677685679, -0.9446804895542242, -1.788022470413331, 0.8775002821729455, 0.3546715768521251, -0.16532125735222183, 1.8914747239632839, -1.1251772915449791, 0.8888981026894395, -0.6066117727706714, 0.8314777742724779, 0.3830457069359529, -0.937459527593053, -0.844561047334305, 1.1280232245052606, -1.640427972598561, 0.8971269652786067, 0.4848047458342485, 0.19373507090654035, -0.7387091317560727, -0.3566733282792827, -0.43158335134818315, -0.4899640124314907, 0.5488715658495908, 0.2821768987731658, -0.8832439438038343, 1.271863067044618, 0.10680856505919414, 0.8269478103679717, -0.03266751467505833, -0.34021520002722894, -0.6769186069469743, 0.7126188256918854, 1.8871150025438166, -0.06742662656190869, -1.4789736197389265, 0.346978601690099, -0.3757389938313092, 0.715285859520045, 1.5994858611908638, -0.3692558358591885, 0.13827360227735647, -0.40690530542342296, 0.636973800943974, 0.14658752987818605, -0.3949906255692418, 1.5076392623927681, -0.15486042602397807, 0.22159940179664614, -1.0878244818277978, -0.03354417910293162, 1.2258839316932069, -0.048951028800266715, -1.1089870994157809, 0.021452684803338333, 1.2548854256528554, -1.0913797662237141, -0.539059741192553, 0.6901269187662552, -1.4810451728120602, -0.8468654201203714, 0.3763927872506507, 0.8120568488462931, 0.0031767062628090745, 0.697742291538818, -0.7429703118062226, -0.842231117346612, -0.0666718362166121, 1.8829720647783421, 1.320112956074407, 0.42394324402947475, 0.466299928509142, 0.9415282138953815, -0.7707938096473991], \"mode\": \"lines\", \"line\": {\"dash\": \"solid\", \"width\": 1.3, \"color\": \"rgba(226, 74, 51, 1.0)\"}, \"type\": \"scatter\", \"name\": \"A\"}, {\"x\": [0, 1, 2, 3, 4, 5, 6, 7, 8, 9, 10, 11, 12, 13, 14, 15, 16, 17, 18, 19, 20, 21, 22, 23, 24, 25, 26, 27, 28, 29, 30, 31, 32, 33, 34, 35, 36, 37, 38, 39, 40, 41, 42, 43, 44, 45, 46, 47, 48, 49, 50, 51, 52, 53, 54, 55, 56, 57, 58, 59, 60, 61, 62, 63, 64, 65, 66, 67, 68, 69, 70, 71, 72, 73, 74, 75, 76, 77, 78, 79, 80, 81, 82, 83, 84, 85, 86, 87, 88, 89, 90, 91, 92, 93, 94, 95, 96, 97, 98, 99], \"text\": \"\", \"y\": [0.6887194376286498, 0.1040535242504629, 0.38792642015276635, 1.3934230260395444, -0.5375976688704683, -1.1493608786796612, 0.01342890849383506, -0.47231861415738574, 0.24793169472844812, -0.6232083144122951, -1.2121596694710122, -2.4542371001007464, 0.29855785553142483, 1.2997620162676498, 0.9168047366909585, -0.41040614900130634, 1.3147531456519106, -0.12455263569370086, 0.9366143523054554, 0.23573463729990726, -0.8244746170540388, -0.32685668230128845, 1.501781503113865, 0.9830012153240587, 0.6020112305361386, 0.3688304138086671, 1.0090827131320237, -0.5811720111587422, 0.0512884505619472, -1.6917643070157176, -0.25322144257612356, -0.2937357494665306, 0.7368726362448421, 0.5763424997076779, 0.16472110066593693, -0.374254076023172, 1.1280304809680426, 0.6455371548668151, -0.18000225503004413, -0.9128911232313937, -0.5670695205365133, 0.16138491502455474, 1.2118733837294762, 0.4444506280024997, 0.6834767601409083, 1.8020727241195935, 2.4230878273709062, 0.27701889696287213, 1.4067122280705426, -0.33728919328412016, 0.5154870435338148, 0.7751019637809062, 1.400130435077449, 0.8276591566099151, 1.1268119555303864, 0.7016118169589718, 0.476169530704683, -0.5261125753709399, -1.2129692872143456, 0.6126338497954396, 1.5825905557818922, -0.8173630045970658, 0.1075602248072928, 1.2716988894407462, -0.15615948990467535, -0.2968566839654392, 1.7204934641303604, -0.869876624137026, 0.28935077735906545, -1.2052876742800458, -0.263979336251353, -0.02815365780209253, -0.04062347728476395, 0.943760296027789, -1.7797735906553165, 0.4485755919087686, 0.14778332986993048, 0.5305019463041807, 1.6359913516932165, -0.3437427119285297, 1.9109783094330681, 0.6818924480193401, -0.42214824562337705, 0.8935317581184008, 1.2587495288352297, -0.5992845246668753, 2.7851237345776405, -1.5158096238899554, 0.04177421570103183, 0.48980398157362903, 1.063643861677667, -0.8486329162129157, -1.86936339853131, 0.24761777046722996, 1.290606988097702, 0.17046338292604407, 0.14181179559597848, 0.6505415244850333, -2.5850581533594545, -0.30813091794721653], \"mode\": \"lines\", \"line\": {\"dash\": \"solid\", \"width\": 1.3, \"color\": \"rgba(62, 111, 176, 1.0)\"}, \"type\": \"scatter\", \"name\": \"B\"}, {\"yaxis\": \"y2\", \"mode\": \"lines\", \"xaxis\": \"x2\", \"connectgaps\": false, \"x\": [0, 1, 2, 3, 4, 5, 6, 7, 8, 9, 10, 11, 12, 13, 14, 15, 16, 17, 18, 19, 20, 21, 22, 23, 24, 25, 26, 27, 28, 29, 30, 31, 32, 33, 34, 35, 36, 37, 38, 39, 40, 41, 42, 43, 44, 45, 46, 47, 48, 49, 50, 51, 52, 53, 54, 55, 56, 57, 58, 59, 60, 61, 62, 63, 64, 65, 66, 67, 68, 69, 70, 71, 72, 73, 74, 75, 76, 77, 78, 79, 80, 81, 82, 83, 84, 85, 86, 87, 88, 89, 90, 91, 92, 93, 94, 95, 96, 97, 98, 99], \"showlegend\": false, \"y\": [\"\", -0.0753199075865389, -0.5467195362805236, -2.6153953722420082, \"\", \"\", \"\", \"\", -0.5448982380057091, \"\", \"\", \"\", \"\", -2.314381089882894, -1.4009757463692452, \"\", -4.086628713239751, -0.3935700341771157, -1.433834760229677, -1.889210396965862, \"\", \"\", -0.3221468361640272, -1.764691016825985, \"\", \"\", -2.1104733809005918, -0.36350847839548206, -1.8393109209752783, \"\", \"\", \"\", \"\", -1.701519791252657, \"\", -0.23235769674749934, -0.29655270669556466, -0.26249144793086215, -0.7574572725630089, \"\", \"\", -1.8018128876231159, -0.3147464184508695, \"\", -0.48974168923436795, -2.5407818558756663, -2.779761155650189, -0.7086022483110552, -1.8966762405020332, \"\", -0.23331014476064899, -1.6583459075847404, -0.128267368032831, -0.720850591550721, -0.29986414516241466, -0.7342793316340301, -0.8163847307319119, -0.15080603157603434, \"\", \"\", -1.650017182343801, -0.6616106151418607, \"\", -1.6474378832720553, \"\", \"\", -2.089749299989549, \"\", -0.6962560827824884, \"\", \"\", -0.36683696776714925, \"\", -1.098620722051767, \"\", -1.5364000737365664, -0.1813275089728621, \"\", -1.6849423804934833, -0.7652443874872512, -1.8895256246297298, \"\", -0.6692315206003371, -1.4325914993109539, -0.5686226100689745, -0.8817606481451848, -3.6319891546980116, \"\", \"\", -0.48662727531081995, -0.36590157013884894, \"\", \"\", -0.3142896066838421, \"\", \"\", \"\", -0.18424159597589135, \"\", -0.46266289170018254], \"type\": \"scatter\", \"fill\": \"tozeroy\", \"line\": {\"dash\": \"solid\", \"width\": 0.5, \"color\": \"red\"}, \"name\": \"Spread\"}, {\"yaxis\": \"y2\", \"mode\": \"lines\", \"xaxis\": \"x2\", \"connectgaps\": false, \"x\": [0, 1, 2, 3, 4, 5, 6, 7, 8, 9, 10, 11, 12, 13, 14, 15, 16, 17, 18, 19, 20, 21, 22, 23, 24, 25, 26, 27, 28, 29, 30, 31, 32, 33, 34, 35, 36, 37, 38, 39, 40, 41, 42, 43, 44, 45, 46, 47, 48, 49, 50, 51, 52, 53, 54, 55, 56, 57, 58, 59, 60, 61, 62, 63, 64, 65, 66, 67, 68, 69, 70, 71, 72, 73, 74, 75, 76, 77, 78, 79, 80, 81, 82, 83, 84, 85, 86, 87, 88, 89, 90, 91, 92, 93, 94, 95, 96, 97, 98, 99], \"showlegend\": false, \"y\": [1.1900052293275063, \"\", \"\", \"\", 1.790750066206817, 1.9805740869747657, 1.1605881813647823, 0.22838859356148616, \"\", 1.3853778903281713, 1.254263148126565, 1.675040051909039, 0.09574538413408445, \"\", \"\", 0.9626528158374069, \"\", \"\", \"\", \"\", 0.7642002232837075, 1.8037810592051207, \"\", \"\", 0.2610019907606598, 0.29019425935523246, \"\", \"\", \"\", 2.569264589188663, 0.6078930194282486, 0.12841449211430875, 1.1546020877184417, \"\", 0.7241770020235025, \"\", \"\", \"\", \"\", 0.06833007589708862, 1.6950927450417739, \"\", \"\", 0.040354117831748804, \"\", \"\", \"\", \"\", \"\", 0.8861607591337111, \"\", \"\", \"\", \"\", \"\", \"\", \"\", \"\", 1.9255881129062309, 1.274481152748377, \"\", \"\", 0.23941837688280618, \"\", 0.8714453494247203, 1.896342545156303, \"\", 1.0081502264143825, \"\", 1.8422614752240198, 0.4105668661295391, \"\", 1.5482627396775321, \"\", 2.0013729924519628, \"\", \"\", 0.6953819853890262, \"\", \"\", \"\", 0.5729929776335153, \"\", \"\", \"\", \"\", \"\", 1.8922024111406062, 0.7702826331452614, \"\", \"\", 0.10566260440669306, 1.0271322811846981, \"\", 0.5923650766806401, 1.149649573148363, 0.28213144843349625, \"\", 3.5265863672548363, \"\"], \"type\": \"scatter\", \"fill\": \"tozeroy\", \"line\": {\"dash\": \"solid\", \"width\": 0.5, \"color\": \"green\"}, \"name\": \"Spread\"}], {\"legend\": {\"font\": {\"color\": \"#666666\"}, \"bgcolor\": \"#FFFFFF\"}, \"titlefont\": {\"color\": \"#151516\"}, \"xaxis1\": {\"titlefont\": {\"color\": \"#666666\"}, \"zerolinecolor\": \"#F6F6F6\", \"title\": \"\", \"tickfont\": {\"color\": \"#666666\"}, \"showgrid\": true, \"gridcolor\": \"#F6F6F6\"}, \"paper_bgcolor\": \"#FFFFFF\", \"yaxis2\": {\"titlefont\": {\"color\": \"#666666\"}, \"zerolinecolor\": \"#F6F6F6\", \"title\": \"Spread\", \"tickfont\": {\"color\": \"#666666\"}, \"showgrid\": true, \"domain\": [0, 0.25], \"gridcolor\": \"#F6F6F6\"}, \"plot_bgcolor\": \"#E5E5E5\", \"hovermode\": \"x\", \"xaxis2\": {\"titlefont\": {\"color\": \"#666666\"}, \"zerolinecolor\": \"#F6F6F6\", \"showgrid\": true, \"title\": \"\", \"anchor\": \"y2\", \"tickfont\": {\"color\": \"#666666\"}, \"showticklabels\": false, \"gridcolor\": \"#F6F6F6\"}, \"yaxis1\": {\"titlefont\": {\"color\": \"#666666\"}, \"zerolinecolor\": \"#F6F6F6\", \"title\": \"\", \"tickfont\": {\"color\": \"#666666\"}, \"showgrid\": true, \"domain\": [0.3, 1], \"gridcolor\": \"#F6F6F6\"}}, {\"showLink\": true, \"linkText\": \"Export to plot.ly\"})});</script>"
      ],
      "text/plain": [
       "<IPython.core.display.HTML object>"
      ]
     },
     "metadata": {},
     "output_type": "display_data"
    }
   ],
   "source": [
    "df[['A','B']].iplot(kind='spread')"
   ]
  },
  {
   "cell_type": "markdown",
   "metadata": {},
   "source": [
    "## histogram"
   ]
  },
  {
   "cell_type": "code",
   "execution_count": 56,
   "metadata": {
    "collapsed": false
   },
   "outputs": [
    {
     "data": {
      "text/html": [
       "<div id=\"be69ae84-c3c4-4776-a0e8-f44c59817e90\" style=\"height: 525px; width: 100%;\" class=\"plotly-graph-div\"></div><script type=\"text/javascript\">require([\"plotly\"], function(Plotly) { window.PLOTLYENV=window.PLOTLYENV || {};window.PLOTLYENV.BASE_URL=\"https://plot.ly\";Plotly.newPlot(\"be69ae84-c3c4-4776-a0e8-f44c59817e90\", [{\"x\": [1.8787246669561561, 0.028733616663923985, -0.1587931161277573, -1.2219723462024636, 1.2531523973363488, 0.8312132082951045, 1.1740170898586173, -0.24393002059589958, -0.296966543277261, 0.7621695759158762, 0.04210347865555278, -0.7791970481917073, 0.3943032396655093, -1.0146190736152443, -0.4841710096782867, 0.5522466668361006, -2.77187556758784, -0.5181226698708166, -0.49722040792422156, -1.6534757596659548, -0.06027439377033132, 1.4769243769038323, 1.1796346669498379, -0.7816898015019265, 0.8630132212967984, 0.6590246731638996, -1.1013906677685679, -0.9446804895542242, -1.788022470413331, 0.8775002821729455, 0.3546715768521251, -0.16532125735222183, 1.8914747239632839, -1.1251772915449791, 0.8888981026894395, -0.6066117727706714, 0.8314777742724779, 0.3830457069359529, -0.937459527593053, -0.844561047334305, 1.1280232245052606, -1.640427972598561, 0.8971269652786067, 0.4848047458342485, 0.19373507090654035, -0.7387091317560727, -0.3566733282792827, -0.43158335134818315, -0.4899640124314907, 0.5488715658495908, 0.2821768987731658, -0.8832439438038343, 1.271863067044618, 0.10680856505919414, 0.8269478103679717, -0.03266751467505833, -0.34021520002722894, -0.6769186069469743, 0.7126188256918854, 1.8871150025438166, -0.06742662656190869, -1.4789736197389265, 0.346978601690099, -0.3757389938313092, 0.715285859520045, 1.5994858611908638, -0.3692558358591885, 0.13827360227735647, -0.40690530542342296, 0.636973800943974, 0.14658752987818605, -0.3949906255692418, 1.5076392623927681, -0.15486042602397807, 0.22159940179664614, -1.0878244818277978, -0.03354417910293162, 1.2258839316932069, -0.048951028800266715, -1.1089870994157809, 0.021452684803338333, 1.2548854256528554, -1.0913797662237141, -0.539059741192553, 0.6901269187662552, -1.4810451728120602, -0.8468654201203714, 0.3763927872506507, 0.8120568488462931, 0.0031767062628090745, 0.697742291538818, -0.7429703118062226, -0.842231117346612, -0.0666718362166121, 1.8829720647783421, 1.320112956074407, 0.42394324402947475, 0.466299928509142, 0.9415282138953815, -0.7707938096473991], \"orientation\": \"v\", \"name\": \"A\", \"opacity\": 0.8, \"histfunc\": \"count\", \"type\": \"histogram\", \"histnorm\": \"\", \"nbinsx\": 25, \"marker\": {\"line\": {\"width\": 1.3, \"color\": \"#D9D9D9\"}, \"color\": \"rgba(226, 74, 51, 1.0)\"}}], {\"legend\": {\"font\": {\"color\": \"#666666\"}, \"bgcolor\": \"#FFFFFF\"}, \"titlefont\": {\"color\": \"#151516\"}, \"xaxis1\": {\"titlefont\": {\"color\": \"#666666\"}, \"zerolinecolor\": \"#F6F6F6\", \"title\": \"\", \"tickfont\": {\"color\": \"#666666\"}, \"showgrid\": true, \"gridcolor\": \"#F6F6F6\"}, \"paper_bgcolor\": \"#FFFFFF\", \"barmode\": \"overlay\", \"plot_bgcolor\": \"#E5E5E5\", \"yaxis1\": {\"titlefont\": {\"color\": \"#666666\"}, \"zerolinecolor\": \"#F6F6F6\", \"title\": \"\", \"tickfont\": {\"color\": \"#666666\"}, \"showgrid\": true, \"gridcolor\": \"#F6F6F6\"}}, {\"showLink\": true, \"linkText\": \"Export to plot.ly\"})});</script>"
      ],
      "text/plain": [
       "<IPython.core.display.HTML object>"
      ]
     },
     "metadata": {},
     "output_type": "display_data"
    }
   ],
   "source": [
    "df['A'].iplot(kind='hist',bins=25)"
   ]
  },
  {
   "cell_type": "code",
   "execution_count": 20,
   "metadata": {
    "collapsed": false
   },
   "outputs": [
    {
     "data": {
      "application/vnd.plotly.v1+json": {
       "config": {
        "linkText": "Export to plot.ly",
        "plotlyServerURL": "https://plot.ly",
        "showLink": true
       },
       "data": [
        {
         "marker": {
          "color": [
           "rgb(255, 153, 51)",
           "rgb(55, 128, 191)",
           "rgb(50, 171, 96)",
           "rgb(128, 0, 128)",
           "rgb(219, 64, 82)",
           "rgb(0, 128, 128)",
           "rgb(255, 255, 51)",
           "rgb(128, 128, 0)",
           "rgb(251, 128, 114)",
           "rgb(128, 177, 211)"
          ],
          "line": {
           "width": 1.3
          },
          "size": [
           67,
           79,
           23,
           49,
           86,
           66,
           67,
           59,
           59,
           48,
           39,
           37,
           112,
           69,
           84,
           35,
           49,
           69,
           58,
           86,
           64,
           51,
           64,
           77,
           44,
           59,
           82,
           35,
           68,
           63,
           44,
           69,
           29,
           30,
           56,
           62,
           99,
           80,
           72,
           32,
           38,
           36,
           35,
           42,
           60,
           64,
           48,
           51,
           86,
           40,
           41,
           58,
           56,
           31,
           44,
           47,
           45,
           28,
           26,
           61,
           39,
           40,
           23,
           12,
           77,
           50,
           51,
           43,
           27,
           23,
           48,
           56,
           107,
           65,
           68,
           64,
           95,
           30,
           73,
           81,
           61,
           55,
           66,
           49,
           35,
           53,
           50,
           68,
           27,
           49,
           64,
           55,
           37,
           41,
           67,
           47,
           61,
           41,
           38,
           31
          ],
          "symbol": "circle"
         },
         "mode": "markers",
         "text": "",
         "type": "scatter",
         "x": [
          0.4046885802662556,
          1.1634609392181832,
          0.23831008927938055,
          -0.45313528311521356,
          0.6379419156491609,
          -1.4438142211840077,
          1.8009472366221853,
          -0.7019073870945766,
          -0.8114125274235565,
          -0.19453020546169025,
          -0.7293890011435047,
          0.6063177785699431,
          1.0260493772417252,
          -0.9745601272849126,
          0.12845004434385796,
          -0.7341950315109401,
          -0.9369463818518106,
          -1.1556645432178285,
          0.5517415501440451,
          1.470943400591443,
          0.11098759972307877,
          -0.872040405036734,
          -0.725573494045479,
          0.8762144102495203,
          -0.7256656974838994,
          0.3804463638734659,
          0.2530982777719823,
          -0.4352234077201285,
          -1.365033459939283,
          0.5518013661404798,
          -1.619294142218477,
          -0.15950966538974887,
          -1.0364676267292028,
          -0.7822275358569596,
          -0.596292607538201,
          1.462245547155082,
          -0.042939762307161664,
          -1.201448817457161,
          -0.7868093739855325,
          -1.350711335531761,
          1.5003530252108532,
          0.5836491221240611,
          -0.49000745223916403,
          -0.224690766978519,
          0.9357732755516264,
          1.6148852537842429,
          -0.5293467512155942,
          -0.03504591766188298,
          -0.5427162155618057,
          0.10466060428419802,
          -2.0619027260621454,
          1.5595819261835777,
          -1.2746582360580982,
          0.659713111290282,
          0.5209346905381115,
          -1.7331676875805266,
          0.03367417605899992,
          0.5460604281705843,
          -1.5229265854603575,
          -1.493244595701655,
          0.3442258291328287,
          -0.5890189634984968,
          -1.7400819468251014,
          0.4571841912093843,
          -0.8163286138659932,
          1.2234095046336957,
          -1.9175262230633567,
          -0.15235500484728523,
          -0.698914922498096,
          -0.586607717471715,
          -0.7782598990314717,
          -0.3192471540884277,
          1.35728673860839,
          -0.09084304778350655,
          1.5978710071133138,
          0.5543089832036076,
          -1.2756408674786088,
          -0.5622618397965323,
          -0.7738852311628306,
          1.74867279085942,
          -0.45789212961166326,
          -1.048740322865479,
          2.2815737330960917,
          -2.1568479545387556,
          0.24697011679665867,
          -0.899739675819223,
          0.021203123180370407,
          0.6687085372297036,
          0.47964616017111034,
          0.31588041201361655,
          0.5555818984785732,
          -1.4629086445238069,
          0.16314192016126078,
          0.920584193980645,
          1.7813749673543573,
          0.9671144937881719,
          0.6490999417134848,
          -0.9330982876728201,
          1.8844394384921241,
          -0.5615173612921415
         ],
         "y": [
          -0.036356967863489895,
          0.6423978464479991,
          0.06196203067280018,
          -0.5954524694442337,
          -1.5492130648730433,
          0.9311582520537345,
          0.668820275662023,
          -1.7468085590922156,
          -0.1696769342720388,
          -0.16394718749777826,
          0.9751552245798681,
          -1.116024324722163,
          -0.07156742000424661,
          -0.14331542135327674,
          0.9701102019525644,
          1.1032867331856737,
          -1.3573861940736234,
          1.401711275479528,
          0.3492238065607233,
          1.1495498995481301,
          -0.25578600485966096,
          -0.322862665425817,
          -0.6344716356855562,
          0.6630306819263807,
          0.5383410993755943,
          -1.3039213197094524,
          0.14185396625413685,
          0.42771001158341787,
          0.7518401055320181,
          1.539785467378347,
          -0.537891810015294,
          -1.3178235865616854,
          0.1249254623762938,
          -2.1592279543521853,
          -0.08278135031086314,
          -0.6181565700562351,
          -0.11673623829000321,
          -0.13769998347284979,
          1.079604089840864,
          0.5672219678230143,
          -0.08637198946114594,
          -1.1331304631062196,
          1.2290718062342558,
          -0.7616001988702629,
          -0.1026849109720081,
          -0.0010621314607047187,
          0.17853018027367948,
          -0.8369727453835258,
          0.5641170382120637,
          -0.2809140775862545,
          -0.161649970436904,
          0.9867336734143902,
          0.9626034283246061,
          1.6615712411403147,
          -1.845096222709994,
          0.322978603804716,
          0.5015961251814729,
          -0.20196396940320452,
          1.5381237398756653,
          -1.569086207055157,
          1.4564700565976911,
          -0.04912766685608523,
          -0.69211787687324,
          0.9659138585689333,
          0.07107648041341595,
          1.1711131962254953,
          1.8201511950554998,
          -1.3676254840529378,
          1.1995116297125372,
          0.10992919238102469,
          0.3374614915014219,
          0.901256752395691,
          0.942744548829377,
          -0.1779698098371036,
          -0.6711557827944291,
          0.4877171261065864,
          0.3865014857062134,
          -0.5575141658063655,
          0.03930754883116221,
          -0.40015756971593525,
          1.4028018295464215,
          -0.3733233526762418,
          1.3026064618230895,
          0.07858820380263296,
          -0.5980967986591397,
          0.6363700701730874,
          0.3542755147951408,
          -0.6681973227150312,
          -0.17867581943479036,
          1.9604410397063305,
          1.628367333941146,
          0.39812181707511507,
          -0.3886088203518295,
          0.07951355276205435,
          1.2256210551788733,
          0.9633559855214752,
          0.20691469233021173,
          1.3791363349919523,
          -0.5151369461288825,
          0.5599252179345603
         ]
        }
       ],
       "layout": {
        "legend": {
         "bgcolor": "#F5F6F9",
         "font": {
          "color": "#4D5663"
         }
        },
        "paper_bgcolor": "#F5F6F9",
        "plot_bgcolor": "#F5F6F9",
        "template": {
         "data": {
          "bar": [
           {
            "error_x": {
             "color": "#2a3f5f"
            },
            "error_y": {
             "color": "#2a3f5f"
            },
            "marker": {
             "line": {
              "color": "#E5ECF6",
              "width": 0.5
             },
             "pattern": {
              "fillmode": "overlay",
              "size": 10,
              "solidity": 0.2
             }
            },
            "type": "bar"
           }
          ],
          "barpolar": [
           {
            "marker": {
             "line": {
              "color": "#E5ECF6",
              "width": 0.5
             },
             "pattern": {
              "fillmode": "overlay",
              "size": 10,
              "solidity": 0.2
             }
            },
            "type": "barpolar"
           }
          ],
          "carpet": [
           {
            "aaxis": {
             "endlinecolor": "#2a3f5f",
             "gridcolor": "white",
             "linecolor": "white",
             "minorgridcolor": "white",
             "startlinecolor": "#2a3f5f"
            },
            "baxis": {
             "endlinecolor": "#2a3f5f",
             "gridcolor": "white",
             "linecolor": "white",
             "minorgridcolor": "white",
             "startlinecolor": "#2a3f5f"
            },
            "type": "carpet"
           }
          ],
          "choropleth": [
           {
            "colorbar": {
             "outlinewidth": 0,
             "ticks": ""
            },
            "type": "choropleth"
           }
          ],
          "contour": [
           {
            "colorbar": {
             "outlinewidth": 0,
             "ticks": ""
            },
            "colorscale": [
             [
              0,
              "#0d0887"
             ],
             [
              0.1111111111111111,
              "#46039f"
             ],
             [
              0.2222222222222222,
              "#7201a8"
             ],
             [
              0.3333333333333333,
              "#9c179e"
             ],
             [
              0.4444444444444444,
              "#bd3786"
             ],
             [
              0.5555555555555556,
              "#d8576b"
             ],
             [
              0.6666666666666666,
              "#ed7953"
             ],
             [
              0.7777777777777778,
              "#fb9f3a"
             ],
             [
              0.8888888888888888,
              "#fdca26"
             ],
             [
              1,
              "#f0f921"
             ]
            ],
            "type": "contour"
           }
          ],
          "contourcarpet": [
           {
            "colorbar": {
             "outlinewidth": 0,
             "ticks": ""
            },
            "type": "contourcarpet"
           }
          ],
          "heatmap": [
           {
            "colorbar": {
             "outlinewidth": 0,
             "ticks": ""
            },
            "colorscale": [
             [
              0,
              "#0d0887"
             ],
             [
              0.1111111111111111,
              "#46039f"
             ],
             [
              0.2222222222222222,
              "#7201a8"
             ],
             [
              0.3333333333333333,
              "#9c179e"
             ],
             [
              0.4444444444444444,
              "#bd3786"
             ],
             [
              0.5555555555555556,
              "#d8576b"
             ],
             [
              0.6666666666666666,
              "#ed7953"
             ],
             [
              0.7777777777777778,
              "#fb9f3a"
             ],
             [
              0.8888888888888888,
              "#fdca26"
             ],
             [
              1,
              "#f0f921"
             ]
            ],
            "type": "heatmap"
           }
          ],
          "heatmapgl": [
           {
            "colorbar": {
             "outlinewidth": 0,
             "ticks": ""
            },
            "colorscale": [
             [
              0,
              "#0d0887"
             ],
             [
              0.1111111111111111,
              "#46039f"
             ],
             [
              0.2222222222222222,
              "#7201a8"
             ],
             [
              0.3333333333333333,
              "#9c179e"
             ],
             [
              0.4444444444444444,
              "#bd3786"
             ],
             [
              0.5555555555555556,
              "#d8576b"
             ],
             [
              0.6666666666666666,
              "#ed7953"
             ],
             [
              0.7777777777777778,
              "#fb9f3a"
             ],
             [
              0.8888888888888888,
              "#fdca26"
             ],
             [
              1,
              "#f0f921"
             ]
            ],
            "type": "heatmapgl"
           }
          ],
          "histogram": [
           {
            "marker": {
             "pattern": {
              "fillmode": "overlay",
              "size": 10,
              "solidity": 0.2
             }
            },
            "type": "histogram"
           }
          ],
          "histogram2d": [
           {
            "colorbar": {
             "outlinewidth": 0,
             "ticks": ""
            },
            "colorscale": [
             [
              0,
              "#0d0887"
             ],
             [
              0.1111111111111111,
              "#46039f"
             ],
             [
              0.2222222222222222,
              "#7201a8"
             ],
             [
              0.3333333333333333,
              "#9c179e"
             ],
             [
              0.4444444444444444,
              "#bd3786"
             ],
             [
              0.5555555555555556,
              "#d8576b"
             ],
             [
              0.6666666666666666,
              "#ed7953"
             ],
             [
              0.7777777777777778,
              "#fb9f3a"
             ],
             [
              0.8888888888888888,
              "#fdca26"
             ],
             [
              1,
              "#f0f921"
             ]
            ],
            "type": "histogram2d"
           }
          ],
          "histogram2dcontour": [
           {
            "colorbar": {
             "outlinewidth": 0,
             "ticks": ""
            },
            "colorscale": [
             [
              0,
              "#0d0887"
             ],
             [
              0.1111111111111111,
              "#46039f"
             ],
             [
              0.2222222222222222,
              "#7201a8"
             ],
             [
              0.3333333333333333,
              "#9c179e"
             ],
             [
              0.4444444444444444,
              "#bd3786"
             ],
             [
              0.5555555555555556,
              "#d8576b"
             ],
             [
              0.6666666666666666,
              "#ed7953"
             ],
             [
              0.7777777777777778,
              "#fb9f3a"
             ],
             [
              0.8888888888888888,
              "#fdca26"
             ],
             [
              1,
              "#f0f921"
             ]
            ],
            "type": "histogram2dcontour"
           }
          ],
          "mesh3d": [
           {
            "colorbar": {
             "outlinewidth": 0,
             "ticks": ""
            },
            "type": "mesh3d"
           }
          ],
          "parcoords": [
           {
            "line": {
             "colorbar": {
              "outlinewidth": 0,
              "ticks": ""
             }
            },
            "type": "parcoords"
           }
          ],
          "pie": [
           {
            "automargin": true,
            "type": "pie"
           }
          ],
          "scatter": [
           {
            "fillpattern": {
             "fillmode": "overlay",
             "size": 10,
             "solidity": 0.2
            },
            "type": "scatter"
           }
          ],
          "scatter3d": [
           {
            "line": {
             "colorbar": {
              "outlinewidth": 0,
              "ticks": ""
             }
            },
            "marker": {
             "colorbar": {
              "outlinewidth": 0,
              "ticks": ""
             }
            },
            "type": "scatter3d"
           }
          ],
          "scattercarpet": [
           {
            "marker": {
             "colorbar": {
              "outlinewidth": 0,
              "ticks": ""
             }
            },
            "type": "scattercarpet"
           }
          ],
          "scattergeo": [
           {
            "marker": {
             "colorbar": {
              "outlinewidth": 0,
              "ticks": ""
             }
            },
            "type": "scattergeo"
           }
          ],
          "scattergl": [
           {
            "marker": {
             "colorbar": {
              "outlinewidth": 0,
              "ticks": ""
             }
            },
            "type": "scattergl"
           }
          ],
          "scattermapbox": [
           {
            "marker": {
             "colorbar": {
              "outlinewidth": 0,
              "ticks": ""
             }
            },
            "type": "scattermapbox"
           }
          ],
          "scatterpolar": [
           {
            "marker": {
             "colorbar": {
              "outlinewidth": 0,
              "ticks": ""
             }
            },
            "type": "scatterpolar"
           }
          ],
          "scatterpolargl": [
           {
            "marker": {
             "colorbar": {
              "outlinewidth": 0,
              "ticks": ""
             }
            },
            "type": "scatterpolargl"
           }
          ],
          "scatterternary": [
           {
            "marker": {
             "colorbar": {
              "outlinewidth": 0,
              "ticks": ""
             }
            },
            "type": "scatterternary"
           }
          ],
          "surface": [
           {
            "colorbar": {
             "outlinewidth": 0,
             "ticks": ""
            },
            "colorscale": [
             [
              0,
              "#0d0887"
             ],
             [
              0.1111111111111111,
              "#46039f"
             ],
             [
              0.2222222222222222,
              "#7201a8"
             ],
             [
              0.3333333333333333,
              "#9c179e"
             ],
             [
              0.4444444444444444,
              "#bd3786"
             ],
             [
              0.5555555555555556,
              "#d8576b"
             ],
             [
              0.6666666666666666,
              "#ed7953"
             ],
             [
              0.7777777777777778,
              "#fb9f3a"
             ],
             [
              0.8888888888888888,
              "#fdca26"
             ],
             [
              1,
              "#f0f921"
             ]
            ],
            "type": "surface"
           }
          ],
          "table": [
           {
            "cells": {
             "fill": {
              "color": "#EBF0F8"
             },
             "line": {
              "color": "white"
             }
            },
            "header": {
             "fill": {
              "color": "#C8D4E3"
             },
             "line": {
              "color": "white"
             }
            },
            "type": "table"
           }
          ]
         },
         "layout": {
          "annotationdefaults": {
           "arrowcolor": "#2a3f5f",
           "arrowhead": 0,
           "arrowwidth": 1
          },
          "autotypenumbers": "strict",
          "coloraxis": {
           "colorbar": {
            "outlinewidth": 0,
            "ticks": ""
           }
          },
          "colorscale": {
           "diverging": [
            [
             0,
             "#8e0152"
            ],
            [
             0.1,
             "#c51b7d"
            ],
            [
             0.2,
             "#de77ae"
            ],
            [
             0.3,
             "#f1b6da"
            ],
            [
             0.4,
             "#fde0ef"
            ],
            [
             0.5,
             "#f7f7f7"
            ],
            [
             0.6,
             "#e6f5d0"
            ],
            [
             0.7,
             "#b8e186"
            ],
            [
             0.8,
             "#7fbc41"
            ],
            [
             0.9,
             "#4d9221"
            ],
            [
             1,
             "#276419"
            ]
           ],
           "sequential": [
            [
             0,
             "#0d0887"
            ],
            [
             0.1111111111111111,
             "#46039f"
            ],
            [
             0.2222222222222222,
             "#7201a8"
            ],
            [
             0.3333333333333333,
             "#9c179e"
            ],
            [
             0.4444444444444444,
             "#bd3786"
            ],
            [
             0.5555555555555556,
             "#d8576b"
            ],
            [
             0.6666666666666666,
             "#ed7953"
            ],
            [
             0.7777777777777778,
             "#fb9f3a"
            ],
            [
             0.8888888888888888,
             "#fdca26"
            ],
            [
             1,
             "#f0f921"
            ]
           ],
           "sequentialminus": [
            [
             0,
             "#0d0887"
            ],
            [
             0.1111111111111111,
             "#46039f"
            ],
            [
             0.2222222222222222,
             "#7201a8"
            ],
            [
             0.3333333333333333,
             "#9c179e"
            ],
            [
             0.4444444444444444,
             "#bd3786"
            ],
            [
             0.5555555555555556,
             "#d8576b"
            ],
            [
             0.6666666666666666,
             "#ed7953"
            ],
            [
             0.7777777777777778,
             "#fb9f3a"
            ],
            [
             0.8888888888888888,
             "#fdca26"
            ],
            [
             1,
             "#f0f921"
            ]
           ]
          },
          "colorway": [
           "#636efa",
           "#EF553B",
           "#00cc96",
           "#ab63fa",
           "#FFA15A",
           "#19d3f3",
           "#FF6692",
           "#B6E880",
           "#FF97FF",
           "#FECB52"
          ],
          "font": {
           "color": "#2a3f5f"
          },
          "geo": {
           "bgcolor": "white",
           "lakecolor": "white",
           "landcolor": "#E5ECF6",
           "showlakes": true,
           "showland": true,
           "subunitcolor": "white"
          },
          "hoverlabel": {
           "align": "left"
          },
          "hovermode": "closest",
          "mapbox": {
           "style": "light"
          },
          "paper_bgcolor": "white",
          "plot_bgcolor": "#E5ECF6",
          "polar": {
           "angularaxis": {
            "gridcolor": "white",
            "linecolor": "white",
            "ticks": ""
           },
           "bgcolor": "#E5ECF6",
           "radialaxis": {
            "gridcolor": "white",
            "linecolor": "white",
            "ticks": ""
           }
          },
          "scene": {
           "xaxis": {
            "backgroundcolor": "#E5ECF6",
            "gridcolor": "white",
            "gridwidth": 2,
            "linecolor": "white",
            "showbackground": true,
            "ticks": "",
            "zerolinecolor": "white"
           },
           "yaxis": {
            "backgroundcolor": "#E5ECF6",
            "gridcolor": "white",
            "gridwidth": 2,
            "linecolor": "white",
            "showbackground": true,
            "ticks": "",
            "zerolinecolor": "white"
           },
           "zaxis": {
            "backgroundcolor": "#E5ECF6",
            "gridcolor": "white",
            "gridwidth": 2,
            "linecolor": "white",
            "showbackground": true,
            "ticks": "",
            "zerolinecolor": "white"
           }
          },
          "shapedefaults": {
           "line": {
            "color": "#2a3f5f"
           }
          },
          "ternary": {
           "aaxis": {
            "gridcolor": "white",
            "linecolor": "white",
            "ticks": ""
           },
           "baxis": {
            "gridcolor": "white",
            "linecolor": "white",
            "ticks": ""
           },
           "bgcolor": "#E5ECF6",
           "caxis": {
            "gridcolor": "white",
            "linecolor": "white",
            "ticks": ""
           }
          },
          "title": {
           "x": 0.05
          },
          "xaxis": {
           "automargin": true,
           "gridcolor": "white",
           "linecolor": "white",
           "ticks": "",
           "title": {
            "standoff": 15
           },
           "zerolinecolor": "white",
           "zerolinewidth": 2
          },
          "yaxis": {
           "automargin": true,
           "gridcolor": "white",
           "linecolor": "white",
           "ticks": "",
           "title": {
            "standoff": 15
           },
           "zerolinecolor": "white",
           "zerolinewidth": 2
          }
         }
        },
        "title": {
         "font": {
          "color": "#4D5663"
         }
        },
        "xaxis": {
         "gridcolor": "#E1E5ED",
         "showgrid": true,
         "tickfont": {
          "color": "#4D5663"
         },
         "title": {
          "font": {
           "color": "#4D5663"
          },
          "text": ""
         },
         "zerolinecolor": "#E1E5ED"
        },
        "yaxis": {
         "gridcolor": "#E1E5ED",
         "showgrid": true,
         "tickfont": {
          "color": "#4D5663"
         },
         "title": {
          "font": {
           "color": "#4D5663"
          },
          "text": ""
         },
         "zerolinecolor": "#E1E5ED"
        }
       }
      },
      "text/html": [
       "<div>                            <div id=\"af1df32b-ebf6-4cf3-aa38-2b418370036e\" class=\"plotly-graph-div\" style=\"height:525px; width:100%;\"></div>            <script type=\"text/javascript\">                require([\"plotly\"], function(Plotly) {                    window.PLOTLYENV=window.PLOTLYENV || {};\n",
       "                    window.PLOTLYENV.BASE_URL='https://plot.ly';                                    if (document.getElementById(\"af1df32b-ebf6-4cf3-aa38-2b418370036e\")) {                    Plotly.newPlot(                        \"af1df32b-ebf6-4cf3-aa38-2b418370036e\",                        [{\"marker\":{\"color\":[\"rgb(255, 153, 51)\",\"rgb(55, 128, 191)\",\"rgb(50, 171, 96)\",\"rgb(128, 0, 128)\",\"rgb(219, 64, 82)\",\"rgb(0, 128, 128)\",\"rgb(255, 255, 51)\",\"rgb(128, 128, 0)\",\"rgb(251, 128, 114)\",\"rgb(128, 177, 211)\"],\"line\":{\"width\":1.3},\"size\":[67,79,23,49,86,66,67,59,59,48,39,37,112,69,84,35,49,69,58,86,64,51,64,77,44,59,82,35,68,63,44,69,29,30,56,62,99,80,72,32,38,36,35,42,60,64,48,51,86,40,41,58,56,31,44,47,45,28,26,61,39,40,23,12,77,50,51,43,27,23,48,56,107,65,68,64,95,30,73,81,61,55,66,49,35,53,50,68,27,49,64,55,37,41,67,47,61,41,38,31],\"symbol\":\"circle\"},\"mode\":\"markers\",\"text\":\"\",\"x\":[0.4046885802662556,1.1634609392181832,0.23831008927938055,-0.45313528311521356,0.6379419156491609,-1.4438142211840077,1.8009472366221853,-0.7019073870945766,-0.8114125274235565,-0.19453020546169025,-0.7293890011435047,0.6063177785699431,1.0260493772417252,-0.9745601272849126,0.12845004434385796,-0.7341950315109401,-0.9369463818518106,-1.1556645432178285,0.5517415501440451,1.470943400591443,0.11098759972307877,-0.872040405036734,-0.725573494045479,0.8762144102495203,-0.7256656974838994,0.3804463638734659,0.2530982777719823,-0.4352234077201285,-1.365033459939283,0.5518013661404798,-1.619294142218477,-0.15950966538974887,-1.0364676267292028,-0.7822275358569596,-0.596292607538201,1.462245547155082,-0.042939762307161664,-1.201448817457161,-0.7868093739855325,-1.350711335531761,1.5003530252108532,0.5836491221240611,-0.49000745223916403,-0.224690766978519,0.9357732755516264,1.6148852537842429,-0.5293467512155942,-0.03504591766188298,-0.5427162155618057,0.10466060428419802,-2.0619027260621454,1.5595819261835777,-1.2746582360580982,0.659713111290282,0.5209346905381115,-1.7331676875805266,0.03367417605899992,0.5460604281705843,-1.5229265854603575,-1.493244595701655,0.3442258291328287,-0.5890189634984968,-1.7400819468251014,0.4571841912093843,-0.8163286138659932,1.2234095046336957,-1.9175262230633567,-0.15235500484728523,-0.698914922498096,-0.586607717471715,-0.7782598990314717,-0.3192471540884277,1.35728673860839,-0.09084304778350655,1.5978710071133138,0.5543089832036076,-1.2756408674786088,-0.5622618397965323,-0.7738852311628306,1.74867279085942,-0.45789212961166326,-1.048740322865479,2.2815737330960917,-2.1568479545387556,0.24697011679665867,-0.899739675819223,0.021203123180370407,0.6687085372297036,0.47964616017111034,0.31588041201361655,0.5555818984785732,-1.4629086445238069,0.16314192016126078,0.920584193980645,1.7813749673543573,0.9671144937881719,0.6490999417134848,-0.9330982876728201,1.8844394384921241,-0.5615173612921415],\"y\":[-0.036356967863489895,0.6423978464479991,0.06196203067280018,-0.5954524694442337,-1.5492130648730433,0.9311582520537345,0.668820275662023,-1.7468085590922156,-0.1696769342720388,-0.16394718749777826,0.9751552245798681,-1.116024324722163,-0.07156742000424661,-0.14331542135327674,0.9701102019525644,1.1032867331856737,-1.3573861940736234,1.401711275479528,0.3492238065607233,1.1495498995481301,-0.25578600485966096,-0.322862665425817,-0.6344716356855562,0.6630306819263807,0.5383410993755943,-1.3039213197094524,0.14185396625413685,0.42771001158341787,0.7518401055320181,1.539785467378347,-0.537891810015294,-1.3178235865616854,0.1249254623762938,-2.1592279543521853,-0.08278135031086314,-0.6181565700562351,-0.11673623829000321,-0.13769998347284979,1.079604089840864,0.5672219678230143,-0.08637198946114594,-1.1331304631062196,1.2290718062342558,-0.7616001988702629,-0.1026849109720081,-0.0010621314607047187,0.17853018027367948,-0.8369727453835258,0.5641170382120637,-0.2809140775862545,-0.161649970436904,0.9867336734143902,0.9626034283246061,1.6615712411403147,-1.845096222709994,0.322978603804716,0.5015961251814729,-0.20196396940320452,1.5381237398756653,-1.569086207055157,1.4564700565976911,-0.04912766685608523,-0.69211787687324,0.9659138585689333,0.07107648041341595,1.1711131962254953,1.8201511950554998,-1.3676254840529378,1.1995116297125372,0.10992919238102469,0.3374614915014219,0.901256752395691,0.942744548829377,-0.1779698098371036,-0.6711557827944291,0.4877171261065864,0.3865014857062134,-0.5575141658063655,0.03930754883116221,-0.40015756971593525,1.4028018295464215,-0.3733233526762418,1.3026064618230895,0.07858820380263296,-0.5980967986591397,0.6363700701730874,0.3542755147951408,-0.6681973227150312,-0.17867581943479036,1.9604410397063305,1.628367333941146,0.39812181707511507,-0.3886088203518295,0.07951355276205435,1.2256210551788733,0.9633559855214752,0.20691469233021173,1.3791363349919523,-0.5151369461288825,0.5599252179345603],\"type\":\"scatter\"}],                        {\"legend\":{\"bgcolor\":\"#F5F6F9\",\"font\":{\"color\":\"#4D5663\"}},\"paper_bgcolor\":\"#F5F6F9\",\"plot_bgcolor\":\"#F5F6F9\",\"template\":{\"data\":{\"barpolar\":[{\"marker\":{\"line\":{\"color\":\"#E5ECF6\",\"width\":0.5},\"pattern\":{\"fillmode\":\"overlay\",\"size\":10,\"solidity\":0.2}},\"type\":\"barpolar\"}],\"bar\":[{\"error_x\":{\"color\":\"#2a3f5f\"},\"error_y\":{\"color\":\"#2a3f5f\"},\"marker\":{\"line\":{\"color\":\"#E5ECF6\",\"width\":0.5},\"pattern\":{\"fillmode\":\"overlay\",\"size\":10,\"solidity\":0.2}},\"type\":\"bar\"}],\"carpet\":[{\"aaxis\":{\"endlinecolor\":\"#2a3f5f\",\"gridcolor\":\"white\",\"linecolor\":\"white\",\"minorgridcolor\":\"white\",\"startlinecolor\":\"#2a3f5f\"},\"baxis\":{\"endlinecolor\":\"#2a3f5f\",\"gridcolor\":\"white\",\"linecolor\":\"white\",\"minorgridcolor\":\"white\",\"startlinecolor\":\"#2a3f5f\"},\"type\":\"carpet\"}],\"choropleth\":[{\"colorbar\":{\"outlinewidth\":0,\"ticks\":\"\"},\"type\":\"choropleth\"}],\"contourcarpet\":[{\"colorbar\":{\"outlinewidth\":0,\"ticks\":\"\"},\"type\":\"contourcarpet\"}],\"contour\":[{\"colorbar\":{\"outlinewidth\":0,\"ticks\":\"\"},\"colorscale\":[[0.0,\"#0d0887\"],[0.1111111111111111,\"#46039f\"],[0.2222222222222222,\"#7201a8\"],[0.3333333333333333,\"#9c179e\"],[0.4444444444444444,\"#bd3786\"],[0.5555555555555556,\"#d8576b\"],[0.6666666666666666,\"#ed7953\"],[0.7777777777777778,\"#fb9f3a\"],[0.8888888888888888,\"#fdca26\"],[1.0,\"#f0f921\"]],\"type\":\"contour\"}],\"heatmapgl\":[{\"colorbar\":{\"outlinewidth\":0,\"ticks\":\"\"},\"colorscale\":[[0.0,\"#0d0887\"],[0.1111111111111111,\"#46039f\"],[0.2222222222222222,\"#7201a8\"],[0.3333333333333333,\"#9c179e\"],[0.4444444444444444,\"#bd3786\"],[0.5555555555555556,\"#d8576b\"],[0.6666666666666666,\"#ed7953\"],[0.7777777777777778,\"#fb9f3a\"],[0.8888888888888888,\"#fdca26\"],[1.0,\"#f0f921\"]],\"type\":\"heatmapgl\"}],\"heatmap\":[{\"colorbar\":{\"outlinewidth\":0,\"ticks\":\"\"},\"colorscale\":[[0.0,\"#0d0887\"],[0.1111111111111111,\"#46039f\"],[0.2222222222222222,\"#7201a8\"],[0.3333333333333333,\"#9c179e\"],[0.4444444444444444,\"#bd3786\"],[0.5555555555555556,\"#d8576b\"],[0.6666666666666666,\"#ed7953\"],[0.7777777777777778,\"#fb9f3a\"],[0.8888888888888888,\"#fdca26\"],[1.0,\"#f0f921\"]],\"type\":\"heatmap\"}],\"histogram2dcontour\":[{\"colorbar\":{\"outlinewidth\":0,\"ticks\":\"\"},\"colorscale\":[[0.0,\"#0d0887\"],[0.1111111111111111,\"#46039f\"],[0.2222222222222222,\"#7201a8\"],[0.3333333333333333,\"#9c179e\"],[0.4444444444444444,\"#bd3786\"],[0.5555555555555556,\"#d8576b\"],[0.6666666666666666,\"#ed7953\"],[0.7777777777777778,\"#fb9f3a\"],[0.8888888888888888,\"#fdca26\"],[1.0,\"#f0f921\"]],\"type\":\"histogram2dcontour\"}],\"histogram2d\":[{\"colorbar\":{\"outlinewidth\":0,\"ticks\":\"\"},\"colorscale\":[[0.0,\"#0d0887\"],[0.1111111111111111,\"#46039f\"],[0.2222222222222222,\"#7201a8\"],[0.3333333333333333,\"#9c179e\"],[0.4444444444444444,\"#bd3786\"],[0.5555555555555556,\"#d8576b\"],[0.6666666666666666,\"#ed7953\"],[0.7777777777777778,\"#fb9f3a\"],[0.8888888888888888,\"#fdca26\"],[1.0,\"#f0f921\"]],\"type\":\"histogram2d\"}],\"histogram\":[{\"marker\":{\"pattern\":{\"fillmode\":\"overlay\",\"size\":10,\"solidity\":0.2}},\"type\":\"histogram\"}],\"mesh3d\":[{\"colorbar\":{\"outlinewidth\":0,\"ticks\":\"\"},\"type\":\"mesh3d\"}],\"parcoords\":[{\"line\":{\"colorbar\":{\"outlinewidth\":0,\"ticks\":\"\"}},\"type\":\"parcoords\"}],\"pie\":[{\"automargin\":true,\"type\":\"pie\"}],\"scatter3d\":[{\"line\":{\"colorbar\":{\"outlinewidth\":0,\"ticks\":\"\"}},\"marker\":{\"colorbar\":{\"outlinewidth\":0,\"ticks\":\"\"}},\"type\":\"scatter3d\"}],\"scattercarpet\":[{\"marker\":{\"colorbar\":{\"outlinewidth\":0,\"ticks\":\"\"}},\"type\":\"scattercarpet\"}],\"scattergeo\":[{\"marker\":{\"colorbar\":{\"outlinewidth\":0,\"ticks\":\"\"}},\"type\":\"scattergeo\"}],\"scattergl\":[{\"marker\":{\"colorbar\":{\"outlinewidth\":0,\"ticks\":\"\"}},\"type\":\"scattergl\"}],\"scattermapbox\":[{\"marker\":{\"colorbar\":{\"outlinewidth\":0,\"ticks\":\"\"}},\"type\":\"scattermapbox\"}],\"scatterpolargl\":[{\"marker\":{\"colorbar\":{\"outlinewidth\":0,\"ticks\":\"\"}},\"type\":\"scatterpolargl\"}],\"scatterpolar\":[{\"marker\":{\"colorbar\":{\"outlinewidth\":0,\"ticks\":\"\"}},\"type\":\"scatterpolar\"}],\"scatter\":[{\"fillpattern\":{\"fillmode\":\"overlay\",\"size\":10,\"solidity\":0.2},\"type\":\"scatter\"}],\"scatterternary\":[{\"marker\":{\"colorbar\":{\"outlinewidth\":0,\"ticks\":\"\"}},\"type\":\"scatterternary\"}],\"surface\":[{\"colorbar\":{\"outlinewidth\":0,\"ticks\":\"\"},\"colorscale\":[[0.0,\"#0d0887\"],[0.1111111111111111,\"#46039f\"],[0.2222222222222222,\"#7201a8\"],[0.3333333333333333,\"#9c179e\"],[0.4444444444444444,\"#bd3786\"],[0.5555555555555556,\"#d8576b\"],[0.6666666666666666,\"#ed7953\"],[0.7777777777777778,\"#fb9f3a\"],[0.8888888888888888,\"#fdca26\"],[1.0,\"#f0f921\"]],\"type\":\"surface\"}],\"table\":[{\"cells\":{\"fill\":{\"color\":\"#EBF0F8\"},\"line\":{\"color\":\"white\"}},\"header\":{\"fill\":{\"color\":\"#C8D4E3\"},\"line\":{\"color\":\"white\"}},\"type\":\"table\"}]},\"layout\":{\"annotationdefaults\":{\"arrowcolor\":\"#2a3f5f\",\"arrowhead\":0,\"arrowwidth\":1},\"autotypenumbers\":\"strict\",\"coloraxis\":{\"colorbar\":{\"outlinewidth\":0,\"ticks\":\"\"}},\"colorscale\":{\"diverging\":[[0,\"#8e0152\"],[0.1,\"#c51b7d\"],[0.2,\"#de77ae\"],[0.3,\"#f1b6da\"],[0.4,\"#fde0ef\"],[0.5,\"#f7f7f7\"],[0.6,\"#e6f5d0\"],[0.7,\"#b8e186\"],[0.8,\"#7fbc41\"],[0.9,\"#4d9221\"],[1,\"#276419\"]],\"sequential\":[[0.0,\"#0d0887\"],[0.1111111111111111,\"#46039f\"],[0.2222222222222222,\"#7201a8\"],[0.3333333333333333,\"#9c179e\"],[0.4444444444444444,\"#bd3786\"],[0.5555555555555556,\"#d8576b\"],[0.6666666666666666,\"#ed7953\"],[0.7777777777777778,\"#fb9f3a\"],[0.8888888888888888,\"#fdca26\"],[1.0,\"#f0f921\"]],\"sequentialminus\":[[0.0,\"#0d0887\"],[0.1111111111111111,\"#46039f\"],[0.2222222222222222,\"#7201a8\"],[0.3333333333333333,\"#9c179e\"],[0.4444444444444444,\"#bd3786\"],[0.5555555555555556,\"#d8576b\"],[0.6666666666666666,\"#ed7953\"],[0.7777777777777778,\"#fb9f3a\"],[0.8888888888888888,\"#fdca26\"],[1.0,\"#f0f921\"]]},\"colorway\":[\"#636efa\",\"#EF553B\",\"#00cc96\",\"#ab63fa\",\"#FFA15A\",\"#19d3f3\",\"#FF6692\",\"#B6E880\",\"#FF97FF\",\"#FECB52\"],\"font\":{\"color\":\"#2a3f5f\"},\"geo\":{\"bgcolor\":\"white\",\"lakecolor\":\"white\",\"landcolor\":\"#E5ECF6\",\"showlakes\":true,\"showland\":true,\"subunitcolor\":\"white\"},\"hoverlabel\":{\"align\":\"left\"},\"hovermode\":\"closest\",\"mapbox\":{\"style\":\"light\"},\"paper_bgcolor\":\"white\",\"plot_bgcolor\":\"#E5ECF6\",\"polar\":{\"angularaxis\":{\"gridcolor\":\"white\",\"linecolor\":\"white\",\"ticks\":\"\"},\"bgcolor\":\"#E5ECF6\",\"radialaxis\":{\"gridcolor\":\"white\",\"linecolor\":\"white\",\"ticks\":\"\"}},\"scene\":{\"xaxis\":{\"backgroundcolor\":\"#E5ECF6\",\"gridcolor\":\"white\",\"gridwidth\":2,\"linecolor\":\"white\",\"showbackground\":true,\"ticks\":\"\",\"zerolinecolor\":\"white\"},\"yaxis\":{\"backgroundcolor\":\"#E5ECF6\",\"gridcolor\":\"white\",\"gridwidth\":2,\"linecolor\":\"white\",\"showbackground\":true,\"ticks\":\"\",\"zerolinecolor\":\"white\"},\"zaxis\":{\"backgroundcolor\":\"#E5ECF6\",\"gridcolor\":\"white\",\"gridwidth\":2,\"linecolor\":\"white\",\"showbackground\":true,\"ticks\":\"\",\"zerolinecolor\":\"white\"}},\"shapedefaults\":{\"line\":{\"color\":\"#2a3f5f\"}},\"ternary\":{\"aaxis\":{\"gridcolor\":\"white\",\"linecolor\":\"white\",\"ticks\":\"\"},\"baxis\":{\"gridcolor\":\"white\",\"linecolor\":\"white\",\"ticks\":\"\"},\"bgcolor\":\"#E5ECF6\",\"caxis\":{\"gridcolor\":\"white\",\"linecolor\":\"white\",\"ticks\":\"\"}},\"title\":{\"x\":0.05},\"xaxis\":{\"automargin\":true,\"gridcolor\":\"white\",\"linecolor\":\"white\",\"ticks\":\"\",\"title\":{\"standoff\":15},\"zerolinecolor\":\"white\",\"zerolinewidth\":2},\"yaxis\":{\"automargin\":true,\"gridcolor\":\"white\",\"linecolor\":\"white\",\"ticks\":\"\",\"title\":{\"standoff\":15},\"zerolinecolor\":\"white\",\"zerolinewidth\":2}}},\"title\":{\"font\":{\"color\":\"#4D5663\"}},\"xaxis\":{\"gridcolor\":\"#E1E5ED\",\"showgrid\":true,\"tickfont\":{\"color\":\"#4D5663\"},\"title\":{\"font\":{\"color\":\"#4D5663\"},\"text\":\"\"},\"zerolinecolor\":\"#E1E5ED\"},\"yaxis\":{\"gridcolor\":\"#E1E5ED\",\"showgrid\":true,\"tickfont\":{\"color\":\"#4D5663\"},\"title\":{\"font\":{\"color\":\"#4D5663\"},\"text\":\"\"},\"zerolinecolor\":\"#E1E5ED\"}},                        {\"showLink\": true, \"linkText\": \"Export to plot.ly\", \"plotlyServerURL\": \"https://plot.ly\", \"responsive\": true}                    ).then(function(){\n",
       "                            \n",
       "var gd = document.getElementById('af1df32b-ebf6-4cf3-aa38-2b418370036e');\n",
       "var x = new MutationObserver(function (mutations, observer) {{\n",
       "        var display = window.getComputedStyle(gd).display;\n",
       "        if (!display || display === 'none') {{\n",
       "            console.log([gd, 'removed!']);\n",
       "            Plotly.purge(gd);\n",
       "            observer.disconnect();\n",
       "        }}\n",
       "}});\n",
       "\n",
       "// Listen for the removal of the full notebook cells\n",
       "var notebookContainer = gd.closest('#notebook-container');\n",
       "if (notebookContainer) {{\n",
       "    x.observe(notebookContainer, {childList: true});\n",
       "}}\n",
       "\n",
       "// Listen for the clearing of the current output cell\n",
       "var outputEl = gd.closest('.output');\n",
       "if (outputEl) {{\n",
       "    x.observe(outputEl, {childList: true});\n",
       "}}\n",
       "\n",
       "                        })                };                });            </script>        </div>"
      ]
     },
     "metadata": {},
     "output_type": "display_data"
    }
   ],
   "source": [
    "df.iplot(kind='bubble',x='A',y='B',size='C')"
   ]
  },
  {
   "cell_type": "markdown",
   "metadata": {},
   "source": [
    "## scatter_matrix()\n",
    "\n",
    "Similar to sns.pairplot()"
   ]
  },
  {
   "cell_type": "code",
   "execution_count": 21,
   "metadata": {
    "collapsed": false
   },
   "outputs": [
    {
     "data": {
      "application/vnd.plotly.v1+json": {
       "config": {
        "linkText": "Export to plot.ly",
        "plotlyServerURL": "https://plot.ly",
        "showLink": true
       },
       "data": [
        {
         "histfunc": "count",
         "histnorm": "",
         "marker": {
          "color": "rgba(255, 153, 51, 1.0)",
          "line": {
           "color": "#4D5663",
           "width": 1.3
          }
         },
         "name": "A",
         "nbinsx": 10,
         "opacity": 0.8,
         "orientation": "v",
         "type": "histogram",
         "x": [
          0.4046885802662556,
          1.1634609392181832,
          0.23831008927938055,
          -0.45313528311521356,
          0.6379419156491609,
          -1.4438142211840077,
          1.8009472366221853,
          -0.7019073870945766,
          -0.8114125274235565,
          -0.19453020546169025,
          -0.7293890011435047,
          0.6063177785699431,
          1.0260493772417252,
          -0.9745601272849126,
          0.12845004434385796,
          -0.7341950315109401,
          -0.9369463818518106,
          -1.1556645432178285,
          0.5517415501440451,
          1.470943400591443,
          0.11098759972307877,
          -0.872040405036734,
          -0.725573494045479,
          0.8762144102495203,
          -0.7256656974838994,
          0.3804463638734659,
          0.2530982777719823,
          -0.4352234077201285,
          -1.365033459939283,
          0.5518013661404798,
          -1.619294142218477,
          -0.15950966538974887,
          -1.0364676267292028,
          -0.7822275358569596,
          -0.596292607538201,
          1.462245547155082,
          -0.042939762307161664,
          -1.201448817457161,
          -0.7868093739855325,
          -1.350711335531761,
          1.5003530252108532,
          0.5836491221240611,
          -0.49000745223916403,
          -0.224690766978519,
          0.9357732755516264,
          1.6148852537842429,
          -0.5293467512155942,
          -0.03504591766188298,
          -0.5427162155618057,
          0.10466060428419802,
          -2.0619027260621454,
          1.5595819261835777,
          -1.2746582360580982,
          0.659713111290282,
          0.5209346905381115,
          -1.7331676875805266,
          0.03367417605899992,
          0.5460604281705843,
          -1.5229265854603575,
          -1.493244595701655,
          0.3442258291328287,
          -0.5890189634984968,
          -1.7400819468251014,
          0.4571841912093843,
          -0.8163286138659932,
          1.2234095046336957,
          -1.9175262230633567,
          -0.15235500484728523,
          -0.698914922498096,
          -0.586607717471715,
          -0.7782598990314717,
          -0.3192471540884277,
          1.35728673860839,
          -0.09084304778350655,
          1.5978710071133138,
          0.5543089832036076,
          -1.2756408674786088,
          -0.5622618397965323,
          -0.7738852311628306,
          1.74867279085942,
          -0.45789212961166326,
          -1.048740322865479,
          2.2815737330960917,
          -2.1568479545387556,
          0.24697011679665867,
          -0.899739675819223,
          0.021203123180370407,
          0.6687085372297036,
          0.47964616017111034,
          0.31588041201361655,
          0.5555818984785732,
          -1.4629086445238069,
          0.16314192016126078,
          0.920584193980645,
          1.7813749673543573,
          0.9671144937881719,
          0.6490999417134848,
          -0.9330982876728201,
          1.8844394384921241,
          -0.5615173612921415
         ],
         "xaxis": "x",
         "yaxis": "y"
        },
        {
         "line": {
          "color": "rgba(128, 128, 128, 1.0)",
          "dash": "solid",
          "shape": "linear",
          "width": 1.3
         },
         "marker": {
          "size": 2,
          "symbol": "circle"
         },
         "mode": "markers",
         "name": "A",
         "text": "",
         "type": "scatter",
         "x": [
          -0.036356967863489895,
          0.6423978464479991,
          0.06196203067280018,
          -0.5954524694442337,
          -1.5492130648730433,
          0.9311582520537345,
          0.668820275662023,
          -1.7468085590922156,
          -0.1696769342720388,
          -0.16394718749777826,
          0.9751552245798681,
          -1.116024324722163,
          -0.07156742000424661,
          -0.14331542135327674,
          0.9701102019525644,
          1.1032867331856737,
          -1.3573861940736234,
          1.401711275479528,
          0.3492238065607233,
          1.1495498995481301,
          -0.25578600485966096,
          -0.322862665425817,
          -0.6344716356855562,
          0.6630306819263807,
          0.5383410993755943,
          -1.3039213197094524,
          0.14185396625413685,
          0.42771001158341787,
          0.7518401055320181,
          1.539785467378347,
          -0.537891810015294,
          -1.3178235865616854,
          0.1249254623762938,
          -2.1592279543521853,
          -0.08278135031086314,
          -0.6181565700562351,
          -0.11673623829000321,
          -0.13769998347284979,
          1.079604089840864,
          0.5672219678230143,
          -0.08637198946114594,
          -1.1331304631062196,
          1.2290718062342558,
          -0.7616001988702629,
          -0.1026849109720081,
          -0.0010621314607047187,
          0.17853018027367948,
          -0.8369727453835258,
          0.5641170382120637,
          -0.2809140775862545,
          -0.161649970436904,
          0.9867336734143902,
          0.9626034283246061,
          1.6615712411403147,
          -1.845096222709994,
          0.322978603804716,
          0.5015961251814729,
          -0.20196396940320452,
          1.5381237398756653,
          -1.569086207055157,
          1.4564700565976911,
          -0.04912766685608523,
          -0.69211787687324,
          0.9659138585689333,
          0.07107648041341595,
          1.1711131962254953,
          1.8201511950554998,
          -1.3676254840529378,
          1.1995116297125372,
          0.10992919238102469,
          0.3374614915014219,
          0.901256752395691,
          0.942744548829377,
          -0.1779698098371036,
          -0.6711557827944291,
          0.4877171261065864,
          0.3865014857062134,
          -0.5575141658063655,
          0.03930754883116221,
          -0.40015756971593525,
          1.4028018295464215,
          -0.3733233526762418,
          1.3026064618230895,
          0.07858820380263296,
          -0.5980967986591397,
          0.6363700701730874,
          0.3542755147951408,
          -0.6681973227150312,
          -0.17867581943479036,
          1.9604410397063305,
          1.628367333941146,
          0.39812181707511507,
          -0.3886088203518295,
          0.07951355276205435,
          1.2256210551788733,
          0.9633559855214752,
          0.20691469233021173,
          1.3791363349919523,
          -0.5151369461288825,
          0.5599252179345603
         ],
         "xaxis": "x2",
         "y": [
          0.4046885802662556,
          1.1634609392181832,
          0.23831008927938055,
          -0.45313528311521356,
          0.6379419156491609,
          -1.4438142211840077,
          1.8009472366221853,
          -0.7019073870945766,
          -0.8114125274235565,
          -0.19453020546169025,
          -0.7293890011435047,
          0.6063177785699431,
          1.0260493772417252,
          -0.9745601272849126,
          0.12845004434385796,
          -0.7341950315109401,
          -0.9369463818518106,
          -1.1556645432178285,
          0.5517415501440451,
          1.470943400591443,
          0.11098759972307877,
          -0.872040405036734,
          -0.725573494045479,
          0.8762144102495203,
          -0.7256656974838994,
          0.3804463638734659,
          0.2530982777719823,
          -0.4352234077201285,
          -1.365033459939283,
          0.5518013661404798,
          -1.619294142218477,
          -0.15950966538974887,
          -1.0364676267292028,
          -0.7822275358569596,
          -0.596292607538201,
          1.462245547155082,
          -0.042939762307161664,
          -1.201448817457161,
          -0.7868093739855325,
          -1.350711335531761,
          1.5003530252108532,
          0.5836491221240611,
          -0.49000745223916403,
          -0.224690766978519,
          0.9357732755516264,
          1.6148852537842429,
          -0.5293467512155942,
          -0.03504591766188298,
          -0.5427162155618057,
          0.10466060428419802,
          -2.0619027260621454,
          1.5595819261835777,
          -1.2746582360580982,
          0.659713111290282,
          0.5209346905381115,
          -1.7331676875805266,
          0.03367417605899992,
          0.5460604281705843,
          -1.5229265854603575,
          -1.493244595701655,
          0.3442258291328287,
          -0.5890189634984968,
          -1.7400819468251014,
          0.4571841912093843,
          -0.8163286138659932,
          1.2234095046336957,
          -1.9175262230633567,
          -0.15235500484728523,
          -0.698914922498096,
          -0.586607717471715,
          -0.7782598990314717,
          -0.3192471540884277,
          1.35728673860839,
          -0.09084304778350655,
          1.5978710071133138,
          0.5543089832036076,
          -1.2756408674786088,
          -0.5622618397965323,
          -0.7738852311628306,
          1.74867279085942,
          -0.45789212961166326,
          -1.048740322865479,
          2.2815737330960917,
          -2.1568479545387556,
          0.24697011679665867,
          -0.899739675819223,
          0.021203123180370407,
          0.6687085372297036,
          0.47964616017111034,
          0.31588041201361655,
          0.5555818984785732,
          -1.4629086445238069,
          0.16314192016126078,
          0.920584193980645,
          1.7813749673543573,
          0.9671144937881719,
          0.6490999417134848,
          -0.9330982876728201,
          1.8844394384921241,
          -0.5615173612921415
         ],
         "yaxis": "y2"
        },
        {
         "line": {
          "color": "rgba(128, 128, 128, 1.0)",
          "dash": "solid",
          "shape": "linear",
          "width": 1.3
         },
         "marker": {
          "size": 2,
          "symbol": "circle"
         },
         "mode": "markers",
         "name": "A",
         "text": "",
         "type": "scatter",
         "x": [
          0.5333894106068127,
          1.071325229171342,
          -1.470800589136725,
          -0.2862220905778843,
          1.4073662137816083,
          0.5061183817439069,
          0.548607579205655,
          0.18351728006894288,
          0.16519771603600164,
          -0.3379868955724642,
          -0.7193781227538893,
          -0.8028083789324517,
          2.5621540661496436,
          0.6297905398570731,
          1.3221623658435007,
          -0.907877045688626,
          -0.25187487464876357,
          0.6213152162284802,
          0.14964733672853697,
          1.4032636161455256,
          0.41291565944770825,
          -0.20068503950731623,
          0.42218693076308744,
          0.9877398270261727,
          -0.47905481553674256,
          0.19634134813147971,
          1.2378857439315198,
          -0.888634564676272,
          0.5983403200192242,
          0.37065528264334985,
          -0.5136464140676389,
          0.6215545322933033,
          -1.1882741046614425,
          -1.1241984567183492,
          0.046135081931201916,
          0.3059584972861639,
          1.982660713709128,
          1.1335098628566807,
          0.7631761072699269,
          -1.0650132249362372,
          -0.7934812437165999,
          -0.8640406655280599,
          -0.9032769074349047,
          -0.5817143932778477,
          0.21908099888966504,
          0.41265322755297795,
          -0.30821690540998775,
          -0.16902228541454117,
          1.386327989125356,
          -0.6848593790205239,
          -0.6466786083486713,
          0.13036212643731973,
          0.023575212329333652,
          -1.1045532650066474,
          -0.4969850904404985,
          -0.3749437649258846,
          -0.43644911753027127,
          -1.2378405065422293,
          -1.329383898709104,
          0.2802944518040834,
          -0.721967980469442,
          -0.6793832443305716,
          -1.454048902884165,
          -1.974592283675091,
          1.0090214538722935,
          -0.24879662064032473,
          -0.20103075678515658,
          -0.5588833512132657,
          -1.2745981288297656,
          -1.453661568283202,
          -0.3000582656133242,
          0.03346080177174961,
          2.352289971839987,
          0.45707272541422517,
          0.5969449392986741,
          0.4136814330801256,
          1.8212671411947137,
          -1.1484504252971244,
          0.8230255619469891,
          1.1903574476614167,
          0.2832340681934699,
          0.0007254283793950763,
          0.5095093569975643,
          -0.25222939691524066,
          -0.9057112235191137,
          -0.10429944518265208,
          -0.22114768407300664,
          0.6023627045504915,
          -1.2882727632706534,
          -0.2568560442356472,
          0.4075638892272466,
          -0.02375947281671281,
          -0.8168776298654831,
          -0.6453714793192032,
          0.5580269054848119,
          -0.37986094430907774,
          0.28221752250205845,
          -0.6196159821458809,
          -0.7749229539008272,
          -1.0735450429145297
         ],
         "xaxis": "x3",
         "y": [
          0.4046885802662556,
          1.1634609392181832,
          0.23831008927938055,
          -0.45313528311521356,
          0.6379419156491609,
          -1.4438142211840077,
          1.8009472366221853,
          -0.7019073870945766,
          -0.8114125274235565,
          -0.19453020546169025,
          -0.7293890011435047,
          0.6063177785699431,
          1.0260493772417252,
          -0.9745601272849126,
          0.12845004434385796,
          -0.7341950315109401,
          -0.9369463818518106,
          -1.1556645432178285,
          0.5517415501440451,
          1.470943400591443,
          0.11098759972307877,
          -0.872040405036734,
          -0.725573494045479,
          0.8762144102495203,
          -0.7256656974838994,
          0.3804463638734659,
          0.2530982777719823,
          -0.4352234077201285,
          -1.365033459939283,
          0.5518013661404798,
          -1.619294142218477,
          -0.15950966538974887,
          -1.0364676267292028,
          -0.7822275358569596,
          -0.596292607538201,
          1.462245547155082,
          -0.042939762307161664,
          -1.201448817457161,
          -0.7868093739855325,
          -1.350711335531761,
          1.5003530252108532,
          0.5836491221240611,
          -0.49000745223916403,
          -0.224690766978519,
          0.9357732755516264,
          1.6148852537842429,
          -0.5293467512155942,
          -0.03504591766188298,
          -0.5427162155618057,
          0.10466060428419802,
          -2.0619027260621454,
          1.5595819261835777,
          -1.2746582360580982,
          0.659713111290282,
          0.5209346905381115,
          -1.7331676875805266,
          0.03367417605899992,
          0.5460604281705843,
          -1.5229265854603575,
          -1.493244595701655,
          0.3442258291328287,
          -0.5890189634984968,
          -1.7400819468251014,
          0.4571841912093843,
          -0.8163286138659932,
          1.2234095046336957,
          -1.9175262230633567,
          -0.15235500484728523,
          -0.698914922498096,
          -0.586607717471715,
          -0.7782598990314717,
          -0.3192471540884277,
          1.35728673860839,
          -0.09084304778350655,
          1.5978710071133138,
          0.5543089832036076,
          -1.2756408674786088,
          -0.5622618397965323,
          -0.7738852311628306,
          1.74867279085942,
          -0.45789212961166326,
          -1.048740322865479,
          2.2815737330960917,
          -2.1568479545387556,
          0.24697011679665867,
          -0.899739675819223,
          0.021203123180370407,
          0.6687085372297036,
          0.47964616017111034,
          0.31588041201361655,
          0.5555818984785732,
          -1.4629086445238069,
          0.16314192016126078,
          0.920584193980645,
          1.7813749673543573,
          0.9671144937881719,
          0.6490999417134848,
          -0.9330982876728201,
          1.8844394384921241,
          -0.5615173612921415
         ],
         "yaxis": "y3"
        },
        {
         "line": {
          "color": "rgba(128, 128, 128, 1.0)",
          "dash": "solid",
          "shape": "linear",
          "width": 1.3
         },
         "marker": {
          "size": 2,
          "symbol": "circle"
         },
         "mode": "markers",
         "name": "A",
         "text": "",
         "type": "scatter",
         "x": [
          -0.2825855431900491,
          1.0633573067486268,
          -2.1001692351063626,
          1.0446367095592421,
          0.5953430876382271,
          -0.2846919621319009,
          -0.28373562720918266,
          1.4395582244747056,
          -0.11937281065970146,
          0.5200018724597353,
          0.4961085627014545,
          0.3670638417017377,
          -0.5427364186337024,
          -0.01355745100234656,
          -1.5841177773188502,
          -0.3982164343485549,
          0.3967242430361578,
          -0.7325445073538194,
          0.6090256738889145,
          1.4016476694071414,
          1.5363295483820543,
          0.3595770376866891,
          0.8365984993865755,
          0.37450436239124474,
          -0.47142248286065813,
          -0.2864934693803874,
          -1.3209858573890385,
          0.946365846884867,
          0.880451145627504,
          1.8598250512370083,
          -0.8248545670496139,
          0.4970792013989982,
          -0.11956098339954181,
          0.3486511376338494,
          -0.10899894977861045,
          -0.5113159880609262,
          -1.2338305680788635,
          0.7096969153160174,
          -0.8324611642094429,
          0.8488390676321835,
          -0.6285222129992037,
          0.6641907699781142,
          0.1343227588279596,
          -0.5633909316429447,
          -0.06936327430316822,
          1.0757439090555194,
          -0.9879655916118916,
          -0.2217330017946681,
          0.0014859262711134778,
          -0.39148841064950907,
          0.3338323314224215,
          -1.4408710973374794,
          1.3125608421605095,
          1.75037240909572,
          -0.9805307979366945,
          -0.8728110853325531,
          0.5581801807343525,
          -0.6863981771284091,
          1.0558126713712725,
          1.0758175147999909,
          0.4528375019274385,
          1.2240977251112526,
          -0.9510460066059595,
          -0.9627119790191537,
          0.7647797576345738,
          -0.7414842948486164,
          -0.8181307041959239,
          0.9853819359946228,
          -0.69835410525475,
          1.1369684032907827,
          1.0400481714777836,
          -0.3249947365171732,
          -1.0463195957144569,
          0.2887891883560056,
          0.03454937373532679,
          -1.9673655069855913,
          0.8331638666971242,
          -0.22743412615690475,
          0.5757727546899231,
          -0.37188253833382523,
          1.7139249122824152,
          0.8112324903396599,
          -0.605521065103998,
          1.277592715293173,
          0.6733907637732424,
          -0.41058471253747514,
          2.054629172161993,
          -1.6811086140472022,
          0.6574084450518696,
          -1.5953199469781836,
          -0.2229726467327843,
          1.0678056997544685,
          -0.7154713198200674,
          0.45898615370078294,
          -1.4369031061061972,
          0.5370523305489656,
          0.06493287092040016,
          -1.3828767677212086,
          -1.0713130882516548,
          -0.3335073676303444
         ],
         "xaxis": "x4",
         "y": [
          0.4046885802662556,
          1.1634609392181832,
          0.23831008927938055,
          -0.45313528311521356,
          0.6379419156491609,
          -1.4438142211840077,
          1.8009472366221853,
          -0.7019073870945766,
          -0.8114125274235565,
          -0.19453020546169025,
          -0.7293890011435047,
          0.6063177785699431,
          1.0260493772417252,
          -0.9745601272849126,
          0.12845004434385796,
          -0.7341950315109401,
          -0.9369463818518106,
          -1.1556645432178285,
          0.5517415501440451,
          1.470943400591443,
          0.11098759972307877,
          -0.872040405036734,
          -0.725573494045479,
          0.8762144102495203,
          -0.7256656974838994,
          0.3804463638734659,
          0.2530982777719823,
          -0.4352234077201285,
          -1.365033459939283,
          0.5518013661404798,
          -1.619294142218477,
          -0.15950966538974887,
          -1.0364676267292028,
          -0.7822275358569596,
          -0.596292607538201,
          1.462245547155082,
          -0.042939762307161664,
          -1.201448817457161,
          -0.7868093739855325,
          -1.350711335531761,
          1.5003530252108532,
          0.5836491221240611,
          -0.49000745223916403,
          -0.224690766978519,
          0.9357732755516264,
          1.6148852537842429,
          -0.5293467512155942,
          -0.03504591766188298,
          -0.5427162155618057,
          0.10466060428419802,
          -2.0619027260621454,
          1.5595819261835777,
          -1.2746582360580982,
          0.659713111290282,
          0.5209346905381115,
          -1.7331676875805266,
          0.03367417605899992,
          0.5460604281705843,
          -1.5229265854603575,
          -1.493244595701655,
          0.3442258291328287,
          -0.5890189634984968,
          -1.7400819468251014,
          0.4571841912093843,
          -0.8163286138659932,
          1.2234095046336957,
          -1.9175262230633567,
          -0.15235500484728523,
          -0.698914922498096,
          -0.586607717471715,
          -0.7782598990314717,
          -0.3192471540884277,
          1.35728673860839,
          -0.09084304778350655,
          1.5978710071133138,
          0.5543089832036076,
          -1.2756408674786088,
          -0.5622618397965323,
          -0.7738852311628306,
          1.74867279085942,
          -0.45789212961166326,
          -1.048740322865479,
          2.2815737330960917,
          -2.1568479545387556,
          0.24697011679665867,
          -0.899739675819223,
          0.021203123180370407,
          0.6687085372297036,
          0.47964616017111034,
          0.31588041201361655,
          0.5555818984785732,
          -1.4629086445238069,
          0.16314192016126078,
          0.920584193980645,
          1.7813749673543573,
          0.9671144937881719,
          0.6490999417134848,
          -0.9330982876728201,
          1.8844394384921241,
          -0.5615173612921415
         ],
         "yaxis": "y4"
        },
        {
         "line": {
          "color": "rgba(128, 128, 128, 1.0)",
          "dash": "solid",
          "shape": "linear",
          "width": 1.3
         },
         "marker": {
          "size": 2,
          "symbol": "circle"
         },
         "mode": "markers",
         "name": "B",
         "text": "",
         "type": "scatter",
         "x": [
          0.4046885802662556,
          1.1634609392181832,
          0.23831008927938055,
          -0.45313528311521356,
          0.6379419156491609,
          -1.4438142211840077,
          1.8009472366221853,
          -0.7019073870945766,
          -0.8114125274235565,
          -0.19453020546169025,
          -0.7293890011435047,
          0.6063177785699431,
          1.0260493772417252,
          -0.9745601272849126,
          0.12845004434385796,
          -0.7341950315109401,
          -0.9369463818518106,
          -1.1556645432178285,
          0.5517415501440451,
          1.470943400591443,
          0.11098759972307877,
          -0.872040405036734,
          -0.725573494045479,
          0.8762144102495203,
          -0.7256656974838994,
          0.3804463638734659,
          0.2530982777719823,
          -0.4352234077201285,
          -1.365033459939283,
          0.5518013661404798,
          -1.619294142218477,
          -0.15950966538974887,
          -1.0364676267292028,
          -0.7822275358569596,
          -0.596292607538201,
          1.462245547155082,
          -0.042939762307161664,
          -1.201448817457161,
          -0.7868093739855325,
          -1.350711335531761,
          1.5003530252108532,
          0.5836491221240611,
          -0.49000745223916403,
          -0.224690766978519,
          0.9357732755516264,
          1.6148852537842429,
          -0.5293467512155942,
          -0.03504591766188298,
          -0.5427162155618057,
          0.10466060428419802,
          -2.0619027260621454,
          1.5595819261835777,
          -1.2746582360580982,
          0.659713111290282,
          0.5209346905381115,
          -1.7331676875805266,
          0.03367417605899992,
          0.5460604281705843,
          -1.5229265854603575,
          -1.493244595701655,
          0.3442258291328287,
          -0.5890189634984968,
          -1.7400819468251014,
          0.4571841912093843,
          -0.8163286138659932,
          1.2234095046336957,
          -1.9175262230633567,
          -0.15235500484728523,
          -0.698914922498096,
          -0.586607717471715,
          -0.7782598990314717,
          -0.3192471540884277,
          1.35728673860839,
          -0.09084304778350655,
          1.5978710071133138,
          0.5543089832036076,
          -1.2756408674786088,
          -0.5622618397965323,
          -0.7738852311628306,
          1.74867279085942,
          -0.45789212961166326,
          -1.048740322865479,
          2.2815737330960917,
          -2.1568479545387556,
          0.24697011679665867,
          -0.899739675819223,
          0.021203123180370407,
          0.6687085372297036,
          0.47964616017111034,
          0.31588041201361655,
          0.5555818984785732,
          -1.4629086445238069,
          0.16314192016126078,
          0.920584193980645,
          1.7813749673543573,
          0.9671144937881719,
          0.6490999417134848,
          -0.9330982876728201,
          1.8844394384921241,
          -0.5615173612921415
         ],
         "xaxis": "x5",
         "y": [
          -0.036356967863489895,
          0.6423978464479991,
          0.06196203067280018,
          -0.5954524694442337,
          -1.5492130648730433,
          0.9311582520537345,
          0.668820275662023,
          -1.7468085590922156,
          -0.1696769342720388,
          -0.16394718749777826,
          0.9751552245798681,
          -1.116024324722163,
          -0.07156742000424661,
          -0.14331542135327674,
          0.9701102019525644,
          1.1032867331856737,
          -1.3573861940736234,
          1.401711275479528,
          0.3492238065607233,
          1.1495498995481301,
          -0.25578600485966096,
          -0.322862665425817,
          -0.6344716356855562,
          0.6630306819263807,
          0.5383410993755943,
          -1.3039213197094524,
          0.14185396625413685,
          0.42771001158341787,
          0.7518401055320181,
          1.539785467378347,
          -0.537891810015294,
          -1.3178235865616854,
          0.1249254623762938,
          -2.1592279543521853,
          -0.08278135031086314,
          -0.6181565700562351,
          -0.11673623829000321,
          -0.13769998347284979,
          1.079604089840864,
          0.5672219678230143,
          -0.08637198946114594,
          -1.1331304631062196,
          1.2290718062342558,
          -0.7616001988702629,
          -0.1026849109720081,
          -0.0010621314607047187,
          0.17853018027367948,
          -0.8369727453835258,
          0.5641170382120637,
          -0.2809140775862545,
          -0.161649970436904,
          0.9867336734143902,
          0.9626034283246061,
          1.6615712411403147,
          -1.845096222709994,
          0.322978603804716,
          0.5015961251814729,
          -0.20196396940320452,
          1.5381237398756653,
          -1.569086207055157,
          1.4564700565976911,
          -0.04912766685608523,
          -0.69211787687324,
          0.9659138585689333,
          0.07107648041341595,
          1.1711131962254953,
          1.8201511950554998,
          -1.3676254840529378,
          1.1995116297125372,
          0.10992919238102469,
          0.3374614915014219,
          0.901256752395691,
          0.942744548829377,
          -0.1779698098371036,
          -0.6711557827944291,
          0.4877171261065864,
          0.3865014857062134,
          -0.5575141658063655,
          0.03930754883116221,
          -0.40015756971593525,
          1.4028018295464215,
          -0.3733233526762418,
          1.3026064618230895,
          0.07858820380263296,
          -0.5980967986591397,
          0.6363700701730874,
          0.3542755147951408,
          -0.6681973227150312,
          -0.17867581943479036,
          1.9604410397063305,
          1.628367333941146,
          0.39812181707511507,
          -0.3886088203518295,
          0.07951355276205435,
          1.2256210551788733,
          0.9633559855214752,
          0.20691469233021173,
          1.3791363349919523,
          -0.5151369461288825,
          0.5599252179345603
         ],
         "yaxis": "y5"
        },
        {
         "histfunc": "count",
         "histnorm": "",
         "marker": {
          "color": "rgba(55, 128, 191, 1.0)",
          "line": {
           "color": "#4D5663",
           "width": 1.3
          }
         },
         "name": "B",
         "nbinsx": 10,
         "opacity": 0.8,
         "orientation": "v",
         "type": "histogram",
         "x": [
          -0.036356967863489895,
          0.6423978464479991,
          0.06196203067280018,
          -0.5954524694442337,
          -1.5492130648730433,
          0.9311582520537345,
          0.668820275662023,
          -1.7468085590922156,
          -0.1696769342720388,
          -0.16394718749777826,
          0.9751552245798681,
          -1.116024324722163,
          -0.07156742000424661,
          -0.14331542135327674,
          0.9701102019525644,
          1.1032867331856737,
          -1.3573861940736234,
          1.401711275479528,
          0.3492238065607233,
          1.1495498995481301,
          -0.25578600485966096,
          -0.322862665425817,
          -0.6344716356855562,
          0.6630306819263807,
          0.5383410993755943,
          -1.3039213197094524,
          0.14185396625413685,
          0.42771001158341787,
          0.7518401055320181,
          1.539785467378347,
          -0.537891810015294,
          -1.3178235865616854,
          0.1249254623762938,
          -2.1592279543521853,
          -0.08278135031086314,
          -0.6181565700562351,
          -0.11673623829000321,
          -0.13769998347284979,
          1.079604089840864,
          0.5672219678230143,
          -0.08637198946114594,
          -1.1331304631062196,
          1.2290718062342558,
          -0.7616001988702629,
          -0.1026849109720081,
          -0.0010621314607047187,
          0.17853018027367948,
          -0.8369727453835258,
          0.5641170382120637,
          -0.2809140775862545,
          -0.161649970436904,
          0.9867336734143902,
          0.9626034283246061,
          1.6615712411403147,
          -1.845096222709994,
          0.322978603804716,
          0.5015961251814729,
          -0.20196396940320452,
          1.5381237398756653,
          -1.569086207055157,
          1.4564700565976911,
          -0.04912766685608523,
          -0.69211787687324,
          0.9659138585689333,
          0.07107648041341595,
          1.1711131962254953,
          1.8201511950554998,
          -1.3676254840529378,
          1.1995116297125372,
          0.10992919238102469,
          0.3374614915014219,
          0.901256752395691,
          0.942744548829377,
          -0.1779698098371036,
          -0.6711557827944291,
          0.4877171261065864,
          0.3865014857062134,
          -0.5575141658063655,
          0.03930754883116221,
          -0.40015756971593525,
          1.4028018295464215,
          -0.3733233526762418,
          1.3026064618230895,
          0.07858820380263296,
          -0.5980967986591397,
          0.6363700701730874,
          0.3542755147951408,
          -0.6681973227150312,
          -0.17867581943479036,
          1.9604410397063305,
          1.628367333941146,
          0.39812181707511507,
          -0.3886088203518295,
          0.07951355276205435,
          1.2256210551788733,
          0.9633559855214752,
          0.20691469233021173,
          1.3791363349919523,
          -0.5151369461288825,
          0.5599252179345603
         ],
         "xaxis": "x6",
         "yaxis": "y6"
        },
        {
         "line": {
          "color": "rgba(128, 128, 128, 1.0)",
          "dash": "solid",
          "shape": "linear",
          "width": 1.3
         },
         "marker": {
          "size": 2,
          "symbol": "circle"
         },
         "mode": "markers",
         "name": "B",
         "text": "",
         "type": "scatter",
         "x": [
          0.5333894106068127,
          1.071325229171342,
          -1.470800589136725,
          -0.2862220905778843,
          1.4073662137816083,
          0.5061183817439069,
          0.548607579205655,
          0.18351728006894288,
          0.16519771603600164,
          -0.3379868955724642,
          -0.7193781227538893,
          -0.8028083789324517,
          2.5621540661496436,
          0.6297905398570731,
          1.3221623658435007,
          -0.907877045688626,
          -0.25187487464876357,
          0.6213152162284802,
          0.14964733672853697,
          1.4032636161455256,
          0.41291565944770825,
          -0.20068503950731623,
          0.42218693076308744,
          0.9877398270261727,
          -0.47905481553674256,
          0.19634134813147971,
          1.2378857439315198,
          -0.888634564676272,
          0.5983403200192242,
          0.37065528264334985,
          -0.5136464140676389,
          0.6215545322933033,
          -1.1882741046614425,
          -1.1241984567183492,
          0.046135081931201916,
          0.3059584972861639,
          1.982660713709128,
          1.1335098628566807,
          0.7631761072699269,
          -1.0650132249362372,
          -0.7934812437165999,
          -0.8640406655280599,
          -0.9032769074349047,
          -0.5817143932778477,
          0.21908099888966504,
          0.41265322755297795,
          -0.30821690540998775,
          -0.16902228541454117,
          1.386327989125356,
          -0.6848593790205239,
          -0.6466786083486713,
          0.13036212643731973,
          0.023575212329333652,
          -1.1045532650066474,
          -0.4969850904404985,
          -0.3749437649258846,
          -0.43644911753027127,
          -1.2378405065422293,
          -1.329383898709104,
          0.2802944518040834,
          -0.721967980469442,
          -0.6793832443305716,
          -1.454048902884165,
          -1.974592283675091,
          1.0090214538722935,
          -0.24879662064032473,
          -0.20103075678515658,
          -0.5588833512132657,
          -1.2745981288297656,
          -1.453661568283202,
          -0.3000582656133242,
          0.03346080177174961,
          2.352289971839987,
          0.45707272541422517,
          0.5969449392986741,
          0.4136814330801256,
          1.8212671411947137,
          -1.1484504252971244,
          0.8230255619469891,
          1.1903574476614167,
          0.2832340681934699,
          0.0007254283793950763,
          0.5095093569975643,
          -0.25222939691524066,
          -0.9057112235191137,
          -0.10429944518265208,
          -0.22114768407300664,
          0.6023627045504915,
          -1.2882727632706534,
          -0.2568560442356472,
          0.4075638892272466,
          -0.02375947281671281,
          -0.8168776298654831,
          -0.6453714793192032,
          0.5580269054848119,
          -0.37986094430907774,
          0.28221752250205845,
          -0.6196159821458809,
          -0.7749229539008272,
          -1.0735450429145297
         ],
         "xaxis": "x7",
         "y": [
          -0.036356967863489895,
          0.6423978464479991,
          0.06196203067280018,
          -0.5954524694442337,
          -1.5492130648730433,
          0.9311582520537345,
          0.668820275662023,
          -1.7468085590922156,
          -0.1696769342720388,
          -0.16394718749777826,
          0.9751552245798681,
          -1.116024324722163,
          -0.07156742000424661,
          -0.14331542135327674,
          0.9701102019525644,
          1.1032867331856737,
          -1.3573861940736234,
          1.401711275479528,
          0.3492238065607233,
          1.1495498995481301,
          -0.25578600485966096,
          -0.322862665425817,
          -0.6344716356855562,
          0.6630306819263807,
          0.5383410993755943,
          -1.3039213197094524,
          0.14185396625413685,
          0.42771001158341787,
          0.7518401055320181,
          1.539785467378347,
          -0.537891810015294,
          -1.3178235865616854,
          0.1249254623762938,
          -2.1592279543521853,
          -0.08278135031086314,
          -0.6181565700562351,
          -0.11673623829000321,
          -0.13769998347284979,
          1.079604089840864,
          0.5672219678230143,
          -0.08637198946114594,
          -1.1331304631062196,
          1.2290718062342558,
          -0.7616001988702629,
          -0.1026849109720081,
          -0.0010621314607047187,
          0.17853018027367948,
          -0.8369727453835258,
          0.5641170382120637,
          -0.2809140775862545,
          -0.161649970436904,
          0.9867336734143902,
          0.9626034283246061,
          1.6615712411403147,
          -1.845096222709994,
          0.322978603804716,
          0.5015961251814729,
          -0.20196396940320452,
          1.5381237398756653,
          -1.569086207055157,
          1.4564700565976911,
          -0.04912766685608523,
          -0.69211787687324,
          0.9659138585689333,
          0.07107648041341595,
          1.1711131962254953,
          1.8201511950554998,
          -1.3676254840529378,
          1.1995116297125372,
          0.10992919238102469,
          0.3374614915014219,
          0.901256752395691,
          0.942744548829377,
          -0.1779698098371036,
          -0.6711557827944291,
          0.4877171261065864,
          0.3865014857062134,
          -0.5575141658063655,
          0.03930754883116221,
          -0.40015756971593525,
          1.4028018295464215,
          -0.3733233526762418,
          1.3026064618230895,
          0.07858820380263296,
          -0.5980967986591397,
          0.6363700701730874,
          0.3542755147951408,
          -0.6681973227150312,
          -0.17867581943479036,
          1.9604410397063305,
          1.628367333941146,
          0.39812181707511507,
          -0.3886088203518295,
          0.07951355276205435,
          1.2256210551788733,
          0.9633559855214752,
          0.20691469233021173,
          1.3791363349919523,
          -0.5151369461288825,
          0.5599252179345603
         ],
         "yaxis": "y7"
        },
        {
         "line": {
          "color": "rgba(128, 128, 128, 1.0)",
          "dash": "solid",
          "shape": "linear",
          "width": 1.3
         },
         "marker": {
          "size": 2,
          "symbol": "circle"
         },
         "mode": "markers",
         "name": "B",
         "text": "",
         "type": "scatter",
         "x": [
          -0.2825855431900491,
          1.0633573067486268,
          -2.1001692351063626,
          1.0446367095592421,
          0.5953430876382271,
          -0.2846919621319009,
          -0.28373562720918266,
          1.4395582244747056,
          -0.11937281065970146,
          0.5200018724597353,
          0.4961085627014545,
          0.3670638417017377,
          -0.5427364186337024,
          -0.01355745100234656,
          -1.5841177773188502,
          -0.3982164343485549,
          0.3967242430361578,
          -0.7325445073538194,
          0.6090256738889145,
          1.4016476694071414,
          1.5363295483820543,
          0.3595770376866891,
          0.8365984993865755,
          0.37450436239124474,
          -0.47142248286065813,
          -0.2864934693803874,
          -1.3209858573890385,
          0.946365846884867,
          0.880451145627504,
          1.8598250512370083,
          -0.8248545670496139,
          0.4970792013989982,
          -0.11956098339954181,
          0.3486511376338494,
          -0.10899894977861045,
          -0.5113159880609262,
          -1.2338305680788635,
          0.7096969153160174,
          -0.8324611642094429,
          0.8488390676321835,
          -0.6285222129992037,
          0.6641907699781142,
          0.1343227588279596,
          -0.5633909316429447,
          -0.06936327430316822,
          1.0757439090555194,
          -0.9879655916118916,
          -0.2217330017946681,
          0.0014859262711134778,
          -0.39148841064950907,
          0.3338323314224215,
          -1.4408710973374794,
          1.3125608421605095,
          1.75037240909572,
          -0.9805307979366945,
          -0.8728110853325531,
          0.5581801807343525,
          -0.6863981771284091,
          1.0558126713712725,
          1.0758175147999909,
          0.4528375019274385,
          1.2240977251112526,
          -0.9510460066059595,
          -0.9627119790191537,
          0.7647797576345738,
          -0.7414842948486164,
          -0.8181307041959239,
          0.9853819359946228,
          -0.69835410525475,
          1.1369684032907827,
          1.0400481714777836,
          -0.3249947365171732,
          -1.0463195957144569,
          0.2887891883560056,
          0.03454937373532679,
          -1.9673655069855913,
          0.8331638666971242,
          -0.22743412615690475,
          0.5757727546899231,
          -0.37188253833382523,
          1.7139249122824152,
          0.8112324903396599,
          -0.605521065103998,
          1.277592715293173,
          0.6733907637732424,
          -0.41058471253747514,
          2.054629172161993,
          -1.6811086140472022,
          0.6574084450518696,
          -1.5953199469781836,
          -0.2229726467327843,
          1.0678056997544685,
          -0.7154713198200674,
          0.45898615370078294,
          -1.4369031061061972,
          0.5370523305489656,
          0.06493287092040016,
          -1.3828767677212086,
          -1.0713130882516548,
          -0.3335073676303444
         ],
         "xaxis": "x8",
         "y": [
          -0.036356967863489895,
          0.6423978464479991,
          0.06196203067280018,
          -0.5954524694442337,
          -1.5492130648730433,
          0.9311582520537345,
          0.668820275662023,
          -1.7468085590922156,
          -0.1696769342720388,
          -0.16394718749777826,
          0.9751552245798681,
          -1.116024324722163,
          -0.07156742000424661,
          -0.14331542135327674,
          0.9701102019525644,
          1.1032867331856737,
          -1.3573861940736234,
          1.401711275479528,
          0.3492238065607233,
          1.1495498995481301,
          -0.25578600485966096,
          -0.322862665425817,
          -0.6344716356855562,
          0.6630306819263807,
          0.5383410993755943,
          -1.3039213197094524,
          0.14185396625413685,
          0.42771001158341787,
          0.7518401055320181,
          1.539785467378347,
          -0.537891810015294,
          -1.3178235865616854,
          0.1249254623762938,
          -2.1592279543521853,
          -0.08278135031086314,
          -0.6181565700562351,
          -0.11673623829000321,
          -0.13769998347284979,
          1.079604089840864,
          0.5672219678230143,
          -0.08637198946114594,
          -1.1331304631062196,
          1.2290718062342558,
          -0.7616001988702629,
          -0.1026849109720081,
          -0.0010621314607047187,
          0.17853018027367948,
          -0.8369727453835258,
          0.5641170382120637,
          -0.2809140775862545,
          -0.161649970436904,
          0.9867336734143902,
          0.9626034283246061,
          1.6615712411403147,
          -1.845096222709994,
          0.322978603804716,
          0.5015961251814729,
          -0.20196396940320452,
          1.5381237398756653,
          -1.569086207055157,
          1.4564700565976911,
          -0.04912766685608523,
          -0.69211787687324,
          0.9659138585689333,
          0.07107648041341595,
          1.1711131962254953,
          1.8201511950554998,
          -1.3676254840529378,
          1.1995116297125372,
          0.10992919238102469,
          0.3374614915014219,
          0.901256752395691,
          0.942744548829377,
          -0.1779698098371036,
          -0.6711557827944291,
          0.4877171261065864,
          0.3865014857062134,
          -0.5575141658063655,
          0.03930754883116221,
          -0.40015756971593525,
          1.4028018295464215,
          -0.3733233526762418,
          1.3026064618230895,
          0.07858820380263296,
          -0.5980967986591397,
          0.6363700701730874,
          0.3542755147951408,
          -0.6681973227150312,
          -0.17867581943479036,
          1.9604410397063305,
          1.628367333941146,
          0.39812181707511507,
          -0.3886088203518295,
          0.07951355276205435,
          1.2256210551788733,
          0.9633559855214752,
          0.20691469233021173,
          1.3791363349919523,
          -0.5151369461288825,
          0.5599252179345603
         ],
         "yaxis": "y8"
        },
        {
         "line": {
          "color": "rgba(128, 128, 128, 1.0)",
          "dash": "solid",
          "shape": "linear",
          "width": 1.3
         },
         "marker": {
          "size": 2,
          "symbol": "circle"
         },
         "mode": "markers",
         "name": "C",
         "text": "",
         "type": "scatter",
         "x": [
          0.4046885802662556,
          1.1634609392181832,
          0.23831008927938055,
          -0.45313528311521356,
          0.6379419156491609,
          -1.4438142211840077,
          1.8009472366221853,
          -0.7019073870945766,
          -0.8114125274235565,
          -0.19453020546169025,
          -0.7293890011435047,
          0.6063177785699431,
          1.0260493772417252,
          -0.9745601272849126,
          0.12845004434385796,
          -0.7341950315109401,
          -0.9369463818518106,
          -1.1556645432178285,
          0.5517415501440451,
          1.470943400591443,
          0.11098759972307877,
          -0.872040405036734,
          -0.725573494045479,
          0.8762144102495203,
          -0.7256656974838994,
          0.3804463638734659,
          0.2530982777719823,
          -0.4352234077201285,
          -1.365033459939283,
          0.5518013661404798,
          -1.619294142218477,
          -0.15950966538974887,
          -1.0364676267292028,
          -0.7822275358569596,
          -0.596292607538201,
          1.462245547155082,
          -0.042939762307161664,
          -1.201448817457161,
          -0.7868093739855325,
          -1.350711335531761,
          1.5003530252108532,
          0.5836491221240611,
          -0.49000745223916403,
          -0.224690766978519,
          0.9357732755516264,
          1.6148852537842429,
          -0.5293467512155942,
          -0.03504591766188298,
          -0.5427162155618057,
          0.10466060428419802,
          -2.0619027260621454,
          1.5595819261835777,
          -1.2746582360580982,
          0.659713111290282,
          0.5209346905381115,
          -1.7331676875805266,
          0.03367417605899992,
          0.5460604281705843,
          -1.5229265854603575,
          -1.493244595701655,
          0.3442258291328287,
          -0.5890189634984968,
          -1.7400819468251014,
          0.4571841912093843,
          -0.8163286138659932,
          1.2234095046336957,
          -1.9175262230633567,
          -0.15235500484728523,
          -0.698914922498096,
          -0.586607717471715,
          -0.7782598990314717,
          -0.3192471540884277,
          1.35728673860839,
          -0.09084304778350655,
          1.5978710071133138,
          0.5543089832036076,
          -1.2756408674786088,
          -0.5622618397965323,
          -0.7738852311628306,
          1.74867279085942,
          -0.45789212961166326,
          -1.048740322865479,
          2.2815737330960917,
          -2.1568479545387556,
          0.24697011679665867,
          -0.899739675819223,
          0.021203123180370407,
          0.6687085372297036,
          0.47964616017111034,
          0.31588041201361655,
          0.5555818984785732,
          -1.4629086445238069,
          0.16314192016126078,
          0.920584193980645,
          1.7813749673543573,
          0.9671144937881719,
          0.6490999417134848,
          -0.9330982876728201,
          1.8844394384921241,
          -0.5615173612921415
         ],
         "xaxis": "x9",
         "y": [
          0.5333894106068127,
          1.071325229171342,
          -1.470800589136725,
          -0.2862220905778843,
          1.4073662137816083,
          0.5061183817439069,
          0.548607579205655,
          0.18351728006894288,
          0.16519771603600164,
          -0.3379868955724642,
          -0.7193781227538893,
          -0.8028083789324517,
          2.5621540661496436,
          0.6297905398570731,
          1.3221623658435007,
          -0.907877045688626,
          -0.25187487464876357,
          0.6213152162284802,
          0.14964733672853697,
          1.4032636161455256,
          0.41291565944770825,
          -0.20068503950731623,
          0.42218693076308744,
          0.9877398270261727,
          -0.47905481553674256,
          0.19634134813147971,
          1.2378857439315198,
          -0.888634564676272,
          0.5983403200192242,
          0.37065528264334985,
          -0.5136464140676389,
          0.6215545322933033,
          -1.1882741046614425,
          -1.1241984567183492,
          0.046135081931201916,
          0.3059584972861639,
          1.982660713709128,
          1.1335098628566807,
          0.7631761072699269,
          -1.0650132249362372,
          -0.7934812437165999,
          -0.8640406655280599,
          -0.9032769074349047,
          -0.5817143932778477,
          0.21908099888966504,
          0.41265322755297795,
          -0.30821690540998775,
          -0.16902228541454117,
          1.386327989125356,
          -0.6848593790205239,
          -0.6466786083486713,
          0.13036212643731973,
          0.023575212329333652,
          -1.1045532650066474,
          -0.4969850904404985,
          -0.3749437649258846,
          -0.43644911753027127,
          -1.2378405065422293,
          -1.329383898709104,
          0.2802944518040834,
          -0.721967980469442,
          -0.6793832443305716,
          -1.454048902884165,
          -1.974592283675091,
          1.0090214538722935,
          -0.24879662064032473,
          -0.20103075678515658,
          -0.5588833512132657,
          -1.2745981288297656,
          -1.453661568283202,
          -0.3000582656133242,
          0.03346080177174961,
          2.352289971839987,
          0.45707272541422517,
          0.5969449392986741,
          0.4136814330801256,
          1.8212671411947137,
          -1.1484504252971244,
          0.8230255619469891,
          1.1903574476614167,
          0.2832340681934699,
          0.0007254283793950763,
          0.5095093569975643,
          -0.25222939691524066,
          -0.9057112235191137,
          -0.10429944518265208,
          -0.22114768407300664,
          0.6023627045504915,
          -1.2882727632706534,
          -0.2568560442356472,
          0.4075638892272466,
          -0.02375947281671281,
          -0.8168776298654831,
          -0.6453714793192032,
          0.5580269054848119,
          -0.37986094430907774,
          0.28221752250205845,
          -0.6196159821458809,
          -0.7749229539008272,
          -1.0735450429145297
         ],
         "yaxis": "y9"
        },
        {
         "line": {
          "color": "rgba(128, 128, 128, 1.0)",
          "dash": "solid",
          "shape": "linear",
          "width": 1.3
         },
         "marker": {
          "size": 2,
          "symbol": "circle"
         },
         "mode": "markers",
         "name": "C",
         "text": "",
         "type": "scatter",
         "x": [
          -0.036356967863489895,
          0.6423978464479991,
          0.06196203067280018,
          -0.5954524694442337,
          -1.5492130648730433,
          0.9311582520537345,
          0.668820275662023,
          -1.7468085590922156,
          -0.1696769342720388,
          -0.16394718749777826,
          0.9751552245798681,
          -1.116024324722163,
          -0.07156742000424661,
          -0.14331542135327674,
          0.9701102019525644,
          1.1032867331856737,
          -1.3573861940736234,
          1.401711275479528,
          0.3492238065607233,
          1.1495498995481301,
          -0.25578600485966096,
          -0.322862665425817,
          -0.6344716356855562,
          0.6630306819263807,
          0.5383410993755943,
          -1.3039213197094524,
          0.14185396625413685,
          0.42771001158341787,
          0.7518401055320181,
          1.539785467378347,
          -0.537891810015294,
          -1.3178235865616854,
          0.1249254623762938,
          -2.1592279543521853,
          -0.08278135031086314,
          -0.6181565700562351,
          -0.11673623829000321,
          -0.13769998347284979,
          1.079604089840864,
          0.5672219678230143,
          -0.08637198946114594,
          -1.1331304631062196,
          1.2290718062342558,
          -0.7616001988702629,
          -0.1026849109720081,
          -0.0010621314607047187,
          0.17853018027367948,
          -0.8369727453835258,
          0.5641170382120637,
          -0.2809140775862545,
          -0.161649970436904,
          0.9867336734143902,
          0.9626034283246061,
          1.6615712411403147,
          -1.845096222709994,
          0.322978603804716,
          0.5015961251814729,
          -0.20196396940320452,
          1.5381237398756653,
          -1.569086207055157,
          1.4564700565976911,
          -0.04912766685608523,
          -0.69211787687324,
          0.9659138585689333,
          0.07107648041341595,
          1.1711131962254953,
          1.8201511950554998,
          -1.3676254840529378,
          1.1995116297125372,
          0.10992919238102469,
          0.3374614915014219,
          0.901256752395691,
          0.942744548829377,
          -0.1779698098371036,
          -0.6711557827944291,
          0.4877171261065864,
          0.3865014857062134,
          -0.5575141658063655,
          0.03930754883116221,
          -0.40015756971593525,
          1.4028018295464215,
          -0.3733233526762418,
          1.3026064618230895,
          0.07858820380263296,
          -0.5980967986591397,
          0.6363700701730874,
          0.3542755147951408,
          -0.6681973227150312,
          -0.17867581943479036,
          1.9604410397063305,
          1.628367333941146,
          0.39812181707511507,
          -0.3886088203518295,
          0.07951355276205435,
          1.2256210551788733,
          0.9633559855214752,
          0.20691469233021173,
          1.3791363349919523,
          -0.5151369461288825,
          0.5599252179345603
         ],
         "xaxis": "x10",
         "y": [
          0.5333894106068127,
          1.071325229171342,
          -1.470800589136725,
          -0.2862220905778843,
          1.4073662137816083,
          0.5061183817439069,
          0.548607579205655,
          0.18351728006894288,
          0.16519771603600164,
          -0.3379868955724642,
          -0.7193781227538893,
          -0.8028083789324517,
          2.5621540661496436,
          0.6297905398570731,
          1.3221623658435007,
          -0.907877045688626,
          -0.25187487464876357,
          0.6213152162284802,
          0.14964733672853697,
          1.4032636161455256,
          0.41291565944770825,
          -0.20068503950731623,
          0.42218693076308744,
          0.9877398270261727,
          -0.47905481553674256,
          0.19634134813147971,
          1.2378857439315198,
          -0.888634564676272,
          0.5983403200192242,
          0.37065528264334985,
          -0.5136464140676389,
          0.6215545322933033,
          -1.1882741046614425,
          -1.1241984567183492,
          0.046135081931201916,
          0.3059584972861639,
          1.982660713709128,
          1.1335098628566807,
          0.7631761072699269,
          -1.0650132249362372,
          -0.7934812437165999,
          -0.8640406655280599,
          -0.9032769074349047,
          -0.5817143932778477,
          0.21908099888966504,
          0.41265322755297795,
          -0.30821690540998775,
          -0.16902228541454117,
          1.386327989125356,
          -0.6848593790205239,
          -0.6466786083486713,
          0.13036212643731973,
          0.023575212329333652,
          -1.1045532650066474,
          -0.4969850904404985,
          -0.3749437649258846,
          -0.43644911753027127,
          -1.2378405065422293,
          -1.329383898709104,
          0.2802944518040834,
          -0.721967980469442,
          -0.6793832443305716,
          -1.454048902884165,
          -1.974592283675091,
          1.0090214538722935,
          -0.24879662064032473,
          -0.20103075678515658,
          -0.5588833512132657,
          -1.2745981288297656,
          -1.453661568283202,
          -0.3000582656133242,
          0.03346080177174961,
          2.352289971839987,
          0.45707272541422517,
          0.5969449392986741,
          0.4136814330801256,
          1.8212671411947137,
          -1.1484504252971244,
          0.8230255619469891,
          1.1903574476614167,
          0.2832340681934699,
          0.0007254283793950763,
          0.5095093569975643,
          -0.25222939691524066,
          -0.9057112235191137,
          -0.10429944518265208,
          -0.22114768407300664,
          0.6023627045504915,
          -1.2882727632706534,
          -0.2568560442356472,
          0.4075638892272466,
          -0.02375947281671281,
          -0.8168776298654831,
          -0.6453714793192032,
          0.5580269054848119,
          -0.37986094430907774,
          0.28221752250205845,
          -0.6196159821458809,
          -0.7749229539008272,
          -1.0735450429145297
         ],
         "yaxis": "y10"
        },
        {
         "histfunc": "count",
         "histnorm": "",
         "marker": {
          "color": "rgba(50, 171, 96, 1.0)",
          "line": {
           "color": "#4D5663",
           "width": 1.3
          }
         },
         "name": "C",
         "nbinsx": 10,
         "opacity": 0.8,
         "orientation": "v",
         "type": "histogram",
         "x": [
          0.5333894106068127,
          1.071325229171342,
          -1.470800589136725,
          -0.2862220905778843,
          1.4073662137816083,
          0.5061183817439069,
          0.548607579205655,
          0.18351728006894288,
          0.16519771603600164,
          -0.3379868955724642,
          -0.7193781227538893,
          -0.8028083789324517,
          2.5621540661496436,
          0.6297905398570731,
          1.3221623658435007,
          -0.907877045688626,
          -0.25187487464876357,
          0.6213152162284802,
          0.14964733672853697,
          1.4032636161455256,
          0.41291565944770825,
          -0.20068503950731623,
          0.42218693076308744,
          0.9877398270261727,
          -0.47905481553674256,
          0.19634134813147971,
          1.2378857439315198,
          -0.888634564676272,
          0.5983403200192242,
          0.37065528264334985,
          -0.5136464140676389,
          0.6215545322933033,
          -1.1882741046614425,
          -1.1241984567183492,
          0.046135081931201916,
          0.3059584972861639,
          1.982660713709128,
          1.1335098628566807,
          0.7631761072699269,
          -1.0650132249362372,
          -0.7934812437165999,
          -0.8640406655280599,
          -0.9032769074349047,
          -0.5817143932778477,
          0.21908099888966504,
          0.41265322755297795,
          -0.30821690540998775,
          -0.16902228541454117,
          1.386327989125356,
          -0.6848593790205239,
          -0.6466786083486713,
          0.13036212643731973,
          0.023575212329333652,
          -1.1045532650066474,
          -0.4969850904404985,
          -0.3749437649258846,
          -0.43644911753027127,
          -1.2378405065422293,
          -1.329383898709104,
          0.2802944518040834,
          -0.721967980469442,
          -0.6793832443305716,
          -1.454048902884165,
          -1.974592283675091,
          1.0090214538722935,
          -0.24879662064032473,
          -0.20103075678515658,
          -0.5588833512132657,
          -1.2745981288297656,
          -1.453661568283202,
          -0.3000582656133242,
          0.03346080177174961,
          2.352289971839987,
          0.45707272541422517,
          0.5969449392986741,
          0.4136814330801256,
          1.8212671411947137,
          -1.1484504252971244,
          0.8230255619469891,
          1.1903574476614167,
          0.2832340681934699,
          0.0007254283793950763,
          0.5095093569975643,
          -0.25222939691524066,
          -0.9057112235191137,
          -0.10429944518265208,
          -0.22114768407300664,
          0.6023627045504915,
          -1.2882727632706534,
          -0.2568560442356472,
          0.4075638892272466,
          -0.02375947281671281,
          -0.8168776298654831,
          -0.6453714793192032,
          0.5580269054848119,
          -0.37986094430907774,
          0.28221752250205845,
          -0.6196159821458809,
          -0.7749229539008272,
          -1.0735450429145297
         ],
         "xaxis": "x11",
         "yaxis": "y11"
        },
        {
         "line": {
          "color": "rgba(128, 128, 128, 1.0)",
          "dash": "solid",
          "shape": "linear",
          "width": 1.3
         },
         "marker": {
          "size": 2,
          "symbol": "circle"
         },
         "mode": "markers",
         "name": "C",
         "text": "",
         "type": "scatter",
         "x": [
          -0.2825855431900491,
          1.0633573067486268,
          -2.1001692351063626,
          1.0446367095592421,
          0.5953430876382271,
          -0.2846919621319009,
          -0.28373562720918266,
          1.4395582244747056,
          -0.11937281065970146,
          0.5200018724597353,
          0.4961085627014545,
          0.3670638417017377,
          -0.5427364186337024,
          -0.01355745100234656,
          -1.5841177773188502,
          -0.3982164343485549,
          0.3967242430361578,
          -0.7325445073538194,
          0.6090256738889145,
          1.4016476694071414,
          1.5363295483820543,
          0.3595770376866891,
          0.8365984993865755,
          0.37450436239124474,
          -0.47142248286065813,
          -0.2864934693803874,
          -1.3209858573890385,
          0.946365846884867,
          0.880451145627504,
          1.8598250512370083,
          -0.8248545670496139,
          0.4970792013989982,
          -0.11956098339954181,
          0.3486511376338494,
          -0.10899894977861045,
          -0.5113159880609262,
          -1.2338305680788635,
          0.7096969153160174,
          -0.8324611642094429,
          0.8488390676321835,
          -0.6285222129992037,
          0.6641907699781142,
          0.1343227588279596,
          -0.5633909316429447,
          -0.06936327430316822,
          1.0757439090555194,
          -0.9879655916118916,
          -0.2217330017946681,
          0.0014859262711134778,
          -0.39148841064950907,
          0.3338323314224215,
          -1.4408710973374794,
          1.3125608421605095,
          1.75037240909572,
          -0.9805307979366945,
          -0.8728110853325531,
          0.5581801807343525,
          -0.6863981771284091,
          1.0558126713712725,
          1.0758175147999909,
          0.4528375019274385,
          1.2240977251112526,
          -0.9510460066059595,
          -0.9627119790191537,
          0.7647797576345738,
          -0.7414842948486164,
          -0.8181307041959239,
          0.9853819359946228,
          -0.69835410525475,
          1.1369684032907827,
          1.0400481714777836,
          -0.3249947365171732,
          -1.0463195957144569,
          0.2887891883560056,
          0.03454937373532679,
          -1.9673655069855913,
          0.8331638666971242,
          -0.22743412615690475,
          0.5757727546899231,
          -0.37188253833382523,
          1.7139249122824152,
          0.8112324903396599,
          -0.605521065103998,
          1.277592715293173,
          0.6733907637732424,
          -0.41058471253747514,
          2.054629172161993,
          -1.6811086140472022,
          0.6574084450518696,
          -1.5953199469781836,
          -0.2229726467327843,
          1.0678056997544685,
          -0.7154713198200674,
          0.45898615370078294,
          -1.4369031061061972,
          0.5370523305489656,
          0.06493287092040016,
          -1.3828767677212086,
          -1.0713130882516548,
          -0.3335073676303444
         ],
         "xaxis": "x12",
         "y": [
          0.5333894106068127,
          1.071325229171342,
          -1.470800589136725,
          -0.2862220905778843,
          1.4073662137816083,
          0.5061183817439069,
          0.548607579205655,
          0.18351728006894288,
          0.16519771603600164,
          -0.3379868955724642,
          -0.7193781227538893,
          -0.8028083789324517,
          2.5621540661496436,
          0.6297905398570731,
          1.3221623658435007,
          -0.907877045688626,
          -0.25187487464876357,
          0.6213152162284802,
          0.14964733672853697,
          1.4032636161455256,
          0.41291565944770825,
          -0.20068503950731623,
          0.42218693076308744,
          0.9877398270261727,
          -0.47905481553674256,
          0.19634134813147971,
          1.2378857439315198,
          -0.888634564676272,
          0.5983403200192242,
          0.37065528264334985,
          -0.5136464140676389,
          0.6215545322933033,
          -1.1882741046614425,
          -1.1241984567183492,
          0.046135081931201916,
          0.3059584972861639,
          1.982660713709128,
          1.1335098628566807,
          0.7631761072699269,
          -1.0650132249362372,
          -0.7934812437165999,
          -0.8640406655280599,
          -0.9032769074349047,
          -0.5817143932778477,
          0.21908099888966504,
          0.41265322755297795,
          -0.30821690540998775,
          -0.16902228541454117,
          1.386327989125356,
          -0.6848593790205239,
          -0.6466786083486713,
          0.13036212643731973,
          0.023575212329333652,
          -1.1045532650066474,
          -0.4969850904404985,
          -0.3749437649258846,
          -0.43644911753027127,
          -1.2378405065422293,
          -1.329383898709104,
          0.2802944518040834,
          -0.721967980469442,
          -0.6793832443305716,
          -1.454048902884165,
          -1.974592283675091,
          1.0090214538722935,
          -0.24879662064032473,
          -0.20103075678515658,
          -0.5588833512132657,
          -1.2745981288297656,
          -1.453661568283202,
          -0.3000582656133242,
          0.03346080177174961,
          2.352289971839987,
          0.45707272541422517,
          0.5969449392986741,
          0.4136814330801256,
          1.8212671411947137,
          -1.1484504252971244,
          0.8230255619469891,
          1.1903574476614167,
          0.2832340681934699,
          0.0007254283793950763,
          0.5095093569975643,
          -0.25222939691524066,
          -0.9057112235191137,
          -0.10429944518265208,
          -0.22114768407300664,
          0.6023627045504915,
          -1.2882727632706534,
          -0.2568560442356472,
          0.4075638892272466,
          -0.02375947281671281,
          -0.8168776298654831,
          -0.6453714793192032,
          0.5580269054848119,
          -0.37986094430907774,
          0.28221752250205845,
          -0.6196159821458809,
          -0.7749229539008272,
          -1.0735450429145297
         ],
         "yaxis": "y12"
        },
        {
         "line": {
          "color": "rgba(128, 128, 128, 1.0)",
          "dash": "solid",
          "shape": "linear",
          "width": 1.3
         },
         "marker": {
          "size": 2,
          "symbol": "circle"
         },
         "mode": "markers",
         "name": "D",
         "text": "",
         "type": "scatter",
         "x": [
          0.4046885802662556,
          1.1634609392181832,
          0.23831008927938055,
          -0.45313528311521356,
          0.6379419156491609,
          -1.4438142211840077,
          1.8009472366221853,
          -0.7019073870945766,
          -0.8114125274235565,
          -0.19453020546169025,
          -0.7293890011435047,
          0.6063177785699431,
          1.0260493772417252,
          -0.9745601272849126,
          0.12845004434385796,
          -0.7341950315109401,
          -0.9369463818518106,
          -1.1556645432178285,
          0.5517415501440451,
          1.470943400591443,
          0.11098759972307877,
          -0.872040405036734,
          -0.725573494045479,
          0.8762144102495203,
          -0.7256656974838994,
          0.3804463638734659,
          0.2530982777719823,
          -0.4352234077201285,
          -1.365033459939283,
          0.5518013661404798,
          -1.619294142218477,
          -0.15950966538974887,
          -1.0364676267292028,
          -0.7822275358569596,
          -0.596292607538201,
          1.462245547155082,
          -0.042939762307161664,
          -1.201448817457161,
          -0.7868093739855325,
          -1.350711335531761,
          1.5003530252108532,
          0.5836491221240611,
          -0.49000745223916403,
          -0.224690766978519,
          0.9357732755516264,
          1.6148852537842429,
          -0.5293467512155942,
          -0.03504591766188298,
          -0.5427162155618057,
          0.10466060428419802,
          -2.0619027260621454,
          1.5595819261835777,
          -1.2746582360580982,
          0.659713111290282,
          0.5209346905381115,
          -1.7331676875805266,
          0.03367417605899992,
          0.5460604281705843,
          -1.5229265854603575,
          -1.493244595701655,
          0.3442258291328287,
          -0.5890189634984968,
          -1.7400819468251014,
          0.4571841912093843,
          -0.8163286138659932,
          1.2234095046336957,
          -1.9175262230633567,
          -0.15235500484728523,
          -0.698914922498096,
          -0.586607717471715,
          -0.7782598990314717,
          -0.3192471540884277,
          1.35728673860839,
          -0.09084304778350655,
          1.5978710071133138,
          0.5543089832036076,
          -1.2756408674786088,
          -0.5622618397965323,
          -0.7738852311628306,
          1.74867279085942,
          -0.45789212961166326,
          -1.048740322865479,
          2.2815737330960917,
          -2.1568479545387556,
          0.24697011679665867,
          -0.899739675819223,
          0.021203123180370407,
          0.6687085372297036,
          0.47964616017111034,
          0.31588041201361655,
          0.5555818984785732,
          -1.4629086445238069,
          0.16314192016126078,
          0.920584193980645,
          1.7813749673543573,
          0.9671144937881719,
          0.6490999417134848,
          -0.9330982876728201,
          1.8844394384921241,
          -0.5615173612921415
         ],
         "xaxis": "x13",
         "y": [
          -0.2825855431900491,
          1.0633573067486268,
          -2.1001692351063626,
          1.0446367095592421,
          0.5953430876382271,
          -0.2846919621319009,
          -0.28373562720918266,
          1.4395582244747056,
          -0.11937281065970146,
          0.5200018724597353,
          0.4961085627014545,
          0.3670638417017377,
          -0.5427364186337024,
          -0.01355745100234656,
          -1.5841177773188502,
          -0.3982164343485549,
          0.3967242430361578,
          -0.7325445073538194,
          0.6090256738889145,
          1.4016476694071414,
          1.5363295483820543,
          0.3595770376866891,
          0.8365984993865755,
          0.37450436239124474,
          -0.47142248286065813,
          -0.2864934693803874,
          -1.3209858573890385,
          0.946365846884867,
          0.880451145627504,
          1.8598250512370083,
          -0.8248545670496139,
          0.4970792013989982,
          -0.11956098339954181,
          0.3486511376338494,
          -0.10899894977861045,
          -0.5113159880609262,
          -1.2338305680788635,
          0.7096969153160174,
          -0.8324611642094429,
          0.8488390676321835,
          -0.6285222129992037,
          0.6641907699781142,
          0.1343227588279596,
          -0.5633909316429447,
          -0.06936327430316822,
          1.0757439090555194,
          -0.9879655916118916,
          -0.2217330017946681,
          0.0014859262711134778,
          -0.39148841064950907,
          0.3338323314224215,
          -1.4408710973374794,
          1.3125608421605095,
          1.75037240909572,
          -0.9805307979366945,
          -0.8728110853325531,
          0.5581801807343525,
          -0.6863981771284091,
          1.0558126713712725,
          1.0758175147999909,
          0.4528375019274385,
          1.2240977251112526,
          -0.9510460066059595,
          -0.9627119790191537,
          0.7647797576345738,
          -0.7414842948486164,
          -0.8181307041959239,
          0.9853819359946228,
          -0.69835410525475,
          1.1369684032907827,
          1.0400481714777836,
          -0.3249947365171732,
          -1.0463195957144569,
          0.2887891883560056,
          0.03454937373532679,
          -1.9673655069855913,
          0.8331638666971242,
          -0.22743412615690475,
          0.5757727546899231,
          -0.37188253833382523,
          1.7139249122824152,
          0.8112324903396599,
          -0.605521065103998,
          1.277592715293173,
          0.6733907637732424,
          -0.41058471253747514,
          2.054629172161993,
          -1.6811086140472022,
          0.6574084450518696,
          -1.5953199469781836,
          -0.2229726467327843,
          1.0678056997544685,
          -0.7154713198200674,
          0.45898615370078294,
          -1.4369031061061972,
          0.5370523305489656,
          0.06493287092040016,
          -1.3828767677212086,
          -1.0713130882516548,
          -0.3335073676303444
         ],
         "yaxis": "y13"
        },
        {
         "line": {
          "color": "rgba(128, 128, 128, 1.0)",
          "dash": "solid",
          "shape": "linear",
          "width": 1.3
         },
         "marker": {
          "size": 2,
          "symbol": "circle"
         },
         "mode": "markers",
         "name": "D",
         "text": "",
         "type": "scatter",
         "x": [
          -0.036356967863489895,
          0.6423978464479991,
          0.06196203067280018,
          -0.5954524694442337,
          -1.5492130648730433,
          0.9311582520537345,
          0.668820275662023,
          -1.7468085590922156,
          -0.1696769342720388,
          -0.16394718749777826,
          0.9751552245798681,
          -1.116024324722163,
          -0.07156742000424661,
          -0.14331542135327674,
          0.9701102019525644,
          1.1032867331856737,
          -1.3573861940736234,
          1.401711275479528,
          0.3492238065607233,
          1.1495498995481301,
          -0.25578600485966096,
          -0.322862665425817,
          -0.6344716356855562,
          0.6630306819263807,
          0.5383410993755943,
          -1.3039213197094524,
          0.14185396625413685,
          0.42771001158341787,
          0.7518401055320181,
          1.539785467378347,
          -0.537891810015294,
          -1.3178235865616854,
          0.1249254623762938,
          -2.1592279543521853,
          -0.08278135031086314,
          -0.6181565700562351,
          -0.11673623829000321,
          -0.13769998347284979,
          1.079604089840864,
          0.5672219678230143,
          -0.08637198946114594,
          -1.1331304631062196,
          1.2290718062342558,
          -0.7616001988702629,
          -0.1026849109720081,
          -0.0010621314607047187,
          0.17853018027367948,
          -0.8369727453835258,
          0.5641170382120637,
          -0.2809140775862545,
          -0.161649970436904,
          0.9867336734143902,
          0.9626034283246061,
          1.6615712411403147,
          -1.845096222709994,
          0.322978603804716,
          0.5015961251814729,
          -0.20196396940320452,
          1.5381237398756653,
          -1.569086207055157,
          1.4564700565976911,
          -0.04912766685608523,
          -0.69211787687324,
          0.9659138585689333,
          0.07107648041341595,
          1.1711131962254953,
          1.8201511950554998,
          -1.3676254840529378,
          1.1995116297125372,
          0.10992919238102469,
          0.3374614915014219,
          0.901256752395691,
          0.942744548829377,
          -0.1779698098371036,
          -0.6711557827944291,
          0.4877171261065864,
          0.3865014857062134,
          -0.5575141658063655,
          0.03930754883116221,
          -0.40015756971593525,
          1.4028018295464215,
          -0.3733233526762418,
          1.3026064618230895,
          0.07858820380263296,
          -0.5980967986591397,
          0.6363700701730874,
          0.3542755147951408,
          -0.6681973227150312,
          -0.17867581943479036,
          1.9604410397063305,
          1.628367333941146,
          0.39812181707511507,
          -0.3886088203518295,
          0.07951355276205435,
          1.2256210551788733,
          0.9633559855214752,
          0.20691469233021173,
          1.3791363349919523,
          -0.5151369461288825,
          0.5599252179345603
         ],
         "xaxis": "x14",
         "y": [
          -0.2825855431900491,
          1.0633573067486268,
          -2.1001692351063626,
          1.0446367095592421,
          0.5953430876382271,
          -0.2846919621319009,
          -0.28373562720918266,
          1.4395582244747056,
          -0.11937281065970146,
          0.5200018724597353,
          0.4961085627014545,
          0.3670638417017377,
          -0.5427364186337024,
          -0.01355745100234656,
          -1.5841177773188502,
          -0.3982164343485549,
          0.3967242430361578,
          -0.7325445073538194,
          0.6090256738889145,
          1.4016476694071414,
          1.5363295483820543,
          0.3595770376866891,
          0.8365984993865755,
          0.37450436239124474,
          -0.47142248286065813,
          -0.2864934693803874,
          -1.3209858573890385,
          0.946365846884867,
          0.880451145627504,
          1.8598250512370083,
          -0.8248545670496139,
          0.4970792013989982,
          -0.11956098339954181,
          0.3486511376338494,
          -0.10899894977861045,
          -0.5113159880609262,
          -1.2338305680788635,
          0.7096969153160174,
          -0.8324611642094429,
          0.8488390676321835,
          -0.6285222129992037,
          0.6641907699781142,
          0.1343227588279596,
          -0.5633909316429447,
          -0.06936327430316822,
          1.0757439090555194,
          -0.9879655916118916,
          -0.2217330017946681,
          0.0014859262711134778,
          -0.39148841064950907,
          0.3338323314224215,
          -1.4408710973374794,
          1.3125608421605095,
          1.75037240909572,
          -0.9805307979366945,
          -0.8728110853325531,
          0.5581801807343525,
          -0.6863981771284091,
          1.0558126713712725,
          1.0758175147999909,
          0.4528375019274385,
          1.2240977251112526,
          -0.9510460066059595,
          -0.9627119790191537,
          0.7647797576345738,
          -0.7414842948486164,
          -0.8181307041959239,
          0.9853819359946228,
          -0.69835410525475,
          1.1369684032907827,
          1.0400481714777836,
          -0.3249947365171732,
          -1.0463195957144569,
          0.2887891883560056,
          0.03454937373532679,
          -1.9673655069855913,
          0.8331638666971242,
          -0.22743412615690475,
          0.5757727546899231,
          -0.37188253833382523,
          1.7139249122824152,
          0.8112324903396599,
          -0.605521065103998,
          1.277592715293173,
          0.6733907637732424,
          -0.41058471253747514,
          2.054629172161993,
          -1.6811086140472022,
          0.6574084450518696,
          -1.5953199469781836,
          -0.2229726467327843,
          1.0678056997544685,
          -0.7154713198200674,
          0.45898615370078294,
          -1.4369031061061972,
          0.5370523305489656,
          0.06493287092040016,
          -1.3828767677212086,
          -1.0713130882516548,
          -0.3335073676303444
         ],
         "yaxis": "y14"
        },
        {
         "line": {
          "color": "rgba(128, 128, 128, 1.0)",
          "dash": "solid",
          "shape": "linear",
          "width": 1.3
         },
         "marker": {
          "size": 2,
          "symbol": "circle"
         },
         "mode": "markers",
         "name": "D",
         "text": "",
         "type": "scatter",
         "x": [
          0.5333894106068127,
          1.071325229171342,
          -1.470800589136725,
          -0.2862220905778843,
          1.4073662137816083,
          0.5061183817439069,
          0.548607579205655,
          0.18351728006894288,
          0.16519771603600164,
          -0.3379868955724642,
          -0.7193781227538893,
          -0.8028083789324517,
          2.5621540661496436,
          0.6297905398570731,
          1.3221623658435007,
          -0.907877045688626,
          -0.25187487464876357,
          0.6213152162284802,
          0.14964733672853697,
          1.4032636161455256,
          0.41291565944770825,
          -0.20068503950731623,
          0.42218693076308744,
          0.9877398270261727,
          -0.47905481553674256,
          0.19634134813147971,
          1.2378857439315198,
          -0.888634564676272,
          0.5983403200192242,
          0.37065528264334985,
          -0.5136464140676389,
          0.6215545322933033,
          -1.1882741046614425,
          -1.1241984567183492,
          0.046135081931201916,
          0.3059584972861639,
          1.982660713709128,
          1.1335098628566807,
          0.7631761072699269,
          -1.0650132249362372,
          -0.7934812437165999,
          -0.8640406655280599,
          -0.9032769074349047,
          -0.5817143932778477,
          0.21908099888966504,
          0.41265322755297795,
          -0.30821690540998775,
          -0.16902228541454117,
          1.386327989125356,
          -0.6848593790205239,
          -0.6466786083486713,
          0.13036212643731973,
          0.023575212329333652,
          -1.1045532650066474,
          -0.4969850904404985,
          -0.3749437649258846,
          -0.43644911753027127,
          -1.2378405065422293,
          -1.329383898709104,
          0.2802944518040834,
          -0.721967980469442,
          -0.6793832443305716,
          -1.454048902884165,
          -1.974592283675091,
          1.0090214538722935,
          -0.24879662064032473,
          -0.20103075678515658,
          -0.5588833512132657,
          -1.2745981288297656,
          -1.453661568283202,
          -0.3000582656133242,
          0.03346080177174961,
          2.352289971839987,
          0.45707272541422517,
          0.5969449392986741,
          0.4136814330801256,
          1.8212671411947137,
          -1.1484504252971244,
          0.8230255619469891,
          1.1903574476614167,
          0.2832340681934699,
          0.0007254283793950763,
          0.5095093569975643,
          -0.25222939691524066,
          -0.9057112235191137,
          -0.10429944518265208,
          -0.22114768407300664,
          0.6023627045504915,
          -1.2882727632706534,
          -0.2568560442356472,
          0.4075638892272466,
          -0.02375947281671281,
          -0.8168776298654831,
          -0.6453714793192032,
          0.5580269054848119,
          -0.37986094430907774,
          0.28221752250205845,
          -0.6196159821458809,
          -0.7749229539008272,
          -1.0735450429145297
         ],
         "xaxis": "x15",
         "y": [
          -0.2825855431900491,
          1.0633573067486268,
          -2.1001692351063626,
          1.0446367095592421,
          0.5953430876382271,
          -0.2846919621319009,
          -0.28373562720918266,
          1.4395582244747056,
          -0.11937281065970146,
          0.5200018724597353,
          0.4961085627014545,
          0.3670638417017377,
          -0.5427364186337024,
          -0.01355745100234656,
          -1.5841177773188502,
          -0.3982164343485549,
          0.3967242430361578,
          -0.7325445073538194,
          0.6090256738889145,
          1.4016476694071414,
          1.5363295483820543,
          0.3595770376866891,
          0.8365984993865755,
          0.37450436239124474,
          -0.47142248286065813,
          -0.2864934693803874,
          -1.3209858573890385,
          0.946365846884867,
          0.880451145627504,
          1.8598250512370083,
          -0.8248545670496139,
          0.4970792013989982,
          -0.11956098339954181,
          0.3486511376338494,
          -0.10899894977861045,
          -0.5113159880609262,
          -1.2338305680788635,
          0.7096969153160174,
          -0.8324611642094429,
          0.8488390676321835,
          -0.6285222129992037,
          0.6641907699781142,
          0.1343227588279596,
          -0.5633909316429447,
          -0.06936327430316822,
          1.0757439090555194,
          -0.9879655916118916,
          -0.2217330017946681,
          0.0014859262711134778,
          -0.39148841064950907,
          0.3338323314224215,
          -1.4408710973374794,
          1.3125608421605095,
          1.75037240909572,
          -0.9805307979366945,
          -0.8728110853325531,
          0.5581801807343525,
          -0.6863981771284091,
          1.0558126713712725,
          1.0758175147999909,
          0.4528375019274385,
          1.2240977251112526,
          -0.9510460066059595,
          -0.9627119790191537,
          0.7647797576345738,
          -0.7414842948486164,
          -0.8181307041959239,
          0.9853819359946228,
          -0.69835410525475,
          1.1369684032907827,
          1.0400481714777836,
          -0.3249947365171732,
          -1.0463195957144569,
          0.2887891883560056,
          0.03454937373532679,
          -1.9673655069855913,
          0.8331638666971242,
          -0.22743412615690475,
          0.5757727546899231,
          -0.37188253833382523,
          1.7139249122824152,
          0.8112324903396599,
          -0.605521065103998,
          1.277592715293173,
          0.6733907637732424,
          -0.41058471253747514,
          2.054629172161993,
          -1.6811086140472022,
          0.6574084450518696,
          -1.5953199469781836,
          -0.2229726467327843,
          1.0678056997544685,
          -0.7154713198200674,
          0.45898615370078294,
          -1.4369031061061972,
          0.5370523305489656,
          0.06493287092040016,
          -1.3828767677212086,
          -1.0713130882516548,
          -0.3335073676303444
         ],
         "yaxis": "y15"
        },
        {
         "histfunc": "count",
         "histnorm": "",
         "marker": {
          "color": "rgba(128, 0, 128, 1.0)",
          "line": {
           "color": "#4D5663",
           "width": 1.3
          }
         },
         "name": "D",
         "nbinsx": 10,
         "opacity": 0.8,
         "orientation": "v",
         "type": "histogram",
         "x": [
          -0.2825855431900491,
          1.0633573067486268,
          -2.1001692351063626,
          1.0446367095592421,
          0.5953430876382271,
          -0.2846919621319009,
          -0.28373562720918266,
          1.4395582244747056,
          -0.11937281065970146,
          0.5200018724597353,
          0.4961085627014545,
          0.3670638417017377,
          -0.5427364186337024,
          -0.01355745100234656,
          -1.5841177773188502,
          -0.3982164343485549,
          0.3967242430361578,
          -0.7325445073538194,
          0.6090256738889145,
          1.4016476694071414,
          1.5363295483820543,
          0.3595770376866891,
          0.8365984993865755,
          0.37450436239124474,
          -0.47142248286065813,
          -0.2864934693803874,
          -1.3209858573890385,
          0.946365846884867,
          0.880451145627504,
          1.8598250512370083,
          -0.8248545670496139,
          0.4970792013989982,
          -0.11956098339954181,
          0.3486511376338494,
          -0.10899894977861045,
          -0.5113159880609262,
          -1.2338305680788635,
          0.7096969153160174,
          -0.8324611642094429,
          0.8488390676321835,
          -0.6285222129992037,
          0.6641907699781142,
          0.1343227588279596,
          -0.5633909316429447,
          -0.06936327430316822,
          1.0757439090555194,
          -0.9879655916118916,
          -0.2217330017946681,
          0.0014859262711134778,
          -0.39148841064950907,
          0.3338323314224215,
          -1.4408710973374794,
          1.3125608421605095,
          1.75037240909572,
          -0.9805307979366945,
          -0.8728110853325531,
          0.5581801807343525,
          -0.6863981771284091,
          1.0558126713712725,
          1.0758175147999909,
          0.4528375019274385,
          1.2240977251112526,
          -0.9510460066059595,
          -0.9627119790191537,
          0.7647797576345738,
          -0.7414842948486164,
          -0.8181307041959239,
          0.9853819359946228,
          -0.69835410525475,
          1.1369684032907827,
          1.0400481714777836,
          -0.3249947365171732,
          -1.0463195957144569,
          0.2887891883560056,
          0.03454937373532679,
          -1.9673655069855913,
          0.8331638666971242,
          -0.22743412615690475,
          0.5757727546899231,
          -0.37188253833382523,
          1.7139249122824152,
          0.8112324903396599,
          -0.605521065103998,
          1.277592715293173,
          0.6733907637732424,
          -0.41058471253747514,
          2.054629172161993,
          -1.6811086140472022,
          0.6574084450518696,
          -1.5953199469781836,
          -0.2229726467327843,
          1.0678056997544685,
          -0.7154713198200674,
          0.45898615370078294,
          -1.4369031061061972,
          0.5370523305489656,
          0.06493287092040016,
          -1.3828767677212086,
          -1.0713130882516548,
          -0.3335073676303444
         ],
         "xaxis": "x16",
         "yaxis": "y16"
        }
       ],
       "layout": {
        "bargap": 0.02,
        "legend": {
         "bgcolor": "#F5F6F9",
         "font": {
          "color": "#4D5663"
         }
        },
        "paper_bgcolor": "#F5F6F9",
        "plot_bgcolor": "#F5F6F9",
        "showlegend": false,
        "template": {
         "data": {
          "bar": [
           {
            "error_x": {
             "color": "#2a3f5f"
            },
            "error_y": {
             "color": "#2a3f5f"
            },
            "marker": {
             "line": {
              "color": "#E5ECF6",
              "width": 0.5
             },
             "pattern": {
              "fillmode": "overlay",
              "size": 10,
              "solidity": 0.2
             }
            },
            "type": "bar"
           }
          ],
          "barpolar": [
           {
            "marker": {
             "line": {
              "color": "#E5ECF6",
              "width": 0.5
             },
             "pattern": {
              "fillmode": "overlay",
              "size": 10,
              "solidity": 0.2
             }
            },
            "type": "barpolar"
           }
          ],
          "carpet": [
           {
            "aaxis": {
             "endlinecolor": "#2a3f5f",
             "gridcolor": "white",
             "linecolor": "white",
             "minorgridcolor": "white",
             "startlinecolor": "#2a3f5f"
            },
            "baxis": {
             "endlinecolor": "#2a3f5f",
             "gridcolor": "white",
             "linecolor": "white",
             "minorgridcolor": "white",
             "startlinecolor": "#2a3f5f"
            },
            "type": "carpet"
           }
          ],
          "choropleth": [
           {
            "colorbar": {
             "outlinewidth": 0,
             "ticks": ""
            },
            "type": "choropleth"
           }
          ],
          "contour": [
           {
            "colorbar": {
             "outlinewidth": 0,
             "ticks": ""
            },
            "colorscale": [
             [
              0,
              "#0d0887"
             ],
             [
              0.1111111111111111,
              "#46039f"
             ],
             [
              0.2222222222222222,
              "#7201a8"
             ],
             [
              0.3333333333333333,
              "#9c179e"
             ],
             [
              0.4444444444444444,
              "#bd3786"
             ],
             [
              0.5555555555555556,
              "#d8576b"
             ],
             [
              0.6666666666666666,
              "#ed7953"
             ],
             [
              0.7777777777777778,
              "#fb9f3a"
             ],
             [
              0.8888888888888888,
              "#fdca26"
             ],
             [
              1,
              "#f0f921"
             ]
            ],
            "type": "contour"
           }
          ],
          "contourcarpet": [
           {
            "colorbar": {
             "outlinewidth": 0,
             "ticks": ""
            },
            "type": "contourcarpet"
           }
          ],
          "heatmap": [
           {
            "colorbar": {
             "outlinewidth": 0,
             "ticks": ""
            },
            "colorscale": [
             [
              0,
              "#0d0887"
             ],
             [
              0.1111111111111111,
              "#46039f"
             ],
             [
              0.2222222222222222,
              "#7201a8"
             ],
             [
              0.3333333333333333,
              "#9c179e"
             ],
             [
              0.4444444444444444,
              "#bd3786"
             ],
             [
              0.5555555555555556,
              "#d8576b"
             ],
             [
              0.6666666666666666,
              "#ed7953"
             ],
             [
              0.7777777777777778,
              "#fb9f3a"
             ],
             [
              0.8888888888888888,
              "#fdca26"
             ],
             [
              1,
              "#f0f921"
             ]
            ],
            "type": "heatmap"
           }
          ],
          "heatmapgl": [
           {
            "colorbar": {
             "outlinewidth": 0,
             "ticks": ""
            },
            "colorscale": [
             [
              0,
              "#0d0887"
             ],
             [
              0.1111111111111111,
              "#46039f"
             ],
             [
              0.2222222222222222,
              "#7201a8"
             ],
             [
              0.3333333333333333,
              "#9c179e"
             ],
             [
              0.4444444444444444,
              "#bd3786"
             ],
             [
              0.5555555555555556,
              "#d8576b"
             ],
             [
              0.6666666666666666,
              "#ed7953"
             ],
             [
              0.7777777777777778,
              "#fb9f3a"
             ],
             [
              0.8888888888888888,
              "#fdca26"
             ],
             [
              1,
              "#f0f921"
             ]
            ],
            "type": "heatmapgl"
           }
          ],
          "histogram": [
           {
            "marker": {
             "pattern": {
              "fillmode": "overlay",
              "size": 10,
              "solidity": 0.2
             }
            },
            "type": "histogram"
           }
          ],
          "histogram2d": [
           {
            "colorbar": {
             "outlinewidth": 0,
             "ticks": ""
            },
            "colorscale": [
             [
              0,
              "#0d0887"
             ],
             [
              0.1111111111111111,
              "#46039f"
             ],
             [
              0.2222222222222222,
              "#7201a8"
             ],
             [
              0.3333333333333333,
              "#9c179e"
             ],
             [
              0.4444444444444444,
              "#bd3786"
             ],
             [
              0.5555555555555556,
              "#d8576b"
             ],
             [
              0.6666666666666666,
              "#ed7953"
             ],
             [
              0.7777777777777778,
              "#fb9f3a"
             ],
             [
              0.8888888888888888,
              "#fdca26"
             ],
             [
              1,
              "#f0f921"
             ]
            ],
            "type": "histogram2d"
           }
          ],
          "histogram2dcontour": [
           {
            "colorbar": {
             "outlinewidth": 0,
             "ticks": ""
            },
            "colorscale": [
             [
              0,
              "#0d0887"
             ],
             [
              0.1111111111111111,
              "#46039f"
             ],
             [
              0.2222222222222222,
              "#7201a8"
             ],
             [
              0.3333333333333333,
              "#9c179e"
             ],
             [
              0.4444444444444444,
              "#bd3786"
             ],
             [
              0.5555555555555556,
              "#d8576b"
             ],
             [
              0.6666666666666666,
              "#ed7953"
             ],
             [
              0.7777777777777778,
              "#fb9f3a"
             ],
             [
              0.8888888888888888,
              "#fdca26"
             ],
             [
              1,
              "#f0f921"
             ]
            ],
            "type": "histogram2dcontour"
           }
          ],
          "mesh3d": [
           {
            "colorbar": {
             "outlinewidth": 0,
             "ticks": ""
            },
            "type": "mesh3d"
           }
          ],
          "parcoords": [
           {
            "line": {
             "colorbar": {
              "outlinewidth": 0,
              "ticks": ""
             }
            },
            "type": "parcoords"
           }
          ],
          "pie": [
           {
            "automargin": true,
            "type": "pie"
           }
          ],
          "scatter": [
           {
            "fillpattern": {
             "fillmode": "overlay",
             "size": 10,
             "solidity": 0.2
            },
            "type": "scatter"
           }
          ],
          "scatter3d": [
           {
            "line": {
             "colorbar": {
              "outlinewidth": 0,
              "ticks": ""
             }
            },
            "marker": {
             "colorbar": {
              "outlinewidth": 0,
              "ticks": ""
             }
            },
            "type": "scatter3d"
           }
          ],
          "scattercarpet": [
           {
            "marker": {
             "colorbar": {
              "outlinewidth": 0,
              "ticks": ""
             }
            },
            "type": "scattercarpet"
           }
          ],
          "scattergeo": [
           {
            "marker": {
             "colorbar": {
              "outlinewidth": 0,
              "ticks": ""
             }
            },
            "type": "scattergeo"
           }
          ],
          "scattergl": [
           {
            "marker": {
             "colorbar": {
              "outlinewidth": 0,
              "ticks": ""
             }
            },
            "type": "scattergl"
           }
          ],
          "scattermapbox": [
           {
            "marker": {
             "colorbar": {
              "outlinewidth": 0,
              "ticks": ""
             }
            },
            "type": "scattermapbox"
           }
          ],
          "scatterpolar": [
           {
            "marker": {
             "colorbar": {
              "outlinewidth": 0,
              "ticks": ""
             }
            },
            "type": "scatterpolar"
           }
          ],
          "scatterpolargl": [
           {
            "marker": {
             "colorbar": {
              "outlinewidth": 0,
              "ticks": ""
             }
            },
            "type": "scatterpolargl"
           }
          ],
          "scatterternary": [
           {
            "marker": {
             "colorbar": {
              "outlinewidth": 0,
              "ticks": ""
             }
            },
            "type": "scatterternary"
           }
          ],
          "surface": [
           {
            "colorbar": {
             "outlinewidth": 0,
             "ticks": ""
            },
            "colorscale": [
             [
              0,
              "#0d0887"
             ],
             [
              0.1111111111111111,
              "#46039f"
             ],
             [
              0.2222222222222222,
              "#7201a8"
             ],
             [
              0.3333333333333333,
              "#9c179e"
             ],
             [
              0.4444444444444444,
              "#bd3786"
             ],
             [
              0.5555555555555556,
              "#d8576b"
             ],
             [
              0.6666666666666666,
              "#ed7953"
             ],
             [
              0.7777777777777778,
              "#fb9f3a"
             ],
             [
              0.8888888888888888,
              "#fdca26"
             ],
             [
              1,
              "#f0f921"
             ]
            ],
            "type": "surface"
           }
          ],
          "table": [
           {
            "cells": {
             "fill": {
              "color": "#EBF0F8"
             },
             "line": {
              "color": "white"
             }
            },
            "header": {
             "fill": {
              "color": "#C8D4E3"
             },
             "line": {
              "color": "white"
             }
            },
            "type": "table"
           }
          ]
         },
         "layout": {
          "annotationdefaults": {
           "arrowcolor": "#2a3f5f",
           "arrowhead": 0,
           "arrowwidth": 1
          },
          "autotypenumbers": "strict",
          "coloraxis": {
           "colorbar": {
            "outlinewidth": 0,
            "ticks": ""
           }
          },
          "colorscale": {
           "diverging": [
            [
             0,
             "#8e0152"
            ],
            [
             0.1,
             "#c51b7d"
            ],
            [
             0.2,
             "#de77ae"
            ],
            [
             0.3,
             "#f1b6da"
            ],
            [
             0.4,
             "#fde0ef"
            ],
            [
             0.5,
             "#f7f7f7"
            ],
            [
             0.6,
             "#e6f5d0"
            ],
            [
             0.7,
             "#b8e186"
            ],
            [
             0.8,
             "#7fbc41"
            ],
            [
             0.9,
             "#4d9221"
            ],
            [
             1,
             "#276419"
            ]
           ],
           "sequential": [
            [
             0,
             "#0d0887"
            ],
            [
             0.1111111111111111,
             "#46039f"
            ],
            [
             0.2222222222222222,
             "#7201a8"
            ],
            [
             0.3333333333333333,
             "#9c179e"
            ],
            [
             0.4444444444444444,
             "#bd3786"
            ],
            [
             0.5555555555555556,
             "#d8576b"
            ],
            [
             0.6666666666666666,
             "#ed7953"
            ],
            [
             0.7777777777777778,
             "#fb9f3a"
            ],
            [
             0.8888888888888888,
             "#fdca26"
            ],
            [
             1,
             "#f0f921"
            ]
           ],
           "sequentialminus": [
            [
             0,
             "#0d0887"
            ],
            [
             0.1111111111111111,
             "#46039f"
            ],
            [
             0.2222222222222222,
             "#7201a8"
            ],
            [
             0.3333333333333333,
             "#9c179e"
            ],
            [
             0.4444444444444444,
             "#bd3786"
            ],
            [
             0.5555555555555556,
             "#d8576b"
            ],
            [
             0.6666666666666666,
             "#ed7953"
            ],
            [
             0.7777777777777778,
             "#fb9f3a"
            ],
            [
             0.8888888888888888,
             "#fdca26"
            ],
            [
             1,
             "#f0f921"
            ]
           ]
          },
          "colorway": [
           "#636efa",
           "#EF553B",
           "#00cc96",
           "#ab63fa",
           "#FFA15A",
           "#19d3f3",
           "#FF6692",
           "#B6E880",
           "#FF97FF",
           "#FECB52"
          ],
          "font": {
           "color": "#2a3f5f"
          },
          "geo": {
           "bgcolor": "white",
           "lakecolor": "white",
           "landcolor": "#E5ECF6",
           "showlakes": true,
           "showland": true,
           "subunitcolor": "white"
          },
          "hoverlabel": {
           "align": "left"
          },
          "hovermode": "closest",
          "mapbox": {
           "style": "light"
          },
          "paper_bgcolor": "white",
          "plot_bgcolor": "#E5ECF6",
          "polar": {
           "angularaxis": {
            "gridcolor": "white",
            "linecolor": "white",
            "ticks": ""
           },
           "bgcolor": "#E5ECF6",
           "radialaxis": {
            "gridcolor": "white",
            "linecolor": "white",
            "ticks": ""
           }
          },
          "scene": {
           "xaxis": {
            "backgroundcolor": "#E5ECF6",
            "gridcolor": "white",
            "gridwidth": 2,
            "linecolor": "white",
            "showbackground": true,
            "ticks": "",
            "zerolinecolor": "white"
           },
           "yaxis": {
            "backgroundcolor": "#E5ECF6",
            "gridcolor": "white",
            "gridwidth": 2,
            "linecolor": "white",
            "showbackground": true,
            "ticks": "",
            "zerolinecolor": "white"
           },
           "zaxis": {
            "backgroundcolor": "#E5ECF6",
            "gridcolor": "white",
            "gridwidth": 2,
            "linecolor": "white",
            "showbackground": true,
            "ticks": "",
            "zerolinecolor": "white"
           }
          },
          "shapedefaults": {
           "line": {
            "color": "#2a3f5f"
           }
          },
          "ternary": {
           "aaxis": {
            "gridcolor": "white",
            "linecolor": "white",
            "ticks": ""
           },
           "baxis": {
            "gridcolor": "white",
            "linecolor": "white",
            "ticks": ""
           },
           "bgcolor": "#E5ECF6",
           "caxis": {
            "gridcolor": "white",
            "linecolor": "white",
            "ticks": ""
           }
          },
          "title": {
           "x": 0.05
          },
          "xaxis": {
           "automargin": true,
           "gridcolor": "white",
           "linecolor": "white",
           "ticks": "",
           "title": {
            "standoff": 15
           },
           "zerolinecolor": "white",
           "zerolinewidth": 2
          },
          "yaxis": {
           "automargin": true,
           "gridcolor": "white",
           "linecolor": "white",
           "ticks": "",
           "title": {
            "standoff": 15
           },
           "zerolinecolor": "white",
           "zerolinewidth": 2
          }
         }
        },
        "title": {
         "font": {
          "color": "#4D5663"
         }
        },
        "xaxis": {
         "anchor": "y",
         "domain": [
          0,
          0.2125
         ],
         "gridcolor": "#E1E5ED",
         "showgrid": false,
         "tickfont": {
          "color": "#4D5663"
         },
         "title": {
          "font": {
           "color": "#4D5663"
          },
          "text": ""
         },
         "zerolinecolor": "#E1E5ED"
        },
        "xaxis10": {
         "anchor": "y10",
         "domain": [
          0.2625,
          0.475
         ],
         "gridcolor": "#E1E5ED",
         "showgrid": false,
         "tickfont": {
          "color": "#4D5663"
         },
         "title": {
          "font": {
           "color": "#4D5663"
          },
          "text": ""
         },
         "zerolinecolor": "#E1E5ED"
        },
        "xaxis11": {
         "anchor": "y11",
         "domain": [
          0.525,
          0.7375
         ],
         "gridcolor": "#E1E5ED",
         "showgrid": false,
         "tickfont": {
          "color": "#4D5663"
         },
         "title": {
          "font": {
           "color": "#4D5663"
          },
          "text": ""
         },
         "zerolinecolor": "#E1E5ED"
        },
        "xaxis12": {
         "anchor": "y12",
         "domain": [
          0.7875,
          1
         ],
         "gridcolor": "#E1E5ED",
         "showgrid": false,
         "tickfont": {
          "color": "#4D5663"
         },
         "title": {
          "font": {
           "color": "#4D5663"
          },
          "text": ""
         },
         "zerolinecolor": "#E1E5ED"
        },
        "xaxis13": {
         "anchor": "y13",
         "domain": [
          0,
          0.2125
         ],
         "gridcolor": "#E1E5ED",
         "showgrid": false,
         "tickfont": {
          "color": "#4D5663"
         },
         "title": {
          "font": {
           "color": "#4D5663"
          },
          "text": ""
         },
         "zerolinecolor": "#E1E5ED"
        },
        "xaxis14": {
         "anchor": "y14",
         "domain": [
          0.2625,
          0.475
         ],
         "gridcolor": "#E1E5ED",
         "showgrid": false,
         "tickfont": {
          "color": "#4D5663"
         },
         "title": {
          "font": {
           "color": "#4D5663"
          },
          "text": ""
         },
         "zerolinecolor": "#E1E5ED"
        },
        "xaxis15": {
         "anchor": "y15",
         "domain": [
          0.525,
          0.7375
         ],
         "gridcolor": "#E1E5ED",
         "showgrid": false,
         "tickfont": {
          "color": "#4D5663"
         },
         "title": {
          "font": {
           "color": "#4D5663"
          },
          "text": ""
         },
         "zerolinecolor": "#E1E5ED"
        },
        "xaxis16": {
         "anchor": "y16",
         "domain": [
          0.7875,
          1
         ],
         "gridcolor": "#E1E5ED",
         "showgrid": false,
         "tickfont": {
          "color": "#4D5663"
         },
         "title": {
          "font": {
           "color": "#4D5663"
          },
          "text": ""
         },
         "zerolinecolor": "#E1E5ED"
        },
        "xaxis2": {
         "anchor": "y2",
         "domain": [
          0.2625,
          0.475
         ],
         "gridcolor": "#E1E5ED",
         "showgrid": false,
         "tickfont": {
          "color": "#4D5663"
         },
         "title": {
          "font": {
           "color": "#4D5663"
          },
          "text": ""
         },
         "zerolinecolor": "#E1E5ED"
        },
        "xaxis3": {
         "anchor": "y3",
         "domain": [
          0.525,
          0.7375
         ],
         "gridcolor": "#E1E5ED",
         "showgrid": false,
         "tickfont": {
          "color": "#4D5663"
         },
         "title": {
          "font": {
           "color": "#4D5663"
          },
          "text": ""
         },
         "zerolinecolor": "#E1E5ED"
        },
        "xaxis4": {
         "anchor": "y4",
         "domain": [
          0.7875,
          1
         ],
         "gridcolor": "#E1E5ED",
         "showgrid": false,
         "tickfont": {
          "color": "#4D5663"
         },
         "title": {
          "font": {
           "color": "#4D5663"
          },
          "text": ""
         },
         "zerolinecolor": "#E1E5ED"
        },
        "xaxis5": {
         "anchor": "y5",
         "domain": [
          0,
          0.2125
         ],
         "gridcolor": "#E1E5ED",
         "showgrid": false,
         "tickfont": {
          "color": "#4D5663"
         },
         "title": {
          "font": {
           "color": "#4D5663"
          },
          "text": ""
         },
         "zerolinecolor": "#E1E5ED"
        },
        "xaxis6": {
         "anchor": "y6",
         "domain": [
          0.2625,
          0.475
         ],
         "gridcolor": "#E1E5ED",
         "showgrid": false,
         "tickfont": {
          "color": "#4D5663"
         },
         "title": {
          "font": {
           "color": "#4D5663"
          },
          "text": ""
         },
         "zerolinecolor": "#E1E5ED"
        },
        "xaxis7": {
         "anchor": "y7",
         "domain": [
          0.525,
          0.7375
         ],
         "gridcolor": "#E1E5ED",
         "showgrid": false,
         "tickfont": {
          "color": "#4D5663"
         },
         "title": {
          "font": {
           "color": "#4D5663"
          },
          "text": ""
         },
         "zerolinecolor": "#E1E5ED"
        },
        "xaxis8": {
         "anchor": "y8",
         "domain": [
          0.7875,
          1
         ],
         "gridcolor": "#E1E5ED",
         "showgrid": false,
         "tickfont": {
          "color": "#4D5663"
         },
         "title": {
          "font": {
           "color": "#4D5663"
          },
          "text": ""
         },
         "zerolinecolor": "#E1E5ED"
        },
        "xaxis9": {
         "anchor": "y9",
         "domain": [
          0,
          0.2125
         ],
         "gridcolor": "#E1E5ED",
         "showgrid": false,
         "tickfont": {
          "color": "#4D5663"
         },
         "title": {
          "font": {
           "color": "#4D5663"
          },
          "text": ""
         },
         "zerolinecolor": "#E1E5ED"
        },
        "yaxis": {
         "anchor": "x",
         "domain": [
          0.8025,
          1
         ],
         "gridcolor": "#E1E5ED",
         "showgrid": false,
         "tickfont": {
          "color": "#4D5663"
         },
         "title": {
          "font": {
           "color": "#4D5663"
          },
          "text": ""
         },
         "zerolinecolor": "#E1E5ED"
        },
        "yaxis10": {
         "anchor": "x10",
         "domain": [
          0.2675,
          0.465
         ],
         "gridcolor": "#E1E5ED",
         "showgrid": false,
         "tickfont": {
          "color": "#4D5663"
         },
         "title": {
          "font": {
           "color": "#4D5663"
          },
          "text": ""
         },
         "zerolinecolor": "#E1E5ED"
        },
        "yaxis11": {
         "anchor": "x11",
         "domain": [
          0.2675,
          0.465
         ],
         "gridcolor": "#E1E5ED",
         "showgrid": false,
         "tickfont": {
          "color": "#4D5663"
         },
         "title": {
          "font": {
           "color": "#4D5663"
          },
          "text": ""
         },
         "zerolinecolor": "#E1E5ED"
        },
        "yaxis12": {
         "anchor": "x12",
         "domain": [
          0.2675,
          0.465
         ],
         "gridcolor": "#E1E5ED",
         "showgrid": false,
         "tickfont": {
          "color": "#4D5663"
         },
         "title": {
          "font": {
           "color": "#4D5663"
          },
          "text": ""
         },
         "zerolinecolor": "#E1E5ED"
        },
        "yaxis13": {
         "anchor": "x13",
         "domain": [
          0,
          0.1975
         ],
         "gridcolor": "#E1E5ED",
         "showgrid": false,
         "tickfont": {
          "color": "#4D5663"
         },
         "title": {
          "font": {
           "color": "#4D5663"
          },
          "text": ""
         },
         "zerolinecolor": "#E1E5ED"
        },
        "yaxis14": {
         "anchor": "x14",
         "domain": [
          0,
          0.1975
         ],
         "gridcolor": "#E1E5ED",
         "showgrid": false,
         "tickfont": {
          "color": "#4D5663"
         },
         "title": {
          "font": {
           "color": "#4D5663"
          },
          "text": ""
         },
         "zerolinecolor": "#E1E5ED"
        },
        "yaxis15": {
         "anchor": "x15",
         "domain": [
          0,
          0.1975
         ],
         "gridcolor": "#E1E5ED",
         "showgrid": false,
         "tickfont": {
          "color": "#4D5663"
         },
         "title": {
          "font": {
           "color": "#4D5663"
          },
          "text": ""
         },
         "zerolinecolor": "#E1E5ED"
        },
        "yaxis16": {
         "anchor": "x16",
         "domain": [
          0,
          0.1975
         ],
         "gridcolor": "#E1E5ED",
         "showgrid": false,
         "tickfont": {
          "color": "#4D5663"
         },
         "title": {
          "font": {
           "color": "#4D5663"
          },
          "text": ""
         },
         "zerolinecolor": "#E1E5ED"
        },
        "yaxis2": {
         "anchor": "x2",
         "domain": [
          0.8025,
          1
         ],
         "gridcolor": "#E1E5ED",
         "showgrid": false,
         "tickfont": {
          "color": "#4D5663"
         },
         "title": {
          "font": {
           "color": "#4D5663"
          },
          "text": ""
         },
         "zerolinecolor": "#E1E5ED"
        },
        "yaxis3": {
         "anchor": "x3",
         "domain": [
          0.8025,
          1
         ],
         "gridcolor": "#E1E5ED",
         "showgrid": false,
         "tickfont": {
          "color": "#4D5663"
         },
         "title": {
          "font": {
           "color": "#4D5663"
          },
          "text": ""
         },
         "zerolinecolor": "#E1E5ED"
        },
        "yaxis4": {
         "anchor": "x4",
         "domain": [
          0.8025,
          1
         ],
         "gridcolor": "#E1E5ED",
         "showgrid": false,
         "tickfont": {
          "color": "#4D5663"
         },
         "title": {
          "font": {
           "color": "#4D5663"
          },
          "text": ""
         },
         "zerolinecolor": "#E1E5ED"
        },
        "yaxis5": {
         "anchor": "x5",
         "domain": [
          0.535,
          0.7325
         ],
         "gridcolor": "#E1E5ED",
         "showgrid": false,
         "tickfont": {
          "color": "#4D5663"
         },
         "title": {
          "font": {
           "color": "#4D5663"
          },
          "text": ""
         },
         "zerolinecolor": "#E1E5ED"
        },
        "yaxis6": {
         "anchor": "x6",
         "domain": [
          0.535,
          0.7325
         ],
         "gridcolor": "#E1E5ED",
         "showgrid": false,
         "tickfont": {
          "color": "#4D5663"
         },
         "title": {
          "font": {
           "color": "#4D5663"
          },
          "text": ""
         },
         "zerolinecolor": "#E1E5ED"
        },
        "yaxis7": {
         "anchor": "x7",
         "domain": [
          0.535,
          0.7325
         ],
         "gridcolor": "#E1E5ED",
         "showgrid": false,
         "tickfont": {
          "color": "#4D5663"
         },
         "title": {
          "font": {
           "color": "#4D5663"
          },
          "text": ""
         },
         "zerolinecolor": "#E1E5ED"
        },
        "yaxis8": {
         "anchor": "x8",
         "domain": [
          0.535,
          0.7325
         ],
         "gridcolor": "#E1E5ED",
         "showgrid": false,
         "tickfont": {
          "color": "#4D5663"
         },
         "title": {
          "font": {
           "color": "#4D5663"
          },
          "text": ""
         },
         "zerolinecolor": "#E1E5ED"
        },
        "yaxis9": {
         "anchor": "x9",
         "domain": [
          0.2675,
          0.465
         ],
         "gridcolor": "#E1E5ED",
         "showgrid": false,
         "tickfont": {
          "color": "#4D5663"
         },
         "title": {
          "font": {
           "color": "#4D5663"
          },
          "text": ""
         },
         "zerolinecolor": "#E1E5ED"
        }
       }
      },
      "text/html": [
       "<div>                            <div id=\"54956021-3b6f-4f08-945f-7805a3cc57c3\" class=\"plotly-graph-div\" style=\"height:525px; width:100%;\"></div>            <script type=\"text/javascript\">                require([\"plotly\"], function(Plotly) {                    window.PLOTLYENV=window.PLOTLYENV || {};\n",
       "                    window.PLOTLYENV.BASE_URL='https://plot.ly';                                    if (document.getElementById(\"54956021-3b6f-4f08-945f-7805a3cc57c3\")) {                    Plotly.newPlot(                        \"54956021-3b6f-4f08-945f-7805a3cc57c3\",                        [{\"histfunc\":\"count\",\"histnorm\":\"\",\"marker\":{\"color\":\"rgba(255, 153, 51, 1.0)\",\"line\":{\"color\":\"#4D5663\",\"width\":1.3}},\"name\":\"A\",\"nbinsx\":10,\"opacity\":0.8,\"orientation\":\"v\",\"x\":[0.4046885802662556,1.1634609392181832,0.23831008927938055,-0.45313528311521356,0.6379419156491609,-1.4438142211840077,1.8009472366221853,-0.7019073870945766,-0.8114125274235565,-0.19453020546169025,-0.7293890011435047,0.6063177785699431,1.0260493772417252,-0.9745601272849126,0.12845004434385796,-0.7341950315109401,-0.9369463818518106,-1.1556645432178285,0.5517415501440451,1.470943400591443,0.11098759972307877,-0.872040405036734,-0.725573494045479,0.8762144102495203,-0.7256656974838994,0.3804463638734659,0.2530982777719823,-0.4352234077201285,-1.365033459939283,0.5518013661404798,-1.619294142218477,-0.15950966538974887,-1.0364676267292028,-0.7822275358569596,-0.596292607538201,1.462245547155082,-0.042939762307161664,-1.201448817457161,-0.7868093739855325,-1.350711335531761,1.5003530252108532,0.5836491221240611,-0.49000745223916403,-0.224690766978519,0.9357732755516264,1.6148852537842429,-0.5293467512155942,-0.03504591766188298,-0.5427162155618057,0.10466060428419802,-2.0619027260621454,1.5595819261835777,-1.2746582360580982,0.659713111290282,0.5209346905381115,-1.7331676875805266,0.03367417605899992,0.5460604281705843,-1.5229265854603575,-1.493244595701655,0.3442258291328287,-0.5890189634984968,-1.7400819468251014,0.4571841912093843,-0.8163286138659932,1.2234095046336957,-1.9175262230633567,-0.15235500484728523,-0.698914922498096,-0.586607717471715,-0.7782598990314717,-0.3192471540884277,1.35728673860839,-0.09084304778350655,1.5978710071133138,0.5543089832036076,-1.2756408674786088,-0.5622618397965323,-0.7738852311628306,1.74867279085942,-0.45789212961166326,-1.048740322865479,2.2815737330960917,-2.1568479545387556,0.24697011679665867,-0.899739675819223,0.021203123180370407,0.6687085372297036,0.47964616017111034,0.31588041201361655,0.5555818984785732,-1.4629086445238069,0.16314192016126078,0.920584193980645,1.7813749673543573,0.9671144937881719,0.6490999417134848,-0.9330982876728201,1.8844394384921241,-0.5615173612921415],\"xaxis\":\"x\",\"yaxis\":\"y\",\"type\":\"histogram\"},{\"line\":{\"color\":\"rgba(128, 128, 128, 1.0)\",\"dash\":\"solid\",\"shape\":\"linear\",\"width\":1.3},\"marker\":{\"size\":2,\"symbol\":\"circle\"},\"mode\":\"markers\",\"name\":\"A\",\"text\":\"\",\"x\":[-0.036356967863489895,0.6423978464479991,0.06196203067280018,-0.5954524694442337,-1.5492130648730433,0.9311582520537345,0.668820275662023,-1.7468085590922156,-0.1696769342720388,-0.16394718749777826,0.9751552245798681,-1.116024324722163,-0.07156742000424661,-0.14331542135327674,0.9701102019525644,1.1032867331856737,-1.3573861940736234,1.401711275479528,0.3492238065607233,1.1495498995481301,-0.25578600485966096,-0.322862665425817,-0.6344716356855562,0.6630306819263807,0.5383410993755943,-1.3039213197094524,0.14185396625413685,0.42771001158341787,0.7518401055320181,1.539785467378347,-0.537891810015294,-1.3178235865616854,0.1249254623762938,-2.1592279543521853,-0.08278135031086314,-0.6181565700562351,-0.11673623829000321,-0.13769998347284979,1.079604089840864,0.5672219678230143,-0.08637198946114594,-1.1331304631062196,1.2290718062342558,-0.7616001988702629,-0.1026849109720081,-0.0010621314607047187,0.17853018027367948,-0.8369727453835258,0.5641170382120637,-0.2809140775862545,-0.161649970436904,0.9867336734143902,0.9626034283246061,1.6615712411403147,-1.845096222709994,0.322978603804716,0.5015961251814729,-0.20196396940320452,1.5381237398756653,-1.569086207055157,1.4564700565976911,-0.04912766685608523,-0.69211787687324,0.9659138585689333,0.07107648041341595,1.1711131962254953,1.8201511950554998,-1.3676254840529378,1.1995116297125372,0.10992919238102469,0.3374614915014219,0.901256752395691,0.942744548829377,-0.1779698098371036,-0.6711557827944291,0.4877171261065864,0.3865014857062134,-0.5575141658063655,0.03930754883116221,-0.40015756971593525,1.4028018295464215,-0.3733233526762418,1.3026064618230895,0.07858820380263296,-0.5980967986591397,0.6363700701730874,0.3542755147951408,-0.6681973227150312,-0.17867581943479036,1.9604410397063305,1.628367333941146,0.39812181707511507,-0.3886088203518295,0.07951355276205435,1.2256210551788733,0.9633559855214752,0.20691469233021173,1.3791363349919523,-0.5151369461288825,0.5599252179345603],\"xaxis\":\"x2\",\"y\":[0.4046885802662556,1.1634609392181832,0.23831008927938055,-0.45313528311521356,0.6379419156491609,-1.4438142211840077,1.8009472366221853,-0.7019073870945766,-0.8114125274235565,-0.19453020546169025,-0.7293890011435047,0.6063177785699431,1.0260493772417252,-0.9745601272849126,0.12845004434385796,-0.7341950315109401,-0.9369463818518106,-1.1556645432178285,0.5517415501440451,1.470943400591443,0.11098759972307877,-0.872040405036734,-0.725573494045479,0.8762144102495203,-0.7256656974838994,0.3804463638734659,0.2530982777719823,-0.4352234077201285,-1.365033459939283,0.5518013661404798,-1.619294142218477,-0.15950966538974887,-1.0364676267292028,-0.7822275358569596,-0.596292607538201,1.462245547155082,-0.042939762307161664,-1.201448817457161,-0.7868093739855325,-1.350711335531761,1.5003530252108532,0.5836491221240611,-0.49000745223916403,-0.224690766978519,0.9357732755516264,1.6148852537842429,-0.5293467512155942,-0.03504591766188298,-0.5427162155618057,0.10466060428419802,-2.0619027260621454,1.5595819261835777,-1.2746582360580982,0.659713111290282,0.5209346905381115,-1.7331676875805266,0.03367417605899992,0.5460604281705843,-1.5229265854603575,-1.493244595701655,0.3442258291328287,-0.5890189634984968,-1.7400819468251014,0.4571841912093843,-0.8163286138659932,1.2234095046336957,-1.9175262230633567,-0.15235500484728523,-0.698914922498096,-0.586607717471715,-0.7782598990314717,-0.3192471540884277,1.35728673860839,-0.09084304778350655,1.5978710071133138,0.5543089832036076,-1.2756408674786088,-0.5622618397965323,-0.7738852311628306,1.74867279085942,-0.45789212961166326,-1.048740322865479,2.2815737330960917,-2.1568479545387556,0.24697011679665867,-0.899739675819223,0.021203123180370407,0.6687085372297036,0.47964616017111034,0.31588041201361655,0.5555818984785732,-1.4629086445238069,0.16314192016126078,0.920584193980645,1.7813749673543573,0.9671144937881719,0.6490999417134848,-0.9330982876728201,1.8844394384921241,-0.5615173612921415],\"yaxis\":\"y2\",\"type\":\"scatter\"},{\"line\":{\"color\":\"rgba(128, 128, 128, 1.0)\",\"dash\":\"solid\",\"shape\":\"linear\",\"width\":1.3},\"marker\":{\"size\":2,\"symbol\":\"circle\"},\"mode\":\"markers\",\"name\":\"A\",\"text\":\"\",\"x\":[0.5333894106068127,1.071325229171342,-1.470800589136725,-0.2862220905778843,1.4073662137816083,0.5061183817439069,0.548607579205655,0.18351728006894288,0.16519771603600164,-0.3379868955724642,-0.7193781227538893,-0.8028083789324517,2.5621540661496436,0.6297905398570731,1.3221623658435007,-0.907877045688626,-0.25187487464876357,0.6213152162284802,0.14964733672853697,1.4032636161455256,0.41291565944770825,-0.20068503950731623,0.42218693076308744,0.9877398270261727,-0.47905481553674256,0.19634134813147971,1.2378857439315198,-0.888634564676272,0.5983403200192242,0.37065528264334985,-0.5136464140676389,0.6215545322933033,-1.1882741046614425,-1.1241984567183492,0.046135081931201916,0.3059584972861639,1.982660713709128,1.1335098628566807,0.7631761072699269,-1.0650132249362372,-0.7934812437165999,-0.8640406655280599,-0.9032769074349047,-0.5817143932778477,0.21908099888966504,0.41265322755297795,-0.30821690540998775,-0.16902228541454117,1.386327989125356,-0.6848593790205239,-0.6466786083486713,0.13036212643731973,0.023575212329333652,-1.1045532650066474,-0.4969850904404985,-0.3749437649258846,-0.43644911753027127,-1.2378405065422293,-1.329383898709104,0.2802944518040834,-0.721967980469442,-0.6793832443305716,-1.454048902884165,-1.974592283675091,1.0090214538722935,-0.24879662064032473,-0.20103075678515658,-0.5588833512132657,-1.2745981288297656,-1.453661568283202,-0.3000582656133242,0.03346080177174961,2.352289971839987,0.45707272541422517,0.5969449392986741,0.4136814330801256,1.8212671411947137,-1.1484504252971244,0.8230255619469891,1.1903574476614167,0.2832340681934699,0.0007254283793950763,0.5095093569975643,-0.25222939691524066,-0.9057112235191137,-0.10429944518265208,-0.22114768407300664,0.6023627045504915,-1.2882727632706534,-0.2568560442356472,0.4075638892272466,-0.02375947281671281,-0.8168776298654831,-0.6453714793192032,0.5580269054848119,-0.37986094430907774,0.28221752250205845,-0.6196159821458809,-0.7749229539008272,-1.0735450429145297],\"xaxis\":\"x3\",\"y\":[0.4046885802662556,1.1634609392181832,0.23831008927938055,-0.45313528311521356,0.6379419156491609,-1.4438142211840077,1.8009472366221853,-0.7019073870945766,-0.8114125274235565,-0.19453020546169025,-0.7293890011435047,0.6063177785699431,1.0260493772417252,-0.9745601272849126,0.12845004434385796,-0.7341950315109401,-0.9369463818518106,-1.1556645432178285,0.5517415501440451,1.470943400591443,0.11098759972307877,-0.872040405036734,-0.725573494045479,0.8762144102495203,-0.7256656974838994,0.3804463638734659,0.2530982777719823,-0.4352234077201285,-1.365033459939283,0.5518013661404798,-1.619294142218477,-0.15950966538974887,-1.0364676267292028,-0.7822275358569596,-0.596292607538201,1.462245547155082,-0.042939762307161664,-1.201448817457161,-0.7868093739855325,-1.350711335531761,1.5003530252108532,0.5836491221240611,-0.49000745223916403,-0.224690766978519,0.9357732755516264,1.6148852537842429,-0.5293467512155942,-0.03504591766188298,-0.5427162155618057,0.10466060428419802,-2.0619027260621454,1.5595819261835777,-1.2746582360580982,0.659713111290282,0.5209346905381115,-1.7331676875805266,0.03367417605899992,0.5460604281705843,-1.5229265854603575,-1.493244595701655,0.3442258291328287,-0.5890189634984968,-1.7400819468251014,0.4571841912093843,-0.8163286138659932,1.2234095046336957,-1.9175262230633567,-0.15235500484728523,-0.698914922498096,-0.586607717471715,-0.7782598990314717,-0.3192471540884277,1.35728673860839,-0.09084304778350655,1.5978710071133138,0.5543089832036076,-1.2756408674786088,-0.5622618397965323,-0.7738852311628306,1.74867279085942,-0.45789212961166326,-1.048740322865479,2.2815737330960917,-2.1568479545387556,0.24697011679665867,-0.899739675819223,0.021203123180370407,0.6687085372297036,0.47964616017111034,0.31588041201361655,0.5555818984785732,-1.4629086445238069,0.16314192016126078,0.920584193980645,1.7813749673543573,0.9671144937881719,0.6490999417134848,-0.9330982876728201,1.8844394384921241,-0.5615173612921415],\"yaxis\":\"y3\",\"type\":\"scatter\"},{\"line\":{\"color\":\"rgba(128, 128, 128, 1.0)\",\"dash\":\"solid\",\"shape\":\"linear\",\"width\":1.3},\"marker\":{\"size\":2,\"symbol\":\"circle\"},\"mode\":\"markers\",\"name\":\"A\",\"text\":\"\",\"x\":[-0.2825855431900491,1.0633573067486268,-2.1001692351063626,1.0446367095592421,0.5953430876382271,-0.2846919621319009,-0.28373562720918266,1.4395582244747056,-0.11937281065970146,0.5200018724597353,0.4961085627014545,0.3670638417017377,-0.5427364186337024,-0.01355745100234656,-1.5841177773188502,-0.3982164343485549,0.3967242430361578,-0.7325445073538194,0.6090256738889145,1.4016476694071414,1.5363295483820543,0.3595770376866891,0.8365984993865755,0.37450436239124474,-0.47142248286065813,-0.2864934693803874,-1.3209858573890385,0.946365846884867,0.880451145627504,1.8598250512370083,-0.8248545670496139,0.4970792013989982,-0.11956098339954181,0.3486511376338494,-0.10899894977861045,-0.5113159880609262,-1.2338305680788635,0.7096969153160174,-0.8324611642094429,0.8488390676321835,-0.6285222129992037,0.6641907699781142,0.1343227588279596,-0.5633909316429447,-0.06936327430316822,1.0757439090555194,-0.9879655916118916,-0.2217330017946681,0.0014859262711134778,-0.39148841064950907,0.3338323314224215,-1.4408710973374794,1.3125608421605095,1.75037240909572,-0.9805307979366945,-0.8728110853325531,0.5581801807343525,-0.6863981771284091,1.0558126713712725,1.0758175147999909,0.4528375019274385,1.2240977251112526,-0.9510460066059595,-0.9627119790191537,0.7647797576345738,-0.7414842948486164,-0.8181307041959239,0.9853819359946228,-0.69835410525475,1.1369684032907827,1.0400481714777836,-0.3249947365171732,-1.0463195957144569,0.2887891883560056,0.03454937373532679,-1.9673655069855913,0.8331638666971242,-0.22743412615690475,0.5757727546899231,-0.37188253833382523,1.7139249122824152,0.8112324903396599,-0.605521065103998,1.277592715293173,0.6733907637732424,-0.41058471253747514,2.054629172161993,-1.6811086140472022,0.6574084450518696,-1.5953199469781836,-0.2229726467327843,1.0678056997544685,-0.7154713198200674,0.45898615370078294,-1.4369031061061972,0.5370523305489656,0.06493287092040016,-1.3828767677212086,-1.0713130882516548,-0.3335073676303444],\"xaxis\":\"x4\",\"y\":[0.4046885802662556,1.1634609392181832,0.23831008927938055,-0.45313528311521356,0.6379419156491609,-1.4438142211840077,1.8009472366221853,-0.7019073870945766,-0.8114125274235565,-0.19453020546169025,-0.7293890011435047,0.6063177785699431,1.0260493772417252,-0.9745601272849126,0.12845004434385796,-0.7341950315109401,-0.9369463818518106,-1.1556645432178285,0.5517415501440451,1.470943400591443,0.11098759972307877,-0.872040405036734,-0.725573494045479,0.8762144102495203,-0.7256656974838994,0.3804463638734659,0.2530982777719823,-0.4352234077201285,-1.365033459939283,0.5518013661404798,-1.619294142218477,-0.15950966538974887,-1.0364676267292028,-0.7822275358569596,-0.596292607538201,1.462245547155082,-0.042939762307161664,-1.201448817457161,-0.7868093739855325,-1.350711335531761,1.5003530252108532,0.5836491221240611,-0.49000745223916403,-0.224690766978519,0.9357732755516264,1.6148852537842429,-0.5293467512155942,-0.03504591766188298,-0.5427162155618057,0.10466060428419802,-2.0619027260621454,1.5595819261835777,-1.2746582360580982,0.659713111290282,0.5209346905381115,-1.7331676875805266,0.03367417605899992,0.5460604281705843,-1.5229265854603575,-1.493244595701655,0.3442258291328287,-0.5890189634984968,-1.7400819468251014,0.4571841912093843,-0.8163286138659932,1.2234095046336957,-1.9175262230633567,-0.15235500484728523,-0.698914922498096,-0.586607717471715,-0.7782598990314717,-0.3192471540884277,1.35728673860839,-0.09084304778350655,1.5978710071133138,0.5543089832036076,-1.2756408674786088,-0.5622618397965323,-0.7738852311628306,1.74867279085942,-0.45789212961166326,-1.048740322865479,2.2815737330960917,-2.1568479545387556,0.24697011679665867,-0.899739675819223,0.021203123180370407,0.6687085372297036,0.47964616017111034,0.31588041201361655,0.5555818984785732,-1.4629086445238069,0.16314192016126078,0.920584193980645,1.7813749673543573,0.9671144937881719,0.6490999417134848,-0.9330982876728201,1.8844394384921241,-0.5615173612921415],\"yaxis\":\"y4\",\"type\":\"scatter\"},{\"line\":{\"color\":\"rgba(128, 128, 128, 1.0)\",\"dash\":\"solid\",\"shape\":\"linear\",\"width\":1.3},\"marker\":{\"size\":2,\"symbol\":\"circle\"},\"mode\":\"markers\",\"name\":\"B\",\"text\":\"\",\"x\":[0.4046885802662556,1.1634609392181832,0.23831008927938055,-0.45313528311521356,0.6379419156491609,-1.4438142211840077,1.8009472366221853,-0.7019073870945766,-0.8114125274235565,-0.19453020546169025,-0.7293890011435047,0.6063177785699431,1.0260493772417252,-0.9745601272849126,0.12845004434385796,-0.7341950315109401,-0.9369463818518106,-1.1556645432178285,0.5517415501440451,1.470943400591443,0.11098759972307877,-0.872040405036734,-0.725573494045479,0.8762144102495203,-0.7256656974838994,0.3804463638734659,0.2530982777719823,-0.4352234077201285,-1.365033459939283,0.5518013661404798,-1.619294142218477,-0.15950966538974887,-1.0364676267292028,-0.7822275358569596,-0.596292607538201,1.462245547155082,-0.042939762307161664,-1.201448817457161,-0.7868093739855325,-1.350711335531761,1.5003530252108532,0.5836491221240611,-0.49000745223916403,-0.224690766978519,0.9357732755516264,1.6148852537842429,-0.5293467512155942,-0.03504591766188298,-0.5427162155618057,0.10466060428419802,-2.0619027260621454,1.5595819261835777,-1.2746582360580982,0.659713111290282,0.5209346905381115,-1.7331676875805266,0.03367417605899992,0.5460604281705843,-1.5229265854603575,-1.493244595701655,0.3442258291328287,-0.5890189634984968,-1.7400819468251014,0.4571841912093843,-0.8163286138659932,1.2234095046336957,-1.9175262230633567,-0.15235500484728523,-0.698914922498096,-0.586607717471715,-0.7782598990314717,-0.3192471540884277,1.35728673860839,-0.09084304778350655,1.5978710071133138,0.5543089832036076,-1.2756408674786088,-0.5622618397965323,-0.7738852311628306,1.74867279085942,-0.45789212961166326,-1.048740322865479,2.2815737330960917,-2.1568479545387556,0.24697011679665867,-0.899739675819223,0.021203123180370407,0.6687085372297036,0.47964616017111034,0.31588041201361655,0.5555818984785732,-1.4629086445238069,0.16314192016126078,0.920584193980645,1.7813749673543573,0.9671144937881719,0.6490999417134848,-0.9330982876728201,1.8844394384921241,-0.5615173612921415],\"xaxis\":\"x5\",\"y\":[-0.036356967863489895,0.6423978464479991,0.06196203067280018,-0.5954524694442337,-1.5492130648730433,0.9311582520537345,0.668820275662023,-1.7468085590922156,-0.1696769342720388,-0.16394718749777826,0.9751552245798681,-1.116024324722163,-0.07156742000424661,-0.14331542135327674,0.9701102019525644,1.1032867331856737,-1.3573861940736234,1.401711275479528,0.3492238065607233,1.1495498995481301,-0.25578600485966096,-0.322862665425817,-0.6344716356855562,0.6630306819263807,0.5383410993755943,-1.3039213197094524,0.14185396625413685,0.42771001158341787,0.7518401055320181,1.539785467378347,-0.537891810015294,-1.3178235865616854,0.1249254623762938,-2.1592279543521853,-0.08278135031086314,-0.6181565700562351,-0.11673623829000321,-0.13769998347284979,1.079604089840864,0.5672219678230143,-0.08637198946114594,-1.1331304631062196,1.2290718062342558,-0.7616001988702629,-0.1026849109720081,-0.0010621314607047187,0.17853018027367948,-0.8369727453835258,0.5641170382120637,-0.2809140775862545,-0.161649970436904,0.9867336734143902,0.9626034283246061,1.6615712411403147,-1.845096222709994,0.322978603804716,0.5015961251814729,-0.20196396940320452,1.5381237398756653,-1.569086207055157,1.4564700565976911,-0.04912766685608523,-0.69211787687324,0.9659138585689333,0.07107648041341595,1.1711131962254953,1.8201511950554998,-1.3676254840529378,1.1995116297125372,0.10992919238102469,0.3374614915014219,0.901256752395691,0.942744548829377,-0.1779698098371036,-0.6711557827944291,0.4877171261065864,0.3865014857062134,-0.5575141658063655,0.03930754883116221,-0.40015756971593525,1.4028018295464215,-0.3733233526762418,1.3026064618230895,0.07858820380263296,-0.5980967986591397,0.6363700701730874,0.3542755147951408,-0.6681973227150312,-0.17867581943479036,1.9604410397063305,1.628367333941146,0.39812181707511507,-0.3886088203518295,0.07951355276205435,1.2256210551788733,0.9633559855214752,0.20691469233021173,1.3791363349919523,-0.5151369461288825,0.5599252179345603],\"yaxis\":\"y5\",\"type\":\"scatter\"},{\"histfunc\":\"count\",\"histnorm\":\"\",\"marker\":{\"color\":\"rgba(55, 128, 191, 1.0)\",\"line\":{\"color\":\"#4D5663\",\"width\":1.3}},\"name\":\"B\",\"nbinsx\":10,\"opacity\":0.8,\"orientation\":\"v\",\"x\":[-0.036356967863489895,0.6423978464479991,0.06196203067280018,-0.5954524694442337,-1.5492130648730433,0.9311582520537345,0.668820275662023,-1.7468085590922156,-0.1696769342720388,-0.16394718749777826,0.9751552245798681,-1.116024324722163,-0.07156742000424661,-0.14331542135327674,0.9701102019525644,1.1032867331856737,-1.3573861940736234,1.401711275479528,0.3492238065607233,1.1495498995481301,-0.25578600485966096,-0.322862665425817,-0.6344716356855562,0.6630306819263807,0.5383410993755943,-1.3039213197094524,0.14185396625413685,0.42771001158341787,0.7518401055320181,1.539785467378347,-0.537891810015294,-1.3178235865616854,0.1249254623762938,-2.1592279543521853,-0.08278135031086314,-0.6181565700562351,-0.11673623829000321,-0.13769998347284979,1.079604089840864,0.5672219678230143,-0.08637198946114594,-1.1331304631062196,1.2290718062342558,-0.7616001988702629,-0.1026849109720081,-0.0010621314607047187,0.17853018027367948,-0.8369727453835258,0.5641170382120637,-0.2809140775862545,-0.161649970436904,0.9867336734143902,0.9626034283246061,1.6615712411403147,-1.845096222709994,0.322978603804716,0.5015961251814729,-0.20196396940320452,1.5381237398756653,-1.569086207055157,1.4564700565976911,-0.04912766685608523,-0.69211787687324,0.9659138585689333,0.07107648041341595,1.1711131962254953,1.8201511950554998,-1.3676254840529378,1.1995116297125372,0.10992919238102469,0.3374614915014219,0.901256752395691,0.942744548829377,-0.1779698098371036,-0.6711557827944291,0.4877171261065864,0.3865014857062134,-0.5575141658063655,0.03930754883116221,-0.40015756971593525,1.4028018295464215,-0.3733233526762418,1.3026064618230895,0.07858820380263296,-0.5980967986591397,0.6363700701730874,0.3542755147951408,-0.6681973227150312,-0.17867581943479036,1.9604410397063305,1.628367333941146,0.39812181707511507,-0.3886088203518295,0.07951355276205435,1.2256210551788733,0.9633559855214752,0.20691469233021173,1.3791363349919523,-0.5151369461288825,0.5599252179345603],\"xaxis\":\"x6\",\"yaxis\":\"y6\",\"type\":\"histogram\"},{\"line\":{\"color\":\"rgba(128, 128, 128, 1.0)\",\"dash\":\"solid\",\"shape\":\"linear\",\"width\":1.3},\"marker\":{\"size\":2,\"symbol\":\"circle\"},\"mode\":\"markers\",\"name\":\"B\",\"text\":\"\",\"x\":[0.5333894106068127,1.071325229171342,-1.470800589136725,-0.2862220905778843,1.4073662137816083,0.5061183817439069,0.548607579205655,0.18351728006894288,0.16519771603600164,-0.3379868955724642,-0.7193781227538893,-0.8028083789324517,2.5621540661496436,0.6297905398570731,1.3221623658435007,-0.907877045688626,-0.25187487464876357,0.6213152162284802,0.14964733672853697,1.4032636161455256,0.41291565944770825,-0.20068503950731623,0.42218693076308744,0.9877398270261727,-0.47905481553674256,0.19634134813147971,1.2378857439315198,-0.888634564676272,0.5983403200192242,0.37065528264334985,-0.5136464140676389,0.6215545322933033,-1.1882741046614425,-1.1241984567183492,0.046135081931201916,0.3059584972861639,1.982660713709128,1.1335098628566807,0.7631761072699269,-1.0650132249362372,-0.7934812437165999,-0.8640406655280599,-0.9032769074349047,-0.5817143932778477,0.21908099888966504,0.41265322755297795,-0.30821690540998775,-0.16902228541454117,1.386327989125356,-0.6848593790205239,-0.6466786083486713,0.13036212643731973,0.023575212329333652,-1.1045532650066474,-0.4969850904404985,-0.3749437649258846,-0.43644911753027127,-1.2378405065422293,-1.329383898709104,0.2802944518040834,-0.721967980469442,-0.6793832443305716,-1.454048902884165,-1.974592283675091,1.0090214538722935,-0.24879662064032473,-0.20103075678515658,-0.5588833512132657,-1.2745981288297656,-1.453661568283202,-0.3000582656133242,0.03346080177174961,2.352289971839987,0.45707272541422517,0.5969449392986741,0.4136814330801256,1.8212671411947137,-1.1484504252971244,0.8230255619469891,1.1903574476614167,0.2832340681934699,0.0007254283793950763,0.5095093569975643,-0.25222939691524066,-0.9057112235191137,-0.10429944518265208,-0.22114768407300664,0.6023627045504915,-1.2882727632706534,-0.2568560442356472,0.4075638892272466,-0.02375947281671281,-0.8168776298654831,-0.6453714793192032,0.5580269054848119,-0.37986094430907774,0.28221752250205845,-0.6196159821458809,-0.7749229539008272,-1.0735450429145297],\"xaxis\":\"x7\",\"y\":[-0.036356967863489895,0.6423978464479991,0.06196203067280018,-0.5954524694442337,-1.5492130648730433,0.9311582520537345,0.668820275662023,-1.7468085590922156,-0.1696769342720388,-0.16394718749777826,0.9751552245798681,-1.116024324722163,-0.07156742000424661,-0.14331542135327674,0.9701102019525644,1.1032867331856737,-1.3573861940736234,1.401711275479528,0.3492238065607233,1.1495498995481301,-0.25578600485966096,-0.322862665425817,-0.6344716356855562,0.6630306819263807,0.5383410993755943,-1.3039213197094524,0.14185396625413685,0.42771001158341787,0.7518401055320181,1.539785467378347,-0.537891810015294,-1.3178235865616854,0.1249254623762938,-2.1592279543521853,-0.08278135031086314,-0.6181565700562351,-0.11673623829000321,-0.13769998347284979,1.079604089840864,0.5672219678230143,-0.08637198946114594,-1.1331304631062196,1.2290718062342558,-0.7616001988702629,-0.1026849109720081,-0.0010621314607047187,0.17853018027367948,-0.8369727453835258,0.5641170382120637,-0.2809140775862545,-0.161649970436904,0.9867336734143902,0.9626034283246061,1.6615712411403147,-1.845096222709994,0.322978603804716,0.5015961251814729,-0.20196396940320452,1.5381237398756653,-1.569086207055157,1.4564700565976911,-0.04912766685608523,-0.69211787687324,0.9659138585689333,0.07107648041341595,1.1711131962254953,1.8201511950554998,-1.3676254840529378,1.1995116297125372,0.10992919238102469,0.3374614915014219,0.901256752395691,0.942744548829377,-0.1779698098371036,-0.6711557827944291,0.4877171261065864,0.3865014857062134,-0.5575141658063655,0.03930754883116221,-0.40015756971593525,1.4028018295464215,-0.3733233526762418,1.3026064618230895,0.07858820380263296,-0.5980967986591397,0.6363700701730874,0.3542755147951408,-0.6681973227150312,-0.17867581943479036,1.9604410397063305,1.628367333941146,0.39812181707511507,-0.3886088203518295,0.07951355276205435,1.2256210551788733,0.9633559855214752,0.20691469233021173,1.3791363349919523,-0.5151369461288825,0.5599252179345603],\"yaxis\":\"y7\",\"type\":\"scatter\"},{\"line\":{\"color\":\"rgba(128, 128, 128, 1.0)\",\"dash\":\"solid\",\"shape\":\"linear\",\"width\":1.3},\"marker\":{\"size\":2,\"symbol\":\"circle\"},\"mode\":\"markers\",\"name\":\"B\",\"text\":\"\",\"x\":[-0.2825855431900491,1.0633573067486268,-2.1001692351063626,1.0446367095592421,0.5953430876382271,-0.2846919621319009,-0.28373562720918266,1.4395582244747056,-0.11937281065970146,0.5200018724597353,0.4961085627014545,0.3670638417017377,-0.5427364186337024,-0.01355745100234656,-1.5841177773188502,-0.3982164343485549,0.3967242430361578,-0.7325445073538194,0.6090256738889145,1.4016476694071414,1.5363295483820543,0.3595770376866891,0.8365984993865755,0.37450436239124474,-0.47142248286065813,-0.2864934693803874,-1.3209858573890385,0.946365846884867,0.880451145627504,1.8598250512370083,-0.8248545670496139,0.4970792013989982,-0.11956098339954181,0.3486511376338494,-0.10899894977861045,-0.5113159880609262,-1.2338305680788635,0.7096969153160174,-0.8324611642094429,0.8488390676321835,-0.6285222129992037,0.6641907699781142,0.1343227588279596,-0.5633909316429447,-0.06936327430316822,1.0757439090555194,-0.9879655916118916,-0.2217330017946681,0.0014859262711134778,-0.39148841064950907,0.3338323314224215,-1.4408710973374794,1.3125608421605095,1.75037240909572,-0.9805307979366945,-0.8728110853325531,0.5581801807343525,-0.6863981771284091,1.0558126713712725,1.0758175147999909,0.4528375019274385,1.2240977251112526,-0.9510460066059595,-0.9627119790191537,0.7647797576345738,-0.7414842948486164,-0.8181307041959239,0.9853819359946228,-0.69835410525475,1.1369684032907827,1.0400481714777836,-0.3249947365171732,-1.0463195957144569,0.2887891883560056,0.03454937373532679,-1.9673655069855913,0.8331638666971242,-0.22743412615690475,0.5757727546899231,-0.37188253833382523,1.7139249122824152,0.8112324903396599,-0.605521065103998,1.277592715293173,0.6733907637732424,-0.41058471253747514,2.054629172161993,-1.6811086140472022,0.6574084450518696,-1.5953199469781836,-0.2229726467327843,1.0678056997544685,-0.7154713198200674,0.45898615370078294,-1.4369031061061972,0.5370523305489656,0.06493287092040016,-1.3828767677212086,-1.0713130882516548,-0.3335073676303444],\"xaxis\":\"x8\",\"y\":[-0.036356967863489895,0.6423978464479991,0.06196203067280018,-0.5954524694442337,-1.5492130648730433,0.9311582520537345,0.668820275662023,-1.7468085590922156,-0.1696769342720388,-0.16394718749777826,0.9751552245798681,-1.116024324722163,-0.07156742000424661,-0.14331542135327674,0.9701102019525644,1.1032867331856737,-1.3573861940736234,1.401711275479528,0.3492238065607233,1.1495498995481301,-0.25578600485966096,-0.322862665425817,-0.6344716356855562,0.6630306819263807,0.5383410993755943,-1.3039213197094524,0.14185396625413685,0.42771001158341787,0.7518401055320181,1.539785467378347,-0.537891810015294,-1.3178235865616854,0.1249254623762938,-2.1592279543521853,-0.08278135031086314,-0.6181565700562351,-0.11673623829000321,-0.13769998347284979,1.079604089840864,0.5672219678230143,-0.08637198946114594,-1.1331304631062196,1.2290718062342558,-0.7616001988702629,-0.1026849109720081,-0.0010621314607047187,0.17853018027367948,-0.8369727453835258,0.5641170382120637,-0.2809140775862545,-0.161649970436904,0.9867336734143902,0.9626034283246061,1.6615712411403147,-1.845096222709994,0.322978603804716,0.5015961251814729,-0.20196396940320452,1.5381237398756653,-1.569086207055157,1.4564700565976911,-0.04912766685608523,-0.69211787687324,0.9659138585689333,0.07107648041341595,1.1711131962254953,1.8201511950554998,-1.3676254840529378,1.1995116297125372,0.10992919238102469,0.3374614915014219,0.901256752395691,0.942744548829377,-0.1779698098371036,-0.6711557827944291,0.4877171261065864,0.3865014857062134,-0.5575141658063655,0.03930754883116221,-0.40015756971593525,1.4028018295464215,-0.3733233526762418,1.3026064618230895,0.07858820380263296,-0.5980967986591397,0.6363700701730874,0.3542755147951408,-0.6681973227150312,-0.17867581943479036,1.9604410397063305,1.628367333941146,0.39812181707511507,-0.3886088203518295,0.07951355276205435,1.2256210551788733,0.9633559855214752,0.20691469233021173,1.3791363349919523,-0.5151369461288825,0.5599252179345603],\"yaxis\":\"y8\",\"type\":\"scatter\"},{\"line\":{\"color\":\"rgba(128, 128, 128, 1.0)\",\"dash\":\"solid\",\"shape\":\"linear\",\"width\":1.3},\"marker\":{\"size\":2,\"symbol\":\"circle\"},\"mode\":\"markers\",\"name\":\"C\",\"text\":\"\",\"x\":[0.4046885802662556,1.1634609392181832,0.23831008927938055,-0.45313528311521356,0.6379419156491609,-1.4438142211840077,1.8009472366221853,-0.7019073870945766,-0.8114125274235565,-0.19453020546169025,-0.7293890011435047,0.6063177785699431,1.0260493772417252,-0.9745601272849126,0.12845004434385796,-0.7341950315109401,-0.9369463818518106,-1.1556645432178285,0.5517415501440451,1.470943400591443,0.11098759972307877,-0.872040405036734,-0.725573494045479,0.8762144102495203,-0.7256656974838994,0.3804463638734659,0.2530982777719823,-0.4352234077201285,-1.365033459939283,0.5518013661404798,-1.619294142218477,-0.15950966538974887,-1.0364676267292028,-0.7822275358569596,-0.596292607538201,1.462245547155082,-0.042939762307161664,-1.201448817457161,-0.7868093739855325,-1.350711335531761,1.5003530252108532,0.5836491221240611,-0.49000745223916403,-0.224690766978519,0.9357732755516264,1.6148852537842429,-0.5293467512155942,-0.03504591766188298,-0.5427162155618057,0.10466060428419802,-2.0619027260621454,1.5595819261835777,-1.2746582360580982,0.659713111290282,0.5209346905381115,-1.7331676875805266,0.03367417605899992,0.5460604281705843,-1.5229265854603575,-1.493244595701655,0.3442258291328287,-0.5890189634984968,-1.7400819468251014,0.4571841912093843,-0.8163286138659932,1.2234095046336957,-1.9175262230633567,-0.15235500484728523,-0.698914922498096,-0.586607717471715,-0.7782598990314717,-0.3192471540884277,1.35728673860839,-0.09084304778350655,1.5978710071133138,0.5543089832036076,-1.2756408674786088,-0.5622618397965323,-0.7738852311628306,1.74867279085942,-0.45789212961166326,-1.048740322865479,2.2815737330960917,-2.1568479545387556,0.24697011679665867,-0.899739675819223,0.021203123180370407,0.6687085372297036,0.47964616017111034,0.31588041201361655,0.5555818984785732,-1.4629086445238069,0.16314192016126078,0.920584193980645,1.7813749673543573,0.9671144937881719,0.6490999417134848,-0.9330982876728201,1.8844394384921241,-0.5615173612921415],\"xaxis\":\"x9\",\"y\":[0.5333894106068127,1.071325229171342,-1.470800589136725,-0.2862220905778843,1.4073662137816083,0.5061183817439069,0.548607579205655,0.18351728006894288,0.16519771603600164,-0.3379868955724642,-0.7193781227538893,-0.8028083789324517,2.5621540661496436,0.6297905398570731,1.3221623658435007,-0.907877045688626,-0.25187487464876357,0.6213152162284802,0.14964733672853697,1.4032636161455256,0.41291565944770825,-0.20068503950731623,0.42218693076308744,0.9877398270261727,-0.47905481553674256,0.19634134813147971,1.2378857439315198,-0.888634564676272,0.5983403200192242,0.37065528264334985,-0.5136464140676389,0.6215545322933033,-1.1882741046614425,-1.1241984567183492,0.046135081931201916,0.3059584972861639,1.982660713709128,1.1335098628566807,0.7631761072699269,-1.0650132249362372,-0.7934812437165999,-0.8640406655280599,-0.9032769074349047,-0.5817143932778477,0.21908099888966504,0.41265322755297795,-0.30821690540998775,-0.16902228541454117,1.386327989125356,-0.6848593790205239,-0.6466786083486713,0.13036212643731973,0.023575212329333652,-1.1045532650066474,-0.4969850904404985,-0.3749437649258846,-0.43644911753027127,-1.2378405065422293,-1.329383898709104,0.2802944518040834,-0.721967980469442,-0.6793832443305716,-1.454048902884165,-1.974592283675091,1.0090214538722935,-0.24879662064032473,-0.20103075678515658,-0.5588833512132657,-1.2745981288297656,-1.453661568283202,-0.3000582656133242,0.03346080177174961,2.352289971839987,0.45707272541422517,0.5969449392986741,0.4136814330801256,1.8212671411947137,-1.1484504252971244,0.8230255619469891,1.1903574476614167,0.2832340681934699,0.0007254283793950763,0.5095093569975643,-0.25222939691524066,-0.9057112235191137,-0.10429944518265208,-0.22114768407300664,0.6023627045504915,-1.2882727632706534,-0.2568560442356472,0.4075638892272466,-0.02375947281671281,-0.8168776298654831,-0.6453714793192032,0.5580269054848119,-0.37986094430907774,0.28221752250205845,-0.6196159821458809,-0.7749229539008272,-1.0735450429145297],\"yaxis\":\"y9\",\"type\":\"scatter\"},{\"line\":{\"color\":\"rgba(128, 128, 128, 1.0)\",\"dash\":\"solid\",\"shape\":\"linear\",\"width\":1.3},\"marker\":{\"size\":2,\"symbol\":\"circle\"},\"mode\":\"markers\",\"name\":\"C\",\"text\":\"\",\"x\":[-0.036356967863489895,0.6423978464479991,0.06196203067280018,-0.5954524694442337,-1.5492130648730433,0.9311582520537345,0.668820275662023,-1.7468085590922156,-0.1696769342720388,-0.16394718749777826,0.9751552245798681,-1.116024324722163,-0.07156742000424661,-0.14331542135327674,0.9701102019525644,1.1032867331856737,-1.3573861940736234,1.401711275479528,0.3492238065607233,1.1495498995481301,-0.25578600485966096,-0.322862665425817,-0.6344716356855562,0.6630306819263807,0.5383410993755943,-1.3039213197094524,0.14185396625413685,0.42771001158341787,0.7518401055320181,1.539785467378347,-0.537891810015294,-1.3178235865616854,0.1249254623762938,-2.1592279543521853,-0.08278135031086314,-0.6181565700562351,-0.11673623829000321,-0.13769998347284979,1.079604089840864,0.5672219678230143,-0.08637198946114594,-1.1331304631062196,1.2290718062342558,-0.7616001988702629,-0.1026849109720081,-0.0010621314607047187,0.17853018027367948,-0.8369727453835258,0.5641170382120637,-0.2809140775862545,-0.161649970436904,0.9867336734143902,0.9626034283246061,1.6615712411403147,-1.845096222709994,0.322978603804716,0.5015961251814729,-0.20196396940320452,1.5381237398756653,-1.569086207055157,1.4564700565976911,-0.04912766685608523,-0.69211787687324,0.9659138585689333,0.07107648041341595,1.1711131962254953,1.8201511950554998,-1.3676254840529378,1.1995116297125372,0.10992919238102469,0.3374614915014219,0.901256752395691,0.942744548829377,-0.1779698098371036,-0.6711557827944291,0.4877171261065864,0.3865014857062134,-0.5575141658063655,0.03930754883116221,-0.40015756971593525,1.4028018295464215,-0.3733233526762418,1.3026064618230895,0.07858820380263296,-0.5980967986591397,0.6363700701730874,0.3542755147951408,-0.6681973227150312,-0.17867581943479036,1.9604410397063305,1.628367333941146,0.39812181707511507,-0.3886088203518295,0.07951355276205435,1.2256210551788733,0.9633559855214752,0.20691469233021173,1.3791363349919523,-0.5151369461288825,0.5599252179345603],\"xaxis\":\"x10\",\"y\":[0.5333894106068127,1.071325229171342,-1.470800589136725,-0.2862220905778843,1.4073662137816083,0.5061183817439069,0.548607579205655,0.18351728006894288,0.16519771603600164,-0.3379868955724642,-0.7193781227538893,-0.8028083789324517,2.5621540661496436,0.6297905398570731,1.3221623658435007,-0.907877045688626,-0.25187487464876357,0.6213152162284802,0.14964733672853697,1.4032636161455256,0.41291565944770825,-0.20068503950731623,0.42218693076308744,0.9877398270261727,-0.47905481553674256,0.19634134813147971,1.2378857439315198,-0.888634564676272,0.5983403200192242,0.37065528264334985,-0.5136464140676389,0.6215545322933033,-1.1882741046614425,-1.1241984567183492,0.046135081931201916,0.3059584972861639,1.982660713709128,1.1335098628566807,0.7631761072699269,-1.0650132249362372,-0.7934812437165999,-0.8640406655280599,-0.9032769074349047,-0.5817143932778477,0.21908099888966504,0.41265322755297795,-0.30821690540998775,-0.16902228541454117,1.386327989125356,-0.6848593790205239,-0.6466786083486713,0.13036212643731973,0.023575212329333652,-1.1045532650066474,-0.4969850904404985,-0.3749437649258846,-0.43644911753027127,-1.2378405065422293,-1.329383898709104,0.2802944518040834,-0.721967980469442,-0.6793832443305716,-1.454048902884165,-1.974592283675091,1.0090214538722935,-0.24879662064032473,-0.20103075678515658,-0.5588833512132657,-1.2745981288297656,-1.453661568283202,-0.3000582656133242,0.03346080177174961,2.352289971839987,0.45707272541422517,0.5969449392986741,0.4136814330801256,1.8212671411947137,-1.1484504252971244,0.8230255619469891,1.1903574476614167,0.2832340681934699,0.0007254283793950763,0.5095093569975643,-0.25222939691524066,-0.9057112235191137,-0.10429944518265208,-0.22114768407300664,0.6023627045504915,-1.2882727632706534,-0.2568560442356472,0.4075638892272466,-0.02375947281671281,-0.8168776298654831,-0.6453714793192032,0.5580269054848119,-0.37986094430907774,0.28221752250205845,-0.6196159821458809,-0.7749229539008272,-1.0735450429145297],\"yaxis\":\"y10\",\"type\":\"scatter\"},{\"histfunc\":\"count\",\"histnorm\":\"\",\"marker\":{\"color\":\"rgba(50, 171, 96, 1.0)\",\"line\":{\"color\":\"#4D5663\",\"width\":1.3}},\"name\":\"C\",\"nbinsx\":10,\"opacity\":0.8,\"orientation\":\"v\",\"x\":[0.5333894106068127,1.071325229171342,-1.470800589136725,-0.2862220905778843,1.4073662137816083,0.5061183817439069,0.548607579205655,0.18351728006894288,0.16519771603600164,-0.3379868955724642,-0.7193781227538893,-0.8028083789324517,2.5621540661496436,0.6297905398570731,1.3221623658435007,-0.907877045688626,-0.25187487464876357,0.6213152162284802,0.14964733672853697,1.4032636161455256,0.41291565944770825,-0.20068503950731623,0.42218693076308744,0.9877398270261727,-0.47905481553674256,0.19634134813147971,1.2378857439315198,-0.888634564676272,0.5983403200192242,0.37065528264334985,-0.5136464140676389,0.6215545322933033,-1.1882741046614425,-1.1241984567183492,0.046135081931201916,0.3059584972861639,1.982660713709128,1.1335098628566807,0.7631761072699269,-1.0650132249362372,-0.7934812437165999,-0.8640406655280599,-0.9032769074349047,-0.5817143932778477,0.21908099888966504,0.41265322755297795,-0.30821690540998775,-0.16902228541454117,1.386327989125356,-0.6848593790205239,-0.6466786083486713,0.13036212643731973,0.023575212329333652,-1.1045532650066474,-0.4969850904404985,-0.3749437649258846,-0.43644911753027127,-1.2378405065422293,-1.329383898709104,0.2802944518040834,-0.721967980469442,-0.6793832443305716,-1.454048902884165,-1.974592283675091,1.0090214538722935,-0.24879662064032473,-0.20103075678515658,-0.5588833512132657,-1.2745981288297656,-1.453661568283202,-0.3000582656133242,0.03346080177174961,2.352289971839987,0.45707272541422517,0.5969449392986741,0.4136814330801256,1.8212671411947137,-1.1484504252971244,0.8230255619469891,1.1903574476614167,0.2832340681934699,0.0007254283793950763,0.5095093569975643,-0.25222939691524066,-0.9057112235191137,-0.10429944518265208,-0.22114768407300664,0.6023627045504915,-1.2882727632706534,-0.2568560442356472,0.4075638892272466,-0.02375947281671281,-0.8168776298654831,-0.6453714793192032,0.5580269054848119,-0.37986094430907774,0.28221752250205845,-0.6196159821458809,-0.7749229539008272,-1.0735450429145297],\"xaxis\":\"x11\",\"yaxis\":\"y11\",\"type\":\"histogram\"},{\"line\":{\"color\":\"rgba(128, 128, 128, 1.0)\",\"dash\":\"solid\",\"shape\":\"linear\",\"width\":1.3},\"marker\":{\"size\":2,\"symbol\":\"circle\"},\"mode\":\"markers\",\"name\":\"C\",\"text\":\"\",\"x\":[-0.2825855431900491,1.0633573067486268,-2.1001692351063626,1.0446367095592421,0.5953430876382271,-0.2846919621319009,-0.28373562720918266,1.4395582244747056,-0.11937281065970146,0.5200018724597353,0.4961085627014545,0.3670638417017377,-0.5427364186337024,-0.01355745100234656,-1.5841177773188502,-0.3982164343485549,0.3967242430361578,-0.7325445073538194,0.6090256738889145,1.4016476694071414,1.5363295483820543,0.3595770376866891,0.8365984993865755,0.37450436239124474,-0.47142248286065813,-0.2864934693803874,-1.3209858573890385,0.946365846884867,0.880451145627504,1.8598250512370083,-0.8248545670496139,0.4970792013989982,-0.11956098339954181,0.3486511376338494,-0.10899894977861045,-0.5113159880609262,-1.2338305680788635,0.7096969153160174,-0.8324611642094429,0.8488390676321835,-0.6285222129992037,0.6641907699781142,0.1343227588279596,-0.5633909316429447,-0.06936327430316822,1.0757439090555194,-0.9879655916118916,-0.2217330017946681,0.0014859262711134778,-0.39148841064950907,0.3338323314224215,-1.4408710973374794,1.3125608421605095,1.75037240909572,-0.9805307979366945,-0.8728110853325531,0.5581801807343525,-0.6863981771284091,1.0558126713712725,1.0758175147999909,0.4528375019274385,1.2240977251112526,-0.9510460066059595,-0.9627119790191537,0.7647797576345738,-0.7414842948486164,-0.8181307041959239,0.9853819359946228,-0.69835410525475,1.1369684032907827,1.0400481714777836,-0.3249947365171732,-1.0463195957144569,0.2887891883560056,0.03454937373532679,-1.9673655069855913,0.8331638666971242,-0.22743412615690475,0.5757727546899231,-0.37188253833382523,1.7139249122824152,0.8112324903396599,-0.605521065103998,1.277592715293173,0.6733907637732424,-0.41058471253747514,2.054629172161993,-1.6811086140472022,0.6574084450518696,-1.5953199469781836,-0.2229726467327843,1.0678056997544685,-0.7154713198200674,0.45898615370078294,-1.4369031061061972,0.5370523305489656,0.06493287092040016,-1.3828767677212086,-1.0713130882516548,-0.3335073676303444],\"xaxis\":\"x12\",\"y\":[0.5333894106068127,1.071325229171342,-1.470800589136725,-0.2862220905778843,1.4073662137816083,0.5061183817439069,0.548607579205655,0.18351728006894288,0.16519771603600164,-0.3379868955724642,-0.7193781227538893,-0.8028083789324517,2.5621540661496436,0.6297905398570731,1.3221623658435007,-0.907877045688626,-0.25187487464876357,0.6213152162284802,0.14964733672853697,1.4032636161455256,0.41291565944770825,-0.20068503950731623,0.42218693076308744,0.9877398270261727,-0.47905481553674256,0.19634134813147971,1.2378857439315198,-0.888634564676272,0.5983403200192242,0.37065528264334985,-0.5136464140676389,0.6215545322933033,-1.1882741046614425,-1.1241984567183492,0.046135081931201916,0.3059584972861639,1.982660713709128,1.1335098628566807,0.7631761072699269,-1.0650132249362372,-0.7934812437165999,-0.8640406655280599,-0.9032769074349047,-0.5817143932778477,0.21908099888966504,0.41265322755297795,-0.30821690540998775,-0.16902228541454117,1.386327989125356,-0.6848593790205239,-0.6466786083486713,0.13036212643731973,0.023575212329333652,-1.1045532650066474,-0.4969850904404985,-0.3749437649258846,-0.43644911753027127,-1.2378405065422293,-1.329383898709104,0.2802944518040834,-0.721967980469442,-0.6793832443305716,-1.454048902884165,-1.974592283675091,1.0090214538722935,-0.24879662064032473,-0.20103075678515658,-0.5588833512132657,-1.2745981288297656,-1.453661568283202,-0.3000582656133242,0.03346080177174961,2.352289971839987,0.45707272541422517,0.5969449392986741,0.4136814330801256,1.8212671411947137,-1.1484504252971244,0.8230255619469891,1.1903574476614167,0.2832340681934699,0.0007254283793950763,0.5095093569975643,-0.25222939691524066,-0.9057112235191137,-0.10429944518265208,-0.22114768407300664,0.6023627045504915,-1.2882727632706534,-0.2568560442356472,0.4075638892272466,-0.02375947281671281,-0.8168776298654831,-0.6453714793192032,0.5580269054848119,-0.37986094430907774,0.28221752250205845,-0.6196159821458809,-0.7749229539008272,-1.0735450429145297],\"yaxis\":\"y12\",\"type\":\"scatter\"},{\"line\":{\"color\":\"rgba(128, 128, 128, 1.0)\",\"dash\":\"solid\",\"shape\":\"linear\",\"width\":1.3},\"marker\":{\"size\":2,\"symbol\":\"circle\"},\"mode\":\"markers\",\"name\":\"D\",\"text\":\"\",\"x\":[0.4046885802662556,1.1634609392181832,0.23831008927938055,-0.45313528311521356,0.6379419156491609,-1.4438142211840077,1.8009472366221853,-0.7019073870945766,-0.8114125274235565,-0.19453020546169025,-0.7293890011435047,0.6063177785699431,1.0260493772417252,-0.9745601272849126,0.12845004434385796,-0.7341950315109401,-0.9369463818518106,-1.1556645432178285,0.5517415501440451,1.470943400591443,0.11098759972307877,-0.872040405036734,-0.725573494045479,0.8762144102495203,-0.7256656974838994,0.3804463638734659,0.2530982777719823,-0.4352234077201285,-1.365033459939283,0.5518013661404798,-1.619294142218477,-0.15950966538974887,-1.0364676267292028,-0.7822275358569596,-0.596292607538201,1.462245547155082,-0.042939762307161664,-1.201448817457161,-0.7868093739855325,-1.350711335531761,1.5003530252108532,0.5836491221240611,-0.49000745223916403,-0.224690766978519,0.9357732755516264,1.6148852537842429,-0.5293467512155942,-0.03504591766188298,-0.5427162155618057,0.10466060428419802,-2.0619027260621454,1.5595819261835777,-1.2746582360580982,0.659713111290282,0.5209346905381115,-1.7331676875805266,0.03367417605899992,0.5460604281705843,-1.5229265854603575,-1.493244595701655,0.3442258291328287,-0.5890189634984968,-1.7400819468251014,0.4571841912093843,-0.8163286138659932,1.2234095046336957,-1.9175262230633567,-0.15235500484728523,-0.698914922498096,-0.586607717471715,-0.7782598990314717,-0.3192471540884277,1.35728673860839,-0.09084304778350655,1.5978710071133138,0.5543089832036076,-1.2756408674786088,-0.5622618397965323,-0.7738852311628306,1.74867279085942,-0.45789212961166326,-1.048740322865479,2.2815737330960917,-2.1568479545387556,0.24697011679665867,-0.899739675819223,0.021203123180370407,0.6687085372297036,0.47964616017111034,0.31588041201361655,0.5555818984785732,-1.4629086445238069,0.16314192016126078,0.920584193980645,1.7813749673543573,0.9671144937881719,0.6490999417134848,-0.9330982876728201,1.8844394384921241,-0.5615173612921415],\"xaxis\":\"x13\",\"y\":[-0.2825855431900491,1.0633573067486268,-2.1001692351063626,1.0446367095592421,0.5953430876382271,-0.2846919621319009,-0.28373562720918266,1.4395582244747056,-0.11937281065970146,0.5200018724597353,0.4961085627014545,0.3670638417017377,-0.5427364186337024,-0.01355745100234656,-1.5841177773188502,-0.3982164343485549,0.3967242430361578,-0.7325445073538194,0.6090256738889145,1.4016476694071414,1.5363295483820543,0.3595770376866891,0.8365984993865755,0.37450436239124474,-0.47142248286065813,-0.2864934693803874,-1.3209858573890385,0.946365846884867,0.880451145627504,1.8598250512370083,-0.8248545670496139,0.4970792013989982,-0.11956098339954181,0.3486511376338494,-0.10899894977861045,-0.5113159880609262,-1.2338305680788635,0.7096969153160174,-0.8324611642094429,0.8488390676321835,-0.6285222129992037,0.6641907699781142,0.1343227588279596,-0.5633909316429447,-0.06936327430316822,1.0757439090555194,-0.9879655916118916,-0.2217330017946681,0.0014859262711134778,-0.39148841064950907,0.3338323314224215,-1.4408710973374794,1.3125608421605095,1.75037240909572,-0.9805307979366945,-0.8728110853325531,0.5581801807343525,-0.6863981771284091,1.0558126713712725,1.0758175147999909,0.4528375019274385,1.2240977251112526,-0.9510460066059595,-0.9627119790191537,0.7647797576345738,-0.7414842948486164,-0.8181307041959239,0.9853819359946228,-0.69835410525475,1.1369684032907827,1.0400481714777836,-0.3249947365171732,-1.0463195957144569,0.2887891883560056,0.03454937373532679,-1.9673655069855913,0.8331638666971242,-0.22743412615690475,0.5757727546899231,-0.37188253833382523,1.7139249122824152,0.8112324903396599,-0.605521065103998,1.277592715293173,0.6733907637732424,-0.41058471253747514,2.054629172161993,-1.6811086140472022,0.6574084450518696,-1.5953199469781836,-0.2229726467327843,1.0678056997544685,-0.7154713198200674,0.45898615370078294,-1.4369031061061972,0.5370523305489656,0.06493287092040016,-1.3828767677212086,-1.0713130882516548,-0.3335073676303444],\"yaxis\":\"y13\",\"type\":\"scatter\"},{\"line\":{\"color\":\"rgba(128, 128, 128, 1.0)\",\"dash\":\"solid\",\"shape\":\"linear\",\"width\":1.3},\"marker\":{\"size\":2,\"symbol\":\"circle\"},\"mode\":\"markers\",\"name\":\"D\",\"text\":\"\",\"x\":[-0.036356967863489895,0.6423978464479991,0.06196203067280018,-0.5954524694442337,-1.5492130648730433,0.9311582520537345,0.668820275662023,-1.7468085590922156,-0.1696769342720388,-0.16394718749777826,0.9751552245798681,-1.116024324722163,-0.07156742000424661,-0.14331542135327674,0.9701102019525644,1.1032867331856737,-1.3573861940736234,1.401711275479528,0.3492238065607233,1.1495498995481301,-0.25578600485966096,-0.322862665425817,-0.6344716356855562,0.6630306819263807,0.5383410993755943,-1.3039213197094524,0.14185396625413685,0.42771001158341787,0.7518401055320181,1.539785467378347,-0.537891810015294,-1.3178235865616854,0.1249254623762938,-2.1592279543521853,-0.08278135031086314,-0.6181565700562351,-0.11673623829000321,-0.13769998347284979,1.079604089840864,0.5672219678230143,-0.08637198946114594,-1.1331304631062196,1.2290718062342558,-0.7616001988702629,-0.1026849109720081,-0.0010621314607047187,0.17853018027367948,-0.8369727453835258,0.5641170382120637,-0.2809140775862545,-0.161649970436904,0.9867336734143902,0.9626034283246061,1.6615712411403147,-1.845096222709994,0.322978603804716,0.5015961251814729,-0.20196396940320452,1.5381237398756653,-1.569086207055157,1.4564700565976911,-0.04912766685608523,-0.69211787687324,0.9659138585689333,0.07107648041341595,1.1711131962254953,1.8201511950554998,-1.3676254840529378,1.1995116297125372,0.10992919238102469,0.3374614915014219,0.901256752395691,0.942744548829377,-0.1779698098371036,-0.6711557827944291,0.4877171261065864,0.3865014857062134,-0.5575141658063655,0.03930754883116221,-0.40015756971593525,1.4028018295464215,-0.3733233526762418,1.3026064618230895,0.07858820380263296,-0.5980967986591397,0.6363700701730874,0.3542755147951408,-0.6681973227150312,-0.17867581943479036,1.9604410397063305,1.628367333941146,0.39812181707511507,-0.3886088203518295,0.07951355276205435,1.2256210551788733,0.9633559855214752,0.20691469233021173,1.3791363349919523,-0.5151369461288825,0.5599252179345603],\"xaxis\":\"x14\",\"y\":[-0.2825855431900491,1.0633573067486268,-2.1001692351063626,1.0446367095592421,0.5953430876382271,-0.2846919621319009,-0.28373562720918266,1.4395582244747056,-0.11937281065970146,0.5200018724597353,0.4961085627014545,0.3670638417017377,-0.5427364186337024,-0.01355745100234656,-1.5841177773188502,-0.3982164343485549,0.3967242430361578,-0.7325445073538194,0.6090256738889145,1.4016476694071414,1.5363295483820543,0.3595770376866891,0.8365984993865755,0.37450436239124474,-0.47142248286065813,-0.2864934693803874,-1.3209858573890385,0.946365846884867,0.880451145627504,1.8598250512370083,-0.8248545670496139,0.4970792013989982,-0.11956098339954181,0.3486511376338494,-0.10899894977861045,-0.5113159880609262,-1.2338305680788635,0.7096969153160174,-0.8324611642094429,0.8488390676321835,-0.6285222129992037,0.6641907699781142,0.1343227588279596,-0.5633909316429447,-0.06936327430316822,1.0757439090555194,-0.9879655916118916,-0.2217330017946681,0.0014859262711134778,-0.39148841064950907,0.3338323314224215,-1.4408710973374794,1.3125608421605095,1.75037240909572,-0.9805307979366945,-0.8728110853325531,0.5581801807343525,-0.6863981771284091,1.0558126713712725,1.0758175147999909,0.4528375019274385,1.2240977251112526,-0.9510460066059595,-0.9627119790191537,0.7647797576345738,-0.7414842948486164,-0.8181307041959239,0.9853819359946228,-0.69835410525475,1.1369684032907827,1.0400481714777836,-0.3249947365171732,-1.0463195957144569,0.2887891883560056,0.03454937373532679,-1.9673655069855913,0.8331638666971242,-0.22743412615690475,0.5757727546899231,-0.37188253833382523,1.7139249122824152,0.8112324903396599,-0.605521065103998,1.277592715293173,0.6733907637732424,-0.41058471253747514,2.054629172161993,-1.6811086140472022,0.6574084450518696,-1.5953199469781836,-0.2229726467327843,1.0678056997544685,-0.7154713198200674,0.45898615370078294,-1.4369031061061972,0.5370523305489656,0.06493287092040016,-1.3828767677212086,-1.0713130882516548,-0.3335073676303444],\"yaxis\":\"y14\",\"type\":\"scatter\"},{\"line\":{\"color\":\"rgba(128, 128, 128, 1.0)\",\"dash\":\"solid\",\"shape\":\"linear\",\"width\":1.3},\"marker\":{\"size\":2,\"symbol\":\"circle\"},\"mode\":\"markers\",\"name\":\"D\",\"text\":\"\",\"x\":[0.5333894106068127,1.071325229171342,-1.470800589136725,-0.2862220905778843,1.4073662137816083,0.5061183817439069,0.548607579205655,0.18351728006894288,0.16519771603600164,-0.3379868955724642,-0.7193781227538893,-0.8028083789324517,2.5621540661496436,0.6297905398570731,1.3221623658435007,-0.907877045688626,-0.25187487464876357,0.6213152162284802,0.14964733672853697,1.4032636161455256,0.41291565944770825,-0.20068503950731623,0.42218693076308744,0.9877398270261727,-0.47905481553674256,0.19634134813147971,1.2378857439315198,-0.888634564676272,0.5983403200192242,0.37065528264334985,-0.5136464140676389,0.6215545322933033,-1.1882741046614425,-1.1241984567183492,0.046135081931201916,0.3059584972861639,1.982660713709128,1.1335098628566807,0.7631761072699269,-1.0650132249362372,-0.7934812437165999,-0.8640406655280599,-0.9032769074349047,-0.5817143932778477,0.21908099888966504,0.41265322755297795,-0.30821690540998775,-0.16902228541454117,1.386327989125356,-0.6848593790205239,-0.6466786083486713,0.13036212643731973,0.023575212329333652,-1.1045532650066474,-0.4969850904404985,-0.3749437649258846,-0.43644911753027127,-1.2378405065422293,-1.329383898709104,0.2802944518040834,-0.721967980469442,-0.6793832443305716,-1.454048902884165,-1.974592283675091,1.0090214538722935,-0.24879662064032473,-0.20103075678515658,-0.5588833512132657,-1.2745981288297656,-1.453661568283202,-0.3000582656133242,0.03346080177174961,2.352289971839987,0.45707272541422517,0.5969449392986741,0.4136814330801256,1.8212671411947137,-1.1484504252971244,0.8230255619469891,1.1903574476614167,0.2832340681934699,0.0007254283793950763,0.5095093569975643,-0.25222939691524066,-0.9057112235191137,-0.10429944518265208,-0.22114768407300664,0.6023627045504915,-1.2882727632706534,-0.2568560442356472,0.4075638892272466,-0.02375947281671281,-0.8168776298654831,-0.6453714793192032,0.5580269054848119,-0.37986094430907774,0.28221752250205845,-0.6196159821458809,-0.7749229539008272,-1.0735450429145297],\"xaxis\":\"x15\",\"y\":[-0.2825855431900491,1.0633573067486268,-2.1001692351063626,1.0446367095592421,0.5953430876382271,-0.2846919621319009,-0.28373562720918266,1.4395582244747056,-0.11937281065970146,0.5200018724597353,0.4961085627014545,0.3670638417017377,-0.5427364186337024,-0.01355745100234656,-1.5841177773188502,-0.3982164343485549,0.3967242430361578,-0.7325445073538194,0.6090256738889145,1.4016476694071414,1.5363295483820543,0.3595770376866891,0.8365984993865755,0.37450436239124474,-0.47142248286065813,-0.2864934693803874,-1.3209858573890385,0.946365846884867,0.880451145627504,1.8598250512370083,-0.8248545670496139,0.4970792013989982,-0.11956098339954181,0.3486511376338494,-0.10899894977861045,-0.5113159880609262,-1.2338305680788635,0.7096969153160174,-0.8324611642094429,0.8488390676321835,-0.6285222129992037,0.6641907699781142,0.1343227588279596,-0.5633909316429447,-0.06936327430316822,1.0757439090555194,-0.9879655916118916,-0.2217330017946681,0.0014859262711134778,-0.39148841064950907,0.3338323314224215,-1.4408710973374794,1.3125608421605095,1.75037240909572,-0.9805307979366945,-0.8728110853325531,0.5581801807343525,-0.6863981771284091,1.0558126713712725,1.0758175147999909,0.4528375019274385,1.2240977251112526,-0.9510460066059595,-0.9627119790191537,0.7647797576345738,-0.7414842948486164,-0.8181307041959239,0.9853819359946228,-0.69835410525475,1.1369684032907827,1.0400481714777836,-0.3249947365171732,-1.0463195957144569,0.2887891883560056,0.03454937373532679,-1.9673655069855913,0.8331638666971242,-0.22743412615690475,0.5757727546899231,-0.37188253833382523,1.7139249122824152,0.8112324903396599,-0.605521065103998,1.277592715293173,0.6733907637732424,-0.41058471253747514,2.054629172161993,-1.6811086140472022,0.6574084450518696,-1.5953199469781836,-0.2229726467327843,1.0678056997544685,-0.7154713198200674,0.45898615370078294,-1.4369031061061972,0.5370523305489656,0.06493287092040016,-1.3828767677212086,-1.0713130882516548,-0.3335073676303444],\"yaxis\":\"y15\",\"type\":\"scatter\"},{\"histfunc\":\"count\",\"histnorm\":\"\",\"marker\":{\"color\":\"rgba(128, 0, 128, 1.0)\",\"line\":{\"color\":\"#4D5663\",\"width\":1.3}},\"name\":\"D\",\"nbinsx\":10,\"opacity\":0.8,\"orientation\":\"v\",\"x\":[-0.2825855431900491,1.0633573067486268,-2.1001692351063626,1.0446367095592421,0.5953430876382271,-0.2846919621319009,-0.28373562720918266,1.4395582244747056,-0.11937281065970146,0.5200018724597353,0.4961085627014545,0.3670638417017377,-0.5427364186337024,-0.01355745100234656,-1.5841177773188502,-0.3982164343485549,0.3967242430361578,-0.7325445073538194,0.6090256738889145,1.4016476694071414,1.5363295483820543,0.3595770376866891,0.8365984993865755,0.37450436239124474,-0.47142248286065813,-0.2864934693803874,-1.3209858573890385,0.946365846884867,0.880451145627504,1.8598250512370083,-0.8248545670496139,0.4970792013989982,-0.11956098339954181,0.3486511376338494,-0.10899894977861045,-0.5113159880609262,-1.2338305680788635,0.7096969153160174,-0.8324611642094429,0.8488390676321835,-0.6285222129992037,0.6641907699781142,0.1343227588279596,-0.5633909316429447,-0.06936327430316822,1.0757439090555194,-0.9879655916118916,-0.2217330017946681,0.0014859262711134778,-0.39148841064950907,0.3338323314224215,-1.4408710973374794,1.3125608421605095,1.75037240909572,-0.9805307979366945,-0.8728110853325531,0.5581801807343525,-0.6863981771284091,1.0558126713712725,1.0758175147999909,0.4528375019274385,1.2240977251112526,-0.9510460066059595,-0.9627119790191537,0.7647797576345738,-0.7414842948486164,-0.8181307041959239,0.9853819359946228,-0.69835410525475,1.1369684032907827,1.0400481714777836,-0.3249947365171732,-1.0463195957144569,0.2887891883560056,0.03454937373532679,-1.9673655069855913,0.8331638666971242,-0.22743412615690475,0.5757727546899231,-0.37188253833382523,1.7139249122824152,0.8112324903396599,-0.605521065103998,1.277592715293173,0.6733907637732424,-0.41058471253747514,2.054629172161993,-1.6811086140472022,0.6574084450518696,-1.5953199469781836,-0.2229726467327843,1.0678056997544685,-0.7154713198200674,0.45898615370078294,-1.4369031061061972,0.5370523305489656,0.06493287092040016,-1.3828767677212086,-1.0713130882516548,-0.3335073676303444],\"xaxis\":\"x16\",\"yaxis\":\"y16\",\"type\":\"histogram\"}],                        {\"bargap\":0.02,\"legend\":{\"bgcolor\":\"#F5F6F9\",\"font\":{\"color\":\"#4D5663\"}},\"paper_bgcolor\":\"#F5F6F9\",\"plot_bgcolor\":\"#F5F6F9\",\"showlegend\":false,\"template\":{\"data\":{\"barpolar\":[{\"marker\":{\"line\":{\"color\":\"#E5ECF6\",\"width\":0.5},\"pattern\":{\"fillmode\":\"overlay\",\"size\":10,\"solidity\":0.2}},\"type\":\"barpolar\"}],\"bar\":[{\"error_x\":{\"color\":\"#2a3f5f\"},\"error_y\":{\"color\":\"#2a3f5f\"},\"marker\":{\"line\":{\"color\":\"#E5ECF6\",\"width\":0.5},\"pattern\":{\"fillmode\":\"overlay\",\"size\":10,\"solidity\":0.2}},\"type\":\"bar\"}],\"carpet\":[{\"aaxis\":{\"endlinecolor\":\"#2a3f5f\",\"gridcolor\":\"white\",\"linecolor\":\"white\",\"minorgridcolor\":\"white\",\"startlinecolor\":\"#2a3f5f\"},\"baxis\":{\"endlinecolor\":\"#2a3f5f\",\"gridcolor\":\"white\",\"linecolor\":\"white\",\"minorgridcolor\":\"white\",\"startlinecolor\":\"#2a3f5f\"},\"type\":\"carpet\"}],\"choropleth\":[{\"colorbar\":{\"outlinewidth\":0,\"ticks\":\"\"},\"type\":\"choropleth\"}],\"contourcarpet\":[{\"colorbar\":{\"outlinewidth\":0,\"ticks\":\"\"},\"type\":\"contourcarpet\"}],\"contour\":[{\"colorbar\":{\"outlinewidth\":0,\"ticks\":\"\"},\"colorscale\":[[0.0,\"#0d0887\"],[0.1111111111111111,\"#46039f\"],[0.2222222222222222,\"#7201a8\"],[0.3333333333333333,\"#9c179e\"],[0.4444444444444444,\"#bd3786\"],[0.5555555555555556,\"#d8576b\"],[0.6666666666666666,\"#ed7953\"],[0.7777777777777778,\"#fb9f3a\"],[0.8888888888888888,\"#fdca26\"],[1.0,\"#f0f921\"]],\"type\":\"contour\"}],\"heatmapgl\":[{\"colorbar\":{\"outlinewidth\":0,\"ticks\":\"\"},\"colorscale\":[[0.0,\"#0d0887\"],[0.1111111111111111,\"#46039f\"],[0.2222222222222222,\"#7201a8\"],[0.3333333333333333,\"#9c179e\"],[0.4444444444444444,\"#bd3786\"],[0.5555555555555556,\"#d8576b\"],[0.6666666666666666,\"#ed7953\"],[0.7777777777777778,\"#fb9f3a\"],[0.8888888888888888,\"#fdca26\"],[1.0,\"#f0f921\"]],\"type\":\"heatmapgl\"}],\"heatmap\":[{\"colorbar\":{\"outlinewidth\":0,\"ticks\":\"\"},\"colorscale\":[[0.0,\"#0d0887\"],[0.1111111111111111,\"#46039f\"],[0.2222222222222222,\"#7201a8\"],[0.3333333333333333,\"#9c179e\"],[0.4444444444444444,\"#bd3786\"],[0.5555555555555556,\"#d8576b\"],[0.6666666666666666,\"#ed7953\"],[0.7777777777777778,\"#fb9f3a\"],[0.8888888888888888,\"#fdca26\"],[1.0,\"#f0f921\"]],\"type\":\"heatmap\"}],\"histogram2dcontour\":[{\"colorbar\":{\"outlinewidth\":0,\"ticks\":\"\"},\"colorscale\":[[0.0,\"#0d0887\"],[0.1111111111111111,\"#46039f\"],[0.2222222222222222,\"#7201a8\"],[0.3333333333333333,\"#9c179e\"],[0.4444444444444444,\"#bd3786\"],[0.5555555555555556,\"#d8576b\"],[0.6666666666666666,\"#ed7953\"],[0.7777777777777778,\"#fb9f3a\"],[0.8888888888888888,\"#fdca26\"],[1.0,\"#f0f921\"]],\"type\":\"histogram2dcontour\"}],\"histogram2d\":[{\"colorbar\":{\"outlinewidth\":0,\"ticks\":\"\"},\"colorscale\":[[0.0,\"#0d0887\"],[0.1111111111111111,\"#46039f\"],[0.2222222222222222,\"#7201a8\"],[0.3333333333333333,\"#9c179e\"],[0.4444444444444444,\"#bd3786\"],[0.5555555555555556,\"#d8576b\"],[0.6666666666666666,\"#ed7953\"],[0.7777777777777778,\"#fb9f3a\"],[0.8888888888888888,\"#fdca26\"],[1.0,\"#f0f921\"]],\"type\":\"histogram2d\"}],\"histogram\":[{\"marker\":{\"pattern\":{\"fillmode\":\"overlay\",\"size\":10,\"solidity\":0.2}},\"type\":\"histogram\"}],\"mesh3d\":[{\"colorbar\":{\"outlinewidth\":0,\"ticks\":\"\"},\"type\":\"mesh3d\"}],\"parcoords\":[{\"line\":{\"colorbar\":{\"outlinewidth\":0,\"ticks\":\"\"}},\"type\":\"parcoords\"}],\"pie\":[{\"automargin\":true,\"type\":\"pie\"}],\"scatter3d\":[{\"line\":{\"colorbar\":{\"outlinewidth\":0,\"ticks\":\"\"}},\"marker\":{\"colorbar\":{\"outlinewidth\":0,\"ticks\":\"\"}},\"type\":\"scatter3d\"}],\"scattercarpet\":[{\"marker\":{\"colorbar\":{\"outlinewidth\":0,\"ticks\":\"\"}},\"type\":\"scattercarpet\"}],\"scattergeo\":[{\"marker\":{\"colorbar\":{\"outlinewidth\":0,\"ticks\":\"\"}},\"type\":\"scattergeo\"}],\"scattergl\":[{\"marker\":{\"colorbar\":{\"outlinewidth\":0,\"ticks\":\"\"}},\"type\":\"scattergl\"}],\"scattermapbox\":[{\"marker\":{\"colorbar\":{\"outlinewidth\":0,\"ticks\":\"\"}},\"type\":\"scattermapbox\"}],\"scatterpolargl\":[{\"marker\":{\"colorbar\":{\"outlinewidth\":0,\"ticks\":\"\"}},\"type\":\"scatterpolargl\"}],\"scatterpolar\":[{\"marker\":{\"colorbar\":{\"outlinewidth\":0,\"ticks\":\"\"}},\"type\":\"scatterpolar\"}],\"scatter\":[{\"fillpattern\":{\"fillmode\":\"overlay\",\"size\":10,\"solidity\":0.2},\"type\":\"scatter\"}],\"scatterternary\":[{\"marker\":{\"colorbar\":{\"outlinewidth\":0,\"ticks\":\"\"}},\"type\":\"scatterternary\"}],\"surface\":[{\"colorbar\":{\"outlinewidth\":0,\"ticks\":\"\"},\"colorscale\":[[0.0,\"#0d0887\"],[0.1111111111111111,\"#46039f\"],[0.2222222222222222,\"#7201a8\"],[0.3333333333333333,\"#9c179e\"],[0.4444444444444444,\"#bd3786\"],[0.5555555555555556,\"#d8576b\"],[0.6666666666666666,\"#ed7953\"],[0.7777777777777778,\"#fb9f3a\"],[0.8888888888888888,\"#fdca26\"],[1.0,\"#f0f921\"]],\"type\":\"surface\"}],\"table\":[{\"cells\":{\"fill\":{\"color\":\"#EBF0F8\"},\"line\":{\"color\":\"white\"}},\"header\":{\"fill\":{\"color\":\"#C8D4E3\"},\"line\":{\"color\":\"white\"}},\"type\":\"table\"}]},\"layout\":{\"annotationdefaults\":{\"arrowcolor\":\"#2a3f5f\",\"arrowhead\":0,\"arrowwidth\":1},\"autotypenumbers\":\"strict\",\"coloraxis\":{\"colorbar\":{\"outlinewidth\":0,\"ticks\":\"\"}},\"colorscale\":{\"diverging\":[[0,\"#8e0152\"],[0.1,\"#c51b7d\"],[0.2,\"#de77ae\"],[0.3,\"#f1b6da\"],[0.4,\"#fde0ef\"],[0.5,\"#f7f7f7\"],[0.6,\"#e6f5d0\"],[0.7,\"#b8e186\"],[0.8,\"#7fbc41\"],[0.9,\"#4d9221\"],[1,\"#276419\"]],\"sequential\":[[0.0,\"#0d0887\"],[0.1111111111111111,\"#46039f\"],[0.2222222222222222,\"#7201a8\"],[0.3333333333333333,\"#9c179e\"],[0.4444444444444444,\"#bd3786\"],[0.5555555555555556,\"#d8576b\"],[0.6666666666666666,\"#ed7953\"],[0.7777777777777778,\"#fb9f3a\"],[0.8888888888888888,\"#fdca26\"],[1.0,\"#f0f921\"]],\"sequentialminus\":[[0.0,\"#0d0887\"],[0.1111111111111111,\"#46039f\"],[0.2222222222222222,\"#7201a8\"],[0.3333333333333333,\"#9c179e\"],[0.4444444444444444,\"#bd3786\"],[0.5555555555555556,\"#d8576b\"],[0.6666666666666666,\"#ed7953\"],[0.7777777777777778,\"#fb9f3a\"],[0.8888888888888888,\"#fdca26\"],[1.0,\"#f0f921\"]]},\"colorway\":[\"#636efa\",\"#EF553B\",\"#00cc96\",\"#ab63fa\",\"#FFA15A\",\"#19d3f3\",\"#FF6692\",\"#B6E880\",\"#FF97FF\",\"#FECB52\"],\"font\":{\"color\":\"#2a3f5f\"},\"geo\":{\"bgcolor\":\"white\",\"lakecolor\":\"white\",\"landcolor\":\"#E5ECF6\",\"showlakes\":true,\"showland\":true,\"subunitcolor\":\"white\"},\"hoverlabel\":{\"align\":\"left\"},\"hovermode\":\"closest\",\"mapbox\":{\"style\":\"light\"},\"paper_bgcolor\":\"white\",\"plot_bgcolor\":\"#E5ECF6\",\"polar\":{\"angularaxis\":{\"gridcolor\":\"white\",\"linecolor\":\"white\",\"ticks\":\"\"},\"bgcolor\":\"#E5ECF6\",\"radialaxis\":{\"gridcolor\":\"white\",\"linecolor\":\"white\",\"ticks\":\"\"}},\"scene\":{\"xaxis\":{\"backgroundcolor\":\"#E5ECF6\",\"gridcolor\":\"white\",\"gridwidth\":2,\"linecolor\":\"white\",\"showbackground\":true,\"ticks\":\"\",\"zerolinecolor\":\"white\"},\"yaxis\":{\"backgroundcolor\":\"#E5ECF6\",\"gridcolor\":\"white\",\"gridwidth\":2,\"linecolor\":\"white\",\"showbackground\":true,\"ticks\":\"\",\"zerolinecolor\":\"white\"},\"zaxis\":{\"backgroundcolor\":\"#E5ECF6\",\"gridcolor\":\"white\",\"gridwidth\":2,\"linecolor\":\"white\",\"showbackground\":true,\"ticks\":\"\",\"zerolinecolor\":\"white\"}},\"shapedefaults\":{\"line\":{\"color\":\"#2a3f5f\"}},\"ternary\":{\"aaxis\":{\"gridcolor\":\"white\",\"linecolor\":\"white\",\"ticks\":\"\"},\"baxis\":{\"gridcolor\":\"white\",\"linecolor\":\"white\",\"ticks\":\"\"},\"bgcolor\":\"#E5ECF6\",\"caxis\":{\"gridcolor\":\"white\",\"linecolor\":\"white\",\"ticks\":\"\"}},\"title\":{\"x\":0.05},\"xaxis\":{\"automargin\":true,\"gridcolor\":\"white\",\"linecolor\":\"white\",\"ticks\":\"\",\"title\":{\"standoff\":15},\"zerolinecolor\":\"white\",\"zerolinewidth\":2},\"yaxis\":{\"automargin\":true,\"gridcolor\":\"white\",\"linecolor\":\"white\",\"ticks\":\"\",\"title\":{\"standoff\":15},\"zerolinecolor\":\"white\",\"zerolinewidth\":2}}},\"title\":{\"font\":{\"color\":\"#4D5663\"}},\"xaxis\":{\"anchor\":\"y\",\"domain\":[0.0,0.2125],\"gridcolor\":\"#E1E5ED\",\"showgrid\":false,\"tickfont\":{\"color\":\"#4D5663\"},\"title\":{\"font\":{\"color\":\"#4D5663\"},\"text\":\"\"},\"zerolinecolor\":\"#E1E5ED\"},\"yaxis\":{\"anchor\":\"x\",\"domain\":[0.8025,1.0],\"gridcolor\":\"#E1E5ED\",\"showgrid\":false,\"tickfont\":{\"color\":\"#4D5663\"},\"title\":{\"font\":{\"color\":\"#4D5663\"},\"text\":\"\"},\"zerolinecolor\":\"#E1E5ED\"},\"xaxis2\":{\"anchor\":\"y2\",\"domain\":[0.2625,0.475],\"gridcolor\":\"#E1E5ED\",\"showgrid\":false,\"tickfont\":{\"color\":\"#4D5663\"},\"title\":{\"font\":{\"color\":\"#4D5663\"},\"text\":\"\"},\"zerolinecolor\":\"#E1E5ED\"},\"yaxis2\":{\"anchor\":\"x2\",\"domain\":[0.8025,1.0],\"gridcolor\":\"#E1E5ED\",\"showgrid\":false,\"tickfont\":{\"color\":\"#4D5663\"},\"title\":{\"font\":{\"color\":\"#4D5663\"},\"text\":\"\"},\"zerolinecolor\":\"#E1E5ED\"},\"xaxis3\":{\"anchor\":\"y3\",\"domain\":[0.525,0.7375],\"gridcolor\":\"#E1E5ED\",\"showgrid\":false,\"tickfont\":{\"color\":\"#4D5663\"},\"title\":{\"font\":{\"color\":\"#4D5663\"},\"text\":\"\"},\"zerolinecolor\":\"#E1E5ED\"},\"yaxis3\":{\"anchor\":\"x3\",\"domain\":[0.8025,1.0],\"gridcolor\":\"#E1E5ED\",\"showgrid\":false,\"tickfont\":{\"color\":\"#4D5663\"},\"title\":{\"font\":{\"color\":\"#4D5663\"},\"text\":\"\"},\"zerolinecolor\":\"#E1E5ED\"},\"xaxis4\":{\"anchor\":\"y4\",\"domain\":[0.7875,1.0],\"gridcolor\":\"#E1E5ED\",\"showgrid\":false,\"tickfont\":{\"color\":\"#4D5663\"},\"title\":{\"font\":{\"color\":\"#4D5663\"},\"text\":\"\"},\"zerolinecolor\":\"#E1E5ED\"},\"yaxis4\":{\"anchor\":\"x4\",\"domain\":[0.8025,1.0],\"gridcolor\":\"#E1E5ED\",\"showgrid\":false,\"tickfont\":{\"color\":\"#4D5663\"},\"title\":{\"font\":{\"color\":\"#4D5663\"},\"text\":\"\"},\"zerolinecolor\":\"#E1E5ED\"},\"xaxis5\":{\"anchor\":\"y5\",\"domain\":[0.0,0.2125],\"gridcolor\":\"#E1E5ED\",\"showgrid\":false,\"tickfont\":{\"color\":\"#4D5663\"},\"title\":{\"font\":{\"color\":\"#4D5663\"},\"text\":\"\"},\"zerolinecolor\":\"#E1E5ED\"},\"yaxis5\":{\"anchor\":\"x5\",\"domain\":[0.535,0.7325],\"gridcolor\":\"#E1E5ED\",\"showgrid\":false,\"tickfont\":{\"color\":\"#4D5663\"},\"title\":{\"font\":{\"color\":\"#4D5663\"},\"text\":\"\"},\"zerolinecolor\":\"#E1E5ED\"},\"xaxis6\":{\"anchor\":\"y6\",\"domain\":[0.2625,0.475],\"gridcolor\":\"#E1E5ED\",\"showgrid\":false,\"tickfont\":{\"color\":\"#4D5663\"},\"title\":{\"font\":{\"color\":\"#4D5663\"},\"text\":\"\"},\"zerolinecolor\":\"#E1E5ED\"},\"yaxis6\":{\"anchor\":\"x6\",\"domain\":[0.535,0.7325],\"gridcolor\":\"#E1E5ED\",\"showgrid\":false,\"tickfont\":{\"color\":\"#4D5663\"},\"title\":{\"font\":{\"color\":\"#4D5663\"},\"text\":\"\"},\"zerolinecolor\":\"#E1E5ED\"},\"xaxis7\":{\"anchor\":\"y7\",\"domain\":[0.525,0.7375],\"gridcolor\":\"#E1E5ED\",\"showgrid\":false,\"tickfont\":{\"color\":\"#4D5663\"},\"title\":{\"font\":{\"color\":\"#4D5663\"},\"text\":\"\"},\"zerolinecolor\":\"#E1E5ED\"},\"yaxis7\":{\"anchor\":\"x7\",\"domain\":[0.535,0.7325],\"gridcolor\":\"#E1E5ED\",\"showgrid\":false,\"tickfont\":{\"color\":\"#4D5663\"},\"title\":{\"font\":{\"color\":\"#4D5663\"},\"text\":\"\"},\"zerolinecolor\":\"#E1E5ED\"},\"xaxis8\":{\"anchor\":\"y8\",\"domain\":[0.7875,1.0],\"gridcolor\":\"#E1E5ED\",\"showgrid\":false,\"tickfont\":{\"color\":\"#4D5663\"},\"title\":{\"font\":{\"color\":\"#4D5663\"},\"text\":\"\"},\"zerolinecolor\":\"#E1E5ED\"},\"yaxis8\":{\"anchor\":\"x8\",\"domain\":[0.535,0.7325],\"gridcolor\":\"#E1E5ED\",\"showgrid\":false,\"tickfont\":{\"color\":\"#4D5663\"},\"title\":{\"font\":{\"color\":\"#4D5663\"},\"text\":\"\"},\"zerolinecolor\":\"#E1E5ED\"},\"xaxis9\":{\"anchor\":\"y9\",\"domain\":[0.0,0.2125],\"gridcolor\":\"#E1E5ED\",\"showgrid\":false,\"tickfont\":{\"color\":\"#4D5663\"},\"title\":{\"font\":{\"color\":\"#4D5663\"},\"text\":\"\"},\"zerolinecolor\":\"#E1E5ED\"},\"yaxis9\":{\"anchor\":\"x9\",\"domain\":[0.2675,0.465],\"gridcolor\":\"#E1E5ED\",\"showgrid\":false,\"tickfont\":{\"color\":\"#4D5663\"},\"title\":{\"font\":{\"color\":\"#4D5663\"},\"text\":\"\"},\"zerolinecolor\":\"#E1E5ED\"},\"xaxis10\":{\"anchor\":\"y10\",\"domain\":[0.2625,0.475],\"gridcolor\":\"#E1E5ED\",\"showgrid\":false,\"tickfont\":{\"color\":\"#4D5663\"},\"title\":{\"font\":{\"color\":\"#4D5663\"},\"text\":\"\"},\"zerolinecolor\":\"#E1E5ED\"},\"yaxis10\":{\"anchor\":\"x10\",\"domain\":[0.2675,0.465],\"gridcolor\":\"#E1E5ED\",\"showgrid\":false,\"tickfont\":{\"color\":\"#4D5663\"},\"title\":{\"font\":{\"color\":\"#4D5663\"},\"text\":\"\"},\"zerolinecolor\":\"#E1E5ED\"},\"xaxis11\":{\"anchor\":\"y11\",\"domain\":[0.525,0.7375],\"gridcolor\":\"#E1E5ED\",\"showgrid\":false,\"tickfont\":{\"color\":\"#4D5663\"},\"title\":{\"font\":{\"color\":\"#4D5663\"},\"text\":\"\"},\"zerolinecolor\":\"#E1E5ED\"},\"yaxis11\":{\"anchor\":\"x11\",\"domain\":[0.2675,0.465],\"gridcolor\":\"#E1E5ED\",\"showgrid\":false,\"tickfont\":{\"color\":\"#4D5663\"},\"title\":{\"font\":{\"color\":\"#4D5663\"},\"text\":\"\"},\"zerolinecolor\":\"#E1E5ED\"},\"xaxis12\":{\"anchor\":\"y12\",\"domain\":[0.7875,1.0],\"gridcolor\":\"#E1E5ED\",\"showgrid\":false,\"tickfont\":{\"color\":\"#4D5663\"},\"title\":{\"font\":{\"color\":\"#4D5663\"},\"text\":\"\"},\"zerolinecolor\":\"#E1E5ED\"},\"yaxis12\":{\"anchor\":\"x12\",\"domain\":[0.2675,0.465],\"gridcolor\":\"#E1E5ED\",\"showgrid\":false,\"tickfont\":{\"color\":\"#4D5663\"},\"title\":{\"font\":{\"color\":\"#4D5663\"},\"text\":\"\"},\"zerolinecolor\":\"#E1E5ED\"},\"xaxis13\":{\"anchor\":\"y13\",\"domain\":[0.0,0.2125],\"gridcolor\":\"#E1E5ED\",\"showgrid\":false,\"tickfont\":{\"color\":\"#4D5663\"},\"title\":{\"font\":{\"color\":\"#4D5663\"},\"text\":\"\"},\"zerolinecolor\":\"#E1E5ED\"},\"yaxis13\":{\"anchor\":\"x13\",\"domain\":[0.0,0.1975],\"gridcolor\":\"#E1E5ED\",\"showgrid\":false,\"tickfont\":{\"color\":\"#4D5663\"},\"title\":{\"font\":{\"color\":\"#4D5663\"},\"text\":\"\"},\"zerolinecolor\":\"#E1E5ED\"},\"xaxis14\":{\"anchor\":\"y14\",\"domain\":[0.2625,0.475],\"gridcolor\":\"#E1E5ED\",\"showgrid\":false,\"tickfont\":{\"color\":\"#4D5663\"},\"title\":{\"font\":{\"color\":\"#4D5663\"},\"text\":\"\"},\"zerolinecolor\":\"#E1E5ED\"},\"yaxis14\":{\"anchor\":\"x14\",\"domain\":[0.0,0.1975],\"gridcolor\":\"#E1E5ED\",\"showgrid\":false,\"tickfont\":{\"color\":\"#4D5663\"},\"title\":{\"font\":{\"color\":\"#4D5663\"},\"text\":\"\"},\"zerolinecolor\":\"#E1E5ED\"},\"xaxis15\":{\"anchor\":\"y15\",\"domain\":[0.525,0.7375],\"gridcolor\":\"#E1E5ED\",\"showgrid\":false,\"tickfont\":{\"color\":\"#4D5663\"},\"title\":{\"font\":{\"color\":\"#4D5663\"},\"text\":\"\"},\"zerolinecolor\":\"#E1E5ED\"},\"yaxis15\":{\"anchor\":\"x15\",\"domain\":[0.0,0.1975],\"gridcolor\":\"#E1E5ED\",\"showgrid\":false,\"tickfont\":{\"color\":\"#4D5663\"},\"title\":{\"font\":{\"color\":\"#4D5663\"},\"text\":\"\"},\"zerolinecolor\":\"#E1E5ED\"},\"xaxis16\":{\"anchor\":\"y16\",\"domain\":[0.7875,1.0],\"gridcolor\":\"#E1E5ED\",\"showgrid\":false,\"tickfont\":{\"color\":\"#4D5663\"},\"title\":{\"font\":{\"color\":\"#4D5663\"},\"text\":\"\"},\"zerolinecolor\":\"#E1E5ED\"},\"yaxis16\":{\"anchor\":\"x16\",\"domain\":[0.0,0.1975],\"gridcolor\":\"#E1E5ED\",\"showgrid\":false,\"tickfont\":{\"color\":\"#4D5663\"},\"title\":{\"font\":{\"color\":\"#4D5663\"},\"text\":\"\"},\"zerolinecolor\":\"#E1E5ED\"}},                        {\"showLink\": true, \"linkText\": \"Export to plot.ly\", \"plotlyServerURL\": \"https://plot.ly\", \"responsive\": true}                    ).then(function(){\n",
       "                            \n",
       "var gd = document.getElementById('54956021-3b6f-4f08-945f-7805a3cc57c3');\n",
       "var x = new MutationObserver(function (mutations, observer) {{\n",
       "        var display = window.getComputedStyle(gd).display;\n",
       "        if (!display || display === 'none') {{\n",
       "            console.log([gd, 'removed!']);\n",
       "            Plotly.purge(gd);\n",
       "            observer.disconnect();\n",
       "        }}\n",
       "}});\n",
       "\n",
       "// Listen for the removal of the full notebook cells\n",
       "var notebookContainer = gd.closest('#notebook-container');\n",
       "if (notebookContainer) {{\n",
       "    x.observe(notebookContainer, {childList: true});\n",
       "}}\n",
       "\n",
       "// Listen for the clearing of the current output cell\n",
       "var outputEl = gd.closest('.output');\n",
       "if (outputEl) {{\n",
       "    x.observe(outputEl, {childList: true});\n",
       "}}\n",
       "\n",
       "                        })                };                });            </script>        </div>"
      ]
     },
     "metadata": {},
     "output_type": "display_data"
    }
   ],
   "source": [
    "df.scatter_matrix()"
   ]
  },
  {
   "cell_type": "markdown",
   "metadata": {
    "collapsed": true
   },
   "source": [
    "# Great Job!"
   ]
  }
 ],
 "metadata": {
  "kernelspec": {
   "display_name": "Python 3",
   "language": "python",
   "name": "python3"
  },
  "language_info": {
   "codemirror_mode": {
    "name": "ipython",
    "version": 3
   },
   "file_extension": ".py",
   "mimetype": "text/x-python",
   "name": "python",
   "nbconvert_exporter": "python",
   "pygments_lexer": "ipython3",
   "version": "3.11.7"
  }
 },
 "nbformat": 4,
 "nbformat_minor": 0
}
